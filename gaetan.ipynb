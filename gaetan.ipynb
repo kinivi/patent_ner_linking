{
 "cells": [
  {
   "cell_type": "code",
   "execution_count": 1,
   "metadata": {},
   "outputs": [
    {
     "data": {
      "text/plain": [
       "<function spacy.pipeline.functions.merge_entities(doc: spacy.tokens.doc.Doc)>"
      ]
     },
     "execution_count": 1,
     "metadata": {},
     "output_type": "execute_result"
    }
   ],
   "source": [
    "import spacy\n",
    "from spacy.matcher import Matcher\n",
    "\n",
    "nlp = spacy.load(\"spacy_output/model-best\")\n",
    "nlp.add_pipe(\"merge_entities\")"
   ]
  },
  {
   "cell_type": "code",
   "execution_count": 2,
   "metadata": {},
   "outputs": [],
   "source": [
    "def compute_relations(patents, patterns_lhypernym, patterns_rhypernym):\n",
    "  matcher = Matcher(nlp.vocab)\n",
    "\n",
    "  matcher.add(\"LHypernym\", patterns_lhypernym)\n",
    "  matcher.add(\"RHypernym\", patterns_rhypernym)\n",
    "\n",
    "  doc = nlp(patents)\n",
    "  matches = matcher(doc)\n",
    "  print(matches)\n",
    "\n",
    "  res = {\"Hypernyms\": []}\n",
    "\n",
    "  for match_id, start, end in matches:\n",
    "    string_id = nlp.vocab.strings[match_id]\n",
    "    span = doc[start:end]  # The matched span\n",
    "\n",
    "    ent1 = span.ents[0]\n",
    "\n",
    "    for word in span.ents[1:]:\n",
    "      if string_id == \"LHypernym\":\n",
    "        res[\"Hypernyms\"].append((ent1, word))\n",
    "    \n",
    "      elif string_id == \"RHypernym\":\n",
    "        res[\"Hypernyms\"].append((word, ent1))\n",
    "      \n",
    "      else:\n",
    "        raise ValueError(f\"Unexpected match id: {string_id}\")\n",
    "\n",
    "  return res"
   ]
  },
  {
   "cell_type": "code",
   "execution_count": 3,
   "metadata": {},
   "outputs": [
    {
     "name": "stdout",
     "output_type": "stream",
     "text": [
      "[(17216739248533801034, 2, 7)]\n"
     ]
    },
    {
     "data": {
      "text/plain": [
       "{'Hypernyms': [(Wi-Fi Direct, access point)]}"
      ]
     },
     "execution_count": 3,
     "metadata": {},
     "output_type": "execute_result"
    }
   ],
   "source": [
    "patterns_rhypernym = [[{\"ENT_TYPE\": \"TECH\"},\n",
    "                      {\"LOWER\": \"include\"},\n",
    "                      {\"LOWER\": \"in\"},\n",
    "                      {\"ENT_TYPE\": \"TECH\"}]]\n",
    "\n",
    "patterns_lhypernym = [\n",
    "                      [{\"ENT_TYPE\": \"TECH\"},\n",
    "                      {\"LOWER\": \"including\"},\n",
    "                      {\"ENT_TYPE\": \"TECH\"}],\n",
    "                      \n",
    "                      [{\"ENT_TYPE\": \"TECH\"},\n",
    "                          # Optional (0 or 1 matches) of comma\n",
    "                          {\"OP\": '?', \"ORTH\": \",\"},\n",
    "                          # matches if token.lower_ == 'such'\n",
    "                          {\"LOWER\": \"such\"},\n",
    "                          {\"LOWER\": \"as\"},\n",
    "                          {\"ENT_TYPE\": \"TECH\"}]\n",
    "                     ]\n",
    "\n",
    "compute_relations(\"I used Wi-Fi Direct, such as access point, Wi-Fi Alliance. Wi-Fi Direct including wireless LAN\", patterns_lhypernym, patterns_rhypernym)"
   ]
  },
  {
   "cell_type": "code",
   "execution_count": 4,
   "metadata": {},
   "outputs": [
    {
     "data": {
      "text/html": [
       "<span class=\"tex2jax_ignore\"><div class=\"entities\" style=\"line-height: 2.5; direction: ltr\">\n",
       "<mark class=\"entity\" style=\"background: #F67DE3; padding: 0.45em 0.6em; margin: 0 0.25em; line-height: 1; border-radius: 0.35em;\">\n",
       "    Data center\n",
       "    <span style=\"font-size: 0.8em; font-weight: bold; line-height: 1; border-radius: 0.35em; vertical-align: middle; margin-left: 0.5rem\">TECH</span>\n",
       "</mark>\n",
       " (\n",
       "<mark class=\"entity\" style=\"background: #F67DE3; padding: 0.45em 0.6em; margin: 0 0.25em; line-height: 1; border-radius: 0.35em;\">\n",
       "    registered trademark\n",
       "    <span style=\"font-size: 0.8em; font-weight: bold; line-height: 1; border-radius: 0.35em; vertical-align: middle; margin-left: 0.5rem\">TECH</span>\n",
       "</mark>\n",
       ", which will be hereinafter referred to as WFD) corresponding to a technology for directly performing a communication based on a \n",
       "<mark class=\"entity\" style=\"background: #F67DE3; padding: 0.45em 0.6em; margin: 0 0.25em; line-height: 1; border-radius: 0.35em;\">\n",
       "    wireless LAN\n",
       "    <span style=\"font-size: 0.8em; font-weight: bold; line-height: 1; border-radius: 0.35em; vertical-align: middle; margin-left: 0.5rem\">TECH</span>\n",
       "</mark>\n",
       " between communication devices without intermediation of an \n",
       "<mark class=\"entity\" style=\"background: #F67DE3; padding: 0.45em 0.6em; margin: 0 0.25em; line-height: 1; border-radius: 0.35em;\">\n",
       "    access point\n",
       "    <span style=\"font-size: 0.8em; font-weight: bold; line-height: 1; border-radius: 0.35em; vertical-align: middle; margin-left: 0.5rem\">TECH</span>\n",
       "</mark>\n",
       " (hereinafter referred to as AP) is standardized in Wi-Fi Alliance serving as a \n",
       "<mark class=\"entity\" style=\"background: #F67DE3; padding: 0.45em 0.6em; margin: 0 0.25em; line-height: 1; border-radius: 0.35em;\">\n",
       "    wireless LAN\n",
       "    <span style=\"font-size: 0.8em; font-weight: bold; line-height: 1; border-radius: 0.35em; vertical-align: middle; margin-left: 0.5rem\">TECH</span>\n",
       "</mark>\n",
       " industry group.</div></span>"
      ],
      "text/plain": [
       "<IPython.core.display.HTML object>"
      ]
     },
     "metadata": {},
     "output_type": "display_data"
    }
   ],
   "source": [
    "doc = nlp(\"Wi-Fi Direct (registered trademark, which will be hereinafter referred to as WFD) corresponding to a technology for directly performing a communication based on a wireless LAN between communication devices without intermediation of an access point (hereinafter referred to as AP) is standardized in Wi-Fi Alliance serving as a wireless LAN industry group.\")\n",
    "\n",
    "colors = {\"TECH\": \"#F67DE3\"}\n",
    "options = {\"colors\": colors} \n",
    "\n",
    "spacy.displacy.render(doc, style=\"ent\", options=options, jupyter=True)"
   ]
  },
  {
   "cell_type": "code",
   "execution_count": null,
   "metadata": {},
   "outputs": [],
   "source": []
  }
 ],
 "metadata": {
  "interpreter": {
   "hash": "9110b66360824545d7a7f0dbdfe5ab5407629db7e29fd63eb77836dd53cde7d8"
  },
  "kernelspec": {
   "display_name": "Python 3.9.12 ('ML')",
   "language": "python",
   "name": "python3"
  },
  "language_info": {
   "codemirror_mode": {
    "name": "ipython",
    "version": 3
   },
   "file_extension": ".py",
   "mimetype": "text/x-python",
   "name": "python",
   "nbconvert_exporter": "python",
   "pygments_lexer": "ipython3",
   "version": "3.9.12"
  },
  "orig_nbformat": 4
 },
 "nbformat": 4,
 "nbformat_minor": 2
}
