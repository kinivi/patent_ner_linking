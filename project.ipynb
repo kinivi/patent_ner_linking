{
 "cells": [
  {
   "cell_type": "markdown",
   "id": "604a1483-2ecb-444d-8ffc-802648c34911",
   "metadata": {},
   "source": [
    "# Information Retrieval project 2022"
   ]
  },
  {
   "cell_type": "markdown",
   "id": "f8ec106c",
   "metadata": {},
   "source": [
    "### Names\n",
    "+ Mashra Marwan\n",
    "+ Kiselov Nikita\n",
    "+ Serré Gaëtan"
   ]
  },
  {
   "cell_type": "markdown",
   "id": "1072fe45",
   "metadata": {},
   "source": [
    "## Imports"
   ]
  },
  {
   "cell_type": "code",
   "execution_count": 1,
   "id": "c48f9c4b-cdb4-4eab-aae2-3f4c6f81793f",
   "metadata": {},
   "outputs": [
    {
     "name": "stderr",
     "output_type": "stream",
     "text": [
      "[nltk_data] Downloading package wordnet to /Users/nkise/nltk_data...\n",
      "[nltk_data]   Package wordnet is already up-to-date!\n",
      "[nltk_data] Downloading package omw-1.4 to /Users/nkise/nltk_data...\n",
      "[nltk_data]   Package omw-1.4 is already up-to-date!\n"
     ]
    },
    {
     "data": {
      "text/plain": [
       "'3.2.4'"
      ]
     },
     "execution_count": 1,
     "metadata": {},
     "output_type": "execute_result"
    }
   ],
   "source": [
    "import numpy as np\n",
    "import pandas as pd\n",
    "from tqdm.notebook import tqdm\n",
    "from sklearn.model_selection import train_test_split\n",
    "from sklearn.feature_extraction.text import CountVectorizer\n",
    "import spacy\n",
    "from spacy.matcher import PhraseMatcher\n",
    "from spacy.util import filter_spans\n",
    "from spacy import displacy\n",
    "from spacy.tokens import DocBin\n",
    "from spacy.tokens import Span\n",
    "from collections import Counter\n",
    "from nltk.tokenize import MWETokenizer\n",
    "from nltk.util import Trie\n",
    "import nltk\n",
    "from nltk.corpus import wordnet as wn\n",
    "nltk.download('wordnet')\n",
    "nltk.download('omw-1.4')\n",
    "tqdm.pandas()\n",
    "spacy.__version__ "
   ]
  },
  {
   "cell_type": "markdown",
   "id": "d4f564de",
   "metadata": {},
   "source": [
    "Our first goal here is to create a model capable of recognizing the term in our patents. For that, we will be using a Named Entity Recognition model given by `spacy`."
   ]
  },
  {
   "cell_type": "markdown",
   "id": "8632e188",
   "metadata": {},
   "source": [
    "## Read and preprocess data"
   ]
  },
  {
   "cell_type": "code",
   "execution_count": 2,
   "id": "fb325a64-2f8b-4f2f-aae8-be361087e045",
   "metadata": {},
   "outputs": [],
   "source": [
    "# if you've already unzipped the file\n",
    "patent_data=open('G06K.txt').read().strip()\n",
    "\n",
    "# split into patents texts | 1 entry = 1 patent\n",
    "patent_texts = patent_data.split('\\n\\n')\n",
    "\n",
    "# split each patent into lines\n",
    "patent_lines = patent_data.split('\\n')"
   ]
  },
  {
   "cell_type": "markdown",
   "id": "81139208",
   "metadata": {},
   "source": [
    "## 👀 Extract features"
   ]
  },
  {
   "cell_type": "code",
   "execution_count": 3,
   "id": "e9f35b92",
   "metadata": {},
   "outputs": [
    {
     "name": "stdout",
     "output_type": "stream",
     "text": [
      "['antonio superchi', 'antonio tarver', 'antonio torres jurado', 'antonio valdes', 'antonio valdes y fernandez bazan', 'antonio valdez', 'antonio valdés y bazán', 'antonio valdés y fernández bazán', 'antonio valente', 'antonio vitali', 'antonio vivaldi', 'antonio xavier machado e cerveira']\n",
      "743274 mwes\n"
     ]
    }
   ],
   "source": [
    "# here are the potential terms\n",
    "mwes = open('manyterms.lower.txt').read().lower().strip().split('\\n')\n",
    "print(mwes[44444:44456])\n",
    "print(len(mwes),'mwes')"
   ]
  },
  {
   "cell_type": "markdown",
   "id": "c8543e66",
   "metadata": {},
   "source": [
    "### We extract the terms from our patents using manyterms"
   ]
  },
  {
   "cell_type": "code",
   "execution_count": 4,
   "id": "8db03d6b",
   "metadata": {},
   "outputs": [
    {
     "name": "stderr",
     "output_type": "stream",
     "text": [
      "/Users/nkise/miniforge3/envs/uni-env/lib/python3.9/site-packages/sklearn/feature_extraction/text.py:1322: UserWarning: Upper case characters found in vocabulary while 'lowercase' is True. These entries will not be matched with any documents\n",
      "  warnings.warn(\n",
      "/Users/nkise/miniforge3/envs/uni-env/lib/python3.9/site-packages/sklearn/utils/deprecation.py:87: FutureWarning: Function get_feature_names is deprecated; get_feature_names is deprecated in 1.0 and will be removed in 1.2. Please use get_feature_names_out instead.\n",
      "  warnings.warn(msg, category=FutureWarning)\n"
     ]
    },
    {
     "data": {
      "text/html": [
       "<div>\n",
       "<style scoped>\n",
       "    .dataframe tbody tr th:only-of-type {\n",
       "        vertical-align: middle;\n",
       "    }\n",
       "\n",
       "    .dataframe tbody tr th {\n",
       "        vertical-align: top;\n",
       "    }\n",
       "\n",
       "    .dataframe thead th {\n",
       "        text-align: right;\n",
       "    }\n",
       "</style>\n",
       "<table border=\"1\" class=\"dataframe\">\n",
       "  <thead>\n",
       "    <tr style=\"text-align: right;\">\n",
       "      <th></th>\n",
       "      <th>0</th>\n",
       "    </tr>\n",
       "  </thead>\n",
       "  <tbody>\n",
       "    <tr>\n",
       "      <th>electronic device</th>\n",
       "      <td>16280</td>\n",
       "    </tr>\n",
       "    <tr>\n",
       "      <th>image processing</th>\n",
       "      <td>12224</td>\n",
       "    </tr>\n",
       "    <tr>\n",
       "      <th>control unit</th>\n",
       "      <td>9263</td>\n",
       "    </tr>\n",
       "    <tr>\n",
       "      <th>mobile terminal</th>\n",
       "      <td>9165</td>\n",
       "    </tr>\n",
       "    <tr>\n",
       "      <th>information processing</th>\n",
       "      <td>7732</td>\n",
       "    </tr>\n",
       "    <tr>\n",
       "      <th>neural network</th>\n",
       "      <td>6734</td>\n",
       "    </tr>\n",
       "    <tr>\n",
       "      <th>user interface</th>\n",
       "      <td>6177</td>\n",
       "    </tr>\n",
       "    <tr>\n",
       "      <th>computer readable</th>\n",
       "      <td>6103</td>\n",
       "    </tr>\n",
       "    <tr>\n",
       "      <th>fingerprint sensor</th>\n",
       "      <td>5980</td>\n",
       "    </tr>\n",
       "    <tr>\n",
       "      <th>display device</th>\n",
       "      <td>5666</td>\n",
       "    </tr>\n",
       "    <tr>\n",
       "      <th>light source</th>\n",
       "      <td>5014</td>\n",
       "    </tr>\n",
       "    <tr>\n",
       "      <th>block diagram</th>\n",
       "      <td>4597</td>\n",
       "    </tr>\n",
       "    <tr>\n",
       "      <th>image sensor</th>\n",
       "      <td>4421</td>\n",
       "    </tr>\n",
       "    <tr>\n",
       "      <th>computing device</th>\n",
       "      <td>4407</td>\n",
       "    </tr>\n",
       "    <tr>\n",
       "      <th>road surface</th>\n",
       "      <td>4398</td>\n",
       "    </tr>\n",
       "    <tr>\n",
       "      <th>storage medium</th>\n",
       "      <td>4377</td>\n",
       "    </tr>\n",
       "    <tr>\n",
       "      <th>fingerprint recognition</th>\n",
       "      <td>3848</td>\n",
       "    </tr>\n",
       "    <tr>\n",
       "      <th>machine learning</th>\n",
       "      <td>3778</td>\n",
       "    </tr>\n",
       "    <tr>\n",
       "      <th>control device</th>\n",
       "      <td>3714</td>\n",
       "    </tr>\n",
       "    <tr>\n",
       "      <th>point cloud</th>\n",
       "      <td>3713</td>\n",
       "    </tr>\n",
       "    <tr>\n",
       "      <th>threshold value</th>\n",
       "      <td>3705</td>\n",
       "    </tr>\n",
       "    <tr>\n",
       "      <th>data processing</th>\n",
       "      <td>3366</td>\n",
       "    </tr>\n",
       "    <tr>\n",
       "      <th>real time</th>\n",
       "      <td>3353</td>\n",
       "    </tr>\n",
       "    <tr>\n",
       "      <th>wireless communication</th>\n",
       "      <td>3338</td>\n",
       "    </tr>\n",
       "    <tr>\n",
       "      <th>computer program</th>\n",
       "      <td>3206</td>\n",
       "    </tr>\n",
       "  </tbody>\n",
       "</table>\n",
       "</div>"
      ],
      "text/plain": [
       "                             0\n",
       "electronic device        16280\n",
       "image processing         12224\n",
       "control unit              9263\n",
       "mobile terminal           9165\n",
       "information processing    7732\n",
       "neural network            6734\n",
       "user interface            6177\n",
       "computer readable         6103\n",
       "fingerprint sensor        5980\n",
       "display device            5666\n",
       "light source              5014\n",
       "block diagram             4597\n",
       "image sensor              4421\n",
       "computing device          4407\n",
       "road surface              4398\n",
       "storage medium            4377\n",
       "fingerprint recognition   3848\n",
       "machine learning          3778\n",
       "control device            3714\n",
       "point cloud               3713\n",
       "threshold value           3705\n",
       "data processing           3366\n",
       "real time                 3353\n",
       "wireless communication    3338\n",
       "computer program          3206"
      ]
     },
     "execution_count": 4,
     "metadata": {},
     "output_type": "execute_result"
    }
   ],
   "source": [
    "# Here lowercase=False option is used to keep the original case of the terms, since we possibly could have term abbreviations. Like API, CAT, etc.\n",
    "cvectorizer = CountVectorizer(ngram_range=(1, 4), stop_words=\"english\", vocabulary=mwes, lowercase=True)\n",
    "X=cvectorizer.fit_transform(patent_texts)\n",
    "\n",
    "# Show top-25 most frequent terms\n",
    "termdf_cv = pd.DataFrame(np.sum(X, axis=0), columns=cvectorizer.get_feature_names()).T.sort_values(by = 0, ascending = False)\n",
    "termdf_cv.head(25)"
   ]
  },
  {
   "cell_type": "markdown",
   "id": "865bc096",
   "metadata": {},
   "source": [
    "## 🪄 SpaCy NER"
   ]
  },
  {
   "cell_type": "markdown",
   "id": "040a3849",
   "metadata": {},
   "source": [
    "Let's start from understanding. Here is an example of showing part of text on one patent with default NER."
   ]
  },
  {
   "cell_type": "code",
   "execution_count": 5,
   "id": "094a3dd9",
   "metadata": {},
   "outputs": [
    {
     "data": {
      "text/html": [
       "<span class=\"tex2jax_ignore\"><div class=\"entities\" style=\"line-height: 2.5; direction: ltr\"> PC \n",
       "<mark class=\"entity\" style=\"background: #e4e7d2; padding: 0.45em 0.6em; margin: 0 0.25em; line-height: 1; border-radius: 0.35em;\">\n",
       "    503\n",
       "    <span style=\"font-size: 0.8em; font-weight: bold; line-height: 1; border-radius: 0.35em; vertical-align: middle; margin-left: 0.5rem\">CARDINAL</span>\n",
       "</mark>\n",
       " are \n",
       "<mark class=\"entity\" style=\"background: #e4e7d2; padding: 0.45em 0.6em; margin: 0 0.25em; line-height: 1; border-radius: 0.35em;\">\n",
       "    one\n",
       "    <span style=\"font-size: 0.8em; font-weight: bold; line-height: 1; border-radius: 0.35em; vertical-align: middle; margin-left: 0.5rem\">CARDINAL</span>\n",
       "</mark>\n",
       " example of the communication device and may also be other various devices such as, for example, a smart phone, a camera, a digital television set, various digital consumer electronics, and a wearable device.</br>It should be noted that the setting device is \n",
       "<mark class=\"entity\" style=\"background: #e4e7d2; padding: 0.45em 0.6em; margin: 0 0.25em; line-height: 1; border-radius: 0.35em;\">\n",
       "    one\n",
       "    <span style=\"font-size: 0.8em; font-weight: bold; line-height: 1; border-radius: 0.35em; vertical-align: middle; margin-left: 0.5rem\">CARDINAL</span>\n",
       "</mark>\n",
       " type of the communication device, but according to the present embodiment, a communication device provided with a function for obtaining a public key of another communication device by a specific obtaining method that does not use the wireless \n",
       "<mark class=\"entity\" style=\"background: #7aecec; padding: 0.45em 0.6em; margin: 0 0.25em; line-height: 1; border-radius: 0.35em;\">\n",
       "    LAN\n",
       "    <span style=\"font-size: 0.8em; font-weight: bold; line-height: 1; border-radius: 0.35em; vertical-align: middle; margin-left: 0.5rem\">ORG</span>\n",
       "</mark>\n",
       " will be referred to as a setting device to be distinguished from the communication device that is not provided with such a function. On the other hand, a communication device that is not provided with such a function will be simply referred to as a communication device. As described above, according to the present embodiment, the smart phone \n",
       "<mark class=\"entity\" style=\"background: #e4e7d2; padding: 0.45em 0.6em; margin: 0 0.25em; line-height: 1; border-radius: 0.35em;\">\n",
       "    501\n",
       "    <span style=\"font-size: 0.8em; font-weight: bold; line-height: 1; border-radius: 0.35em; vertical-align: middle; margin-left: 0.5rem\">CARDINAL</span>\n",
       "</mark>\n",
       " is \n",
       "<mark class=\"entity\" style=\"background: #e4e7d2; padding: 0.45em 0.6em; margin: 0 0.25em; line-height: 1; border-radius: 0.35em;\">\n",
       "    one\n",
       "    <span style=\"font-size: 0.8em; font-weight: bold; line-height: 1; border-radius: 0.35em; vertical-align: middle; margin-left: 0.5rem\">CARDINAL</span>\n",
       "</mark>\n",
       " example of the setting device, and the printer \n",
       "<mark class=\"entity\" style=\"background: #e4e7d2; padding: 0.45em 0.6em; margin: 0 0.25em; line-height: 1; border-radius: 0.35em;\">\n",
       "    502\n",
       "    <span style=\"font-size: 0.8em; font-weight: bold; line-height: 1; border-radius: 0.35em; vertical-align: middle; margin-left: 0.5rem\">CARDINAL</span>\n",
       "</mark>\n",
       " and the laptop PC \n",
       "<mark class=\"entity\" style=\"background: #e4e7d2; padding: 0.45em 0.6em; margin: 0 0.25em; line-height: 1; border-radius: 0.35em;\">\n",
       "    503\n",
       "    <span style=\"font-size: 0.8em; font-weight: bold; line-height: 1; border-radius: 0.35em; vertical-align: middle; margin-left: 0.5rem\">CARDINAL</span>\n",
       "</mark>\n",
       " are \n",
       "<mark class=\"entity\" style=\"background: #e4e7d2; padding: 0.45em 0.6em; margin: 0 0.25em; line-height: 1; border-radius: 0.35em;\">\n",
       "    one\n",
       "    <span style=\"font-size: 0.8em; font-weight: bold; line-height: 1; border-radius: 0.35em; vertical-align: middle; margin-left: 0.5rem\">CARDINAL</span>\n",
       "</mark>\n",
       " example of the communication device. In addition, according to the present embodiment, the public key obtaining method using the QR code is an example of the above-described particular obtaining method. In this case, a function for reading the QR code is an example of a function for obtaining the public key of the other communication device by the particular obtaining method. Other examples of the particular obtaining method may also be \n",
       "<mark class=\"entity\" style=\"background: #7aecec; padding: 0.45em 0.6em; margin: 0 0.25em; line-height: 1; border-radius: 0.35em;\">\n",
       "    NFC\n",
       "    <span style=\"font-size: 0.8em; font-weight: bold; line-height: 1; border-radius: 0.35em; vertical-align: middle; margin-left: 0.5rem\">ORG</span>\n",
       "</mark>\n",
       ", \n",
       "<mark class=\"entity\" style=\"background: #7aecec; padding: 0.45em 0.6em; margin: 0 0.25em; line-height: 1; border-radius: 0.35em;\">\n",
       "    Bluetooth\n",
       "    <span style=\"font-size: 0.8em; font-weight: bold; line-height: 1; border-radius: 0.35em; vertical-align: middle; margin-left: 0.5rem\">ORG</span>\n",
       "</mark>\n",
       " (registered trademark), or a wireless communication other than the wireless \n",
       "<mark class=\"entity\" style=\"background: #7aecec; padding: 0.45em 0.6em; margin: 0 0.25em; line-height: 1; border-radius: 0.35em;\">\n",
       "    LAN\n",
       "    <span style=\"font-size: 0.8em; font-weight: bold; line-height: 1; border-radius: 0.35em; vertical-align: middle; margin-left: 0.5rem\">ORG</span>\n",
       "</mark>\n",
       ". In this case, an example of the function for obtaining the public key of the other communication device by the particular obtaining method includes an \n",
       "<mark class=\"entity\" style=\"background: #7aecec; padding: 0.45em 0.6em; margin: 0 0.25em; line-height: 1; border-radius: 0.35em;\">\n",
       "    NFC\n",
       "    <span style=\"font-size: 0.8em; font-weight: bold; line-height: 1; border-radius: 0.35em; vertical-align: middle; margin-left: 0.5rem\">ORG</span>\n",
       "</mark>\n",
       " reader/writer function.</br>According to the present embodiment, the smart phone \n",
       "<mark class=\"entity\" style=\"background: #e4e7d2; padding: 0.45em 0.6em; margin: 0 0.25em; line-height: 1; border-radius: 0.35em;\">\n",
       "    501\n",
       "    <span style=\"font-size: 0.8em; font-weight: bold; line-height: 1; border-radius: 0.35em; vertical-align: middle; margin-left: 0.5rem\">CARDINAL</span>\n",
       "</mark>\n",
       " serving as the setting device has the configuration of \n",
       "<mark class=\"entity\" style=\"background: #7aecec; padding: 0.45em 0.6em; margin: 0 0.25em; line-height: 1; border-radius: 0.35em;\">\n",
       "    Fig\n",
       "    <span style=\"font-size: 0.8em; font-weight: bold; line-height: 1; border-radius: 0.35em; vertical-align: middle; margin-left: 0.5rem\">ORG</span>\n",
       "</mark>\n",
       ". \n",
       "<mark class=\"entity\" style=\"background: #e4e7d2; padding: 0.45em 0.6em; margin: 0 0.25em; line-height: 1; border-radius: 0.35em;\">\n",
       "    1\n",
       "    <span style=\"font-size: 0.8em; font-weight: bold; line-height: 1; border-radius: 0.35em; vertical-align: middle; margin-left: 0.5rem\">CARDINAL</span>\n",
       "</mark>\n",
       " and \n",
       "<mark class=\"entity\" style=\"background: #7aecec; padding: 0.45em 0.6em; margin: 0 0.25em; line-height: 1; border-radius: 0.35em;\">\n",
       "    Fig\n",
       "    <span style=\"font-size: 0.8em; font-weight: bold; line-height: 1; border-radius: 0.35em; vertical-align: middle; margin-left: 0.5rem\">ORG</span>\n",
       "</mark>\n",
       ". \n",
       "<mark class=\"entity\" style=\"background: #e4e7d2; padding: 0.45em 0.6em; margin: 0 0.25em; line-height: 1; border-radius: 0.35em;\">\n",
       "    3\n",
       "    <span style=\"font-size: 0.8em; font-weight: bold; line-height: 1; border-radius: 0.35em; vertical-align: middle; margin-left: 0.5rem\">CARDINAL</span>\n",
       "</mark>\n",
       " described before. In addition, the printer \n",
       "<mark class=\"entity\" style=\"background: #e4e7d2; padding: 0.45em 0.6em; margin: 0 0.25em; line-height: 1; border-radius: 0.35em;\">\n",
       "    502\n",
       "    <span style=\"font-size: 0.8em; font-weight: bold; line-height: 1; border-radius: 0.35em; vertical-align: middle; margin-left: 0.5rem\">CARDINAL</span>\n",
       "</mark>\n",
       " and the laptop PC \n",
       "<mark class=\"entity\" style=\"background: #e4e7d2; padding: 0.45em 0.6em; margin: 0 0.25em; line-height: 1; border-radius: 0.35em;\">\n",
       "    503\n",
       "    <span style=\"font-size: 0.8em; font-weight: bold; line-height: 1; border-radius: 0.35em; vertical-align: middle; margin-left: 0.5rem\">CARDINAL</span>\n",
       "</mark>\n",
       " serving as the communication device have the configuration of \n",
       "<mark class=\"entity\" style=\"background: #7aecec; padding: 0.45em 0.6em; margin: 0 0.25em; line-height: 1; border-radius: 0.35em;\">\n",
       "    Fig\n",
       "    <span style=\"font-size: 0.8em; font-weight: bold; line-height: 1; border-radius: 0.35em; vertical-align: middle; margin-left: 0.5rem\">ORG</span>\n",
       "</mark>\n",
       ". \n",
       "<mark class=\"entity\" style=\"background: #e4e7d2; padding: 0.45em 0.6em; margin: 0 0.25em; line-height: 1; border-radius: 0.35em;\">\n",
       "    2\n",
       "    <span style=\"font-size: 0.8em; font-weight: bold; line-height: 1; border-radius: 0.35em; vertical-align: middle; margin-left: 0.5rem\">CARDINAL</span>\n",
       "</mark>\n",
       " and \n",
       "<mark class=\"entity\" style=\"background: #7aecec; padding: 0.45em 0.6em; margin: 0 0.25em; line-height: 1; border-radius: 0.35em;\">\n",
       "    Fig\n",
       "    <span style=\"font-size: 0.8em; font-weight: bold; line-height: 1; border-radius: 0.35em; vertical-align: middle; margin-left: 0.5rem\">ORG</span>\n",
       "</mark>\n",
       ". \n",
       "<mark class=\"entity\" style=\"background: #e4e7d2; padding: 0.45em 0.6em; margin: 0 0.25em; line-height: 1; border-radius: 0.35em;\">\n",
       "    4\n",
       "    <span style=\"font-size: 0.8em; font-weight: bold; line-height: 1; border-radius: 0.35em; vertical-align: middle; margin-left: 0.5rem\">CARDINAL</span>\n",
       "</mark>\n",
       " described before.</br>Fig. \n",
       "<mark class=\"entity\" style=\"background: #e4e7d2; padding: 0.45em 0.6em; margin: 0 0.25em; line-height: 1; border-radius: 0.35em;\">\n",
       "    6\n",
       "    <span style=\"font-size: 0.8em; font-weight: bold; line-height: 1; border-radius: 0.35em; vertical-align: middle; margin-left: 0.5rem\">CARDINAL</span>\n",
       "</mark>\n",
       " is a flow chart illust</div></span>"
      ],
      "text/plain": [
       "<IPython.core.display.HTML object>"
      ]
     },
     "metadata": {},
     "output_type": "display_data"
    }
   ],
   "source": [
    "nlp = spacy.load(\"en_core_web_lg\")\n",
    "doc = nlp(patent_texts[0][18000:20000]) # \n",
    "displacy.render(doc, style=\"ent\", jupyter = True)"
   ]
  },
  {
   "cell_type": "markdown",
   "id": "bedc4869",
   "metadata": {},
   "source": [
    "We want to create a such model capable of recognizing the terms that are in the context of our patents. For that, we need to create a dataset and we will be using `manyterms` as a terms database."
   ]
  },
  {
   "cell_type": "markdown",
   "id": "4a11a5c7",
   "metadata": {},
   "source": [
    "### Create DataSet"
   ]
  },
  {
   "cell_type": "markdown",
   "id": "d96e5ed8",
   "metadata": {},
   "source": [
    "We need to create propper dataset that is compatible with SpaCy 3.0 to train a NER model."
   ]
  },
  {
   "cell_type": "code",
   "execution_count": 6,
   "id": "03ee5a59",
   "metadata": {},
   "outputs": [],
   "source": [
    "matcher = PhraseMatcher(nlp.vocab, attr=\"LOWER\")\n",
    "patterns = [nlp.make_doc(text) for text in termdf_cv.index]\n",
    "matcher.add(\"Tech\", patterns)"
   ]
  },
  {
   "cell_type": "code",
   "execution_count": 7,
   "id": "03304083",
   "metadata": {},
   "outputs": [],
   "source": [
    "train_lines, test_lines = train_test_split(patent_lines, test_size=0.3, random_state=42)"
   ]
  },
  {
   "cell_type": "markdown",
   "id": "425e8ccf",
   "metadata": {},
   "source": [
    "We are using PharsesMatcher to find entities similar to one from mayterms.txt  \n",
    "Then Span is labeled and saved into the binary `.spacy` format"
   ]
  },
  {
   "cell_type": "code",
   "execution_count": 8,
   "id": "466965e2",
   "metadata": {},
   "outputs": [],
   "source": [
    "def create_dataset(text, n_lines, filename, offset=0):\n",
    "  LABEL = \"TECH\"\n",
    "  doc_bin = DocBin() # create a DocBin object\n",
    "\n",
    "  for training_example  in tqdm(text[offset:offset+n_lines]):\n",
    "      doc = nlp.make_doc(training_example) \n",
    "      ents = []\n",
    "      \n",
    "      for match_id, start, end in matcher(doc):\n",
    "          span = Span(doc, start, end, label=LABEL)\n",
    "          if span is None:\n",
    "              print(\"Skipping entity\")\n",
    "          else:\n",
    "              ents.append(span)\n",
    "\n",
    "      filtered_ents = filter_spans(ents)\n",
    "      doc.ents = filtered_ents \n",
    "      doc_bin.add(doc)\n",
    "  doc_bin.to_disk(filename)"
   ]
  },
  {
   "cell_type": "markdown",
   "id": "d8236397",
   "metadata": {},
   "source": [
    "Uncomment to re-save the dataset:"
   ]
  },
  {
   "cell_type": "code",
   "execution_count": 9,
   "id": "61472477",
   "metadata": {},
   "outputs": [
    {
     "data": {
      "application/vnd.jupyter.widget-view+json": {
       "model_id": "ed40583115c64e738e6de2441d1f4368",
       "version_major": 2,
       "version_minor": 0
      },
      "text/plain": [
       "  0%|          | 0/40000 [00:00<?, ?it/s]"
      ]
     },
     "metadata": {},
     "output_type": "display_data"
    },
    {
     "data": {
      "application/vnd.jupyter.widget-view+json": {
       "model_id": "4188f55ae26e42248df6ee7b10f5ba4c",
       "version_major": 2,
       "version_minor": 0
      },
      "text/plain": [
       "  0%|          | 0/12000 [00:00<?, ?it/s]"
      ]
     },
     "metadata": {},
     "output_type": "display_data"
    }
   ],
   "source": [
    "# create_dataset(train_lines, 40_000, \"training_data.spacy\")\n",
    "# create_dataset(test_lines, 12_000, \"valid_data.spacy\")"
   ]
  },
  {
   "cell_type": "markdown",
   "id": "382425f8",
   "metadata": {},
   "source": [
    "Now that our datasets are created, we can train a spacy NER model."
   ]
  },
  {
   "cell_type": "markdown",
   "id": "78cb93f6",
   "metadata": {},
   "source": [
    "### Train the model"
   ]
  },
  {
   "cell_type": "markdown",
   "id": "f5578e31",
   "metadata": {},
   "source": [
    "Donwnload __base_config.cfg__ for your system at https://spacy.io/usage/training#quickstart"
   ]
  },
  {
   "cell_type": "code",
   "execution_count": 10,
   "id": "e3cd8a81",
   "metadata": {},
   "outputs": [
    {
     "name": "stdout",
     "output_type": "stream",
     "text": [
      "\u001b[38;5;2m✔ Auto-filled config with all values\u001b[0m\n",
      "\u001b[38;5;2m✔ Saved config\u001b[0m\n",
      "config.cfg\n",
      "You can now add your data and train your pipeline:\n",
      "python -m spacy train config.cfg --paths.train ./train.spacy --paths.dev ./dev.spacy\n"
     ]
    }
   ],
   "source": [
    "# Run to generate full training config\n",
    "# !python -m spacy init fill-config base_config.cfg config.cfg"
   ]
  },
  {
   "cell_type": "markdown",
   "id": "aba2d3df",
   "metadata": {},
   "source": [
    "Run the training. The best and last model will be stored into __./spacy_output__  "
   ]
  },
  {
   "cell_type": "code",
   "execution_count": 11,
   "id": "9ae2949c",
   "metadata": {},
   "outputs": [],
   "source": [
    "# !python -m spacy train config.cfg --output ./spacy_output --paths.train ./training_data.spacy --paths.dev ./valid_data.spacy --gpu-id 0"
   ]
  },
  {
   "cell_type": "markdown",
   "id": "6df35c0b",
   "metadata": {},
   "source": [
    "### 💻 Load pre-trained model"
   ]
  },
  {
   "cell_type": "code",
   "execution_count": 17,
   "id": "f5e23c95",
   "metadata": {},
   "outputs": [
    {
     "name": "stdout",
     "output_type": "stream",
     "text": [
      "/Users/nkise/Desktop/Paris-Saclay 🎓/Information retrieval/patent_ner_linking\n"
     ]
    }
   ],
   "source": [
    "!git lfs install\n",
    "!git clone https://huggingface.co/kinivi/ner_patent_g06k"
   ]
  },
  {
   "cell_type": "markdown",
   "id": "6df35c0b",
   "metadata": {},
   "source": [
    "### Test the model"
   ]
  },
  {
   "cell_type": "code",
   "execution_count": null,
   "id": "d3374131",
   "metadata": {},
   "outputs": [],
   "source": [
    "nlp = spacy.load(\"./ner_patent_g06k/spacy_output/model-best\")\n",
    "\n",
    "doc = nlp(\"Wi-Fi Direct (registered trademark, which will be hereinafter referred to as WFD) \\\n",
    "           corresponding to a technology for directly performing a communication based on a \\\n",
    "           wireless LAN between communication devices without intermediation of an access \\\n",
    "           point (hereinafter referred to as AP) is standardized in Wi-Fi Alliance serving \\\n",
    "           as a wireless LAN industry group.\")\n",
    "\n",
    "colors = {\"TECH\": \"#F67DE3\"}\n",
    "options = {\"colors\": colors} \n",
    "\n",
    "spacy.displacy.render(doc, style=\"ent\", options=options, jupyter=True)"
   ]
  },
  {
   "cell_type": "markdown",
   "id": "f70c4897",
   "metadata": {},
   "source": [
    "In our patents, a lot of terms are abbreviated.\n",
    "For example, `WI-FI Direct` is mentioned as `WFD`, or `P2P Group Owner` as `GO`.\n",
    "\n",
    "Our original model does not recognize these abbreviations and therefore a huge part of the terms are ignored.\n",
    "So we will fine-tune our model using prodigy"
   ]
  },
  {
   "cell_type": "markdown",
   "id": "91010601",
   "metadata": {},
   "source": [
    "## 🦄 Prodigy"
   ]
  },
  {
   "cell_type": "markdown",
   "id": "3dc0db74",
   "metadata": {},
   "source": [
    "We create a train dataset for fine-tuning our ner model."
   ]
  },
  {
   "cell_type": "code",
   "execution_count": null,
   "id": "6da3c3b7",
   "metadata": {},
   "outputs": [],
   "source": [
    "# !prodigy ner.correct fine_tune_g06k2 spacy_output/model-best G06K.txt --loader txt --label TECH"
   ]
  },
  {
   "cell_type": "markdown",
   "id": "1d85e743",
   "metadata": {},
   "source": [
    "<img src=img/annotations.png style=\"width: 40%; height:40%\"></img>"
   ]
  },
  {
   "cell_type": "markdown",
   "id": "52543ec3",
   "metadata": {},
   "source": [
    "Now let's fine-tune our model!"
   ]
  },
  {
   "cell_type": "code",
   "execution_count": null,
   "id": "62103584",
   "metadata": {},
   "outputs": [],
   "source": [
    "# !prodigy train ./prodigy_output/ --ner fine_tune_g06k --base-model spacy_output/model-best --gpu-id 0"
   ]
  },
  {
   "cell_type": "markdown",
   "id": "412acd95",
   "metadata": {},
   "source": [
    "Now our refined model should recognize better the abbreviations."
   ]
  },
  {
   "cell_type": "code",
   "execution_count": 13,
   "id": "5174e6b1",
   "metadata": {},
   "outputs": [
    {
     "data": {
      "text/html": [
       "<span class=\"tex2jax_ignore\"><div class=\"entities\" style=\"line-height: 2.5; direction: ltr\">According to the \n",
       "<mark class=\"entity\" style=\"background: #F67DE3; padding: 0.45em 0.6em; margin: 0 0.25em; line-height: 1; border-radius: 0.35em;\">\n",
       "    WFD\n",
       "    <span style=\"font-size: 0.8em; font-weight: bold; line-height: 1; border-radius: 0.35em; vertical-align: middle; margin-left: 0.5rem\">TECH</span>\n",
       "</mark>\n",
       ", the communication is performed when one of the            \n",
       "<mark class=\"entity\" style=\"background: #F67DE3; padding: 0.45em 0.6em; margin: 0 0.25em; line-height: 1; border-radius: 0.35em;\">\n",
       "    communication devices\n",
       "    <span style=\"font-size: 0.8em; font-weight: bold; line-height: 1; border-radius: 0.35em; vertical-align: middle; margin-left: 0.5rem\">TECH</span>\n",
       "</mark>\n",
       " that directly perform the \n",
       "<mark class=\"entity\" style=\"background: #F67DE3; padding: 0.45em 0.6em; margin: 0 0.25em; line-height: 1; border-radius: 0.35em;\">\n",
       "    wireless LAN\n",
       "    <span style=\"font-size: 0.8em; font-weight: bold; line-height: 1; border-radius: 0.35em; vertical-align: middle; margin-left: 0.5rem\">TECH</span>\n",
       "</mark>\n",
       " communication            operates as the \n",
       "<mark class=\"entity\" style=\"background: #F67DE3; padding: 0.45em 0.6em; margin: 0 0.25em; line-height: 1; border-radius: 0.35em;\">\n",
       "    AP\n",
       "    <span style=\"font-size: 0.8em; font-weight: bold; line-height: 1; border-radius: 0.35em; vertical-align: middle; margin-left: 0.5rem\">TECH</span>\n",
       "</mark>\n",
       ". According to the \n",
       "<mark class=\"entity\" style=\"background: #F67DE3; padding: 0.45em 0.6em; margin: 0 0.25em; line-height: 1; border-radius: 0.35em;\">\n",
       "    WFD\n",
       "    <span style=\"font-size: 0.8em; font-weight: bold; line-height: 1; border-radius: 0.35em; vertical-align: middle; margin-left: 0.5rem\">TECH</span>\n",
       "</mark>\n",
       ", a role of the device that operates            as the \n",
       "<mark class=\"entity\" style=\"background: #F67DE3; padding: 0.45em 0.6em; margin: 0 0.25em; line-height: 1; border-radius: 0.35em;\">\n",
       "    AP\n",
       "    <span style=\"font-size: 0.8em; font-weight: bold; line-height: 1; border-radius: 0.35em; vertical-align: middle; margin-left: 0.5rem\">TECH</span>\n",
       "</mark>\n",
       " will be referred to as \n",
       "<mark class=\"entity\" style=\"background: #F67DE3; padding: 0.45em 0.6em; margin: 0 0.25em; line-height: 1; border-radius: 0.35em;\">\n",
       "    P2P Group Owner\n",
       "    <span style=\"font-size: 0.8em; font-weight: bold; line-height: 1; border-radius: 0.35em; vertical-align: middle; margin-left: 0.5rem\">TECH</span>\n",
       "</mark>\n",
       " (hereinafter, referred to as \n",
       "<mark class=\"entity\" style=\"background: #F67DE3; padding: 0.45em 0.6em; margin: 0 0.25em; line-height: 1; border-radius: 0.35em;\">\n",
       "    GO\n",
       "    <span style=\"font-size: 0.8em; font-weight: bold; line-height: 1; border-radius: 0.35em; vertical-align: middle; margin-left: 0.5rem\">TECH</span>\n",
       "</mark>\n",
       ").            On the other hand, a role of the device that participates in a network generated by            the \n",
       "<mark class=\"entity\" style=\"background: #F67DE3; padding: 0.45em 0.6em; margin: 0 0.25em; line-height: 1; border-radius: 0.35em;\">\n",
       "    GO\n",
       "    <span style=\"font-size: 0.8em; font-weight: bold; line-height: 1; border-radius: 0.35em; vertical-align: middle; margin-left: 0.5rem\">TECH</span>\n",
       "</mark>\n",
       " will be referred to as \n",
       "<mark class=\"entity\" style=\"background: #F67DE3; padding: 0.45em 0.6em; margin: 0 0.25em; line-height: 1; border-radius: 0.35em;\">\n",
       "    P2P Client\n",
       "    <span style=\"font-size: 0.8em; font-weight: bold; line-height: 1; border-radius: 0.35em; vertical-align: middle; margin-left: 0.5rem\">TECH</span>\n",
       "</mark>\n",
       " (hereinafter, referred to as \n",
       "<mark class=\"entity\" style=\"background: #F67DE3; padding: 0.45em 0.6em; margin: 0 0.25em; line-height: 1; border-radius: 0.35em;\">\n",
       "    CL\n",
       "    <span style=\"font-size: 0.8em; font-weight: bold; line-height: 1; border-radius: 0.35em; vertical-align: middle; margin-left: 0.5rem\">TECH</span>\n",
       "</mark>\n",
       ").            According to the \n",
       "<mark class=\"entity\" style=\"background: #F67DE3; padding: 0.45em 0.6em; margin: 0 0.25em; line-height: 1; border-radius: 0.35em;\">\n",
       "    WFD\n",
       "    <span style=\"font-size: 0.8em; font-weight: bold; line-height: 1; border-radius: 0.35em; vertical-align: middle; margin-left: 0.5rem\">TECH</span>\n",
       "</mark>\n",
       ", a \n",
       "<mark class=\"entity\" style=\"background: #F67DE3; padding: 0.45em 0.6em; margin: 0 0.25em; line-height: 1; border-radius: 0.35em;\">\n",
       "    communication parameter\n",
       "    <span style=\"font-size: 0.8em; font-weight: bold; line-height: 1; border-radius: 0.35em; vertical-align: middle; margin-left: 0.5rem\">TECH</span>\n",
       "</mark>\n",
       " necessary for participating in            the network generated by the \n",
       "<mark class=\"entity\" style=\"background: #F67DE3; padding: 0.45em 0.6em; margin: 0 0.25em; line-height: 1; border-radius: 0.35em;\">\n",
       "    GO\n",
       "    <span style=\"font-size: 0.8em; font-weight: bold; line-height: 1; border-radius: 0.35em; vertical-align: middle; margin-left: 0.5rem\">TECH</span>\n",
       "</mark>\n",
       " is shared between the devices by transmitting the            \n",
       "<mark class=\"entity\" style=\"background: #F67DE3; padding: 0.45em 0.6em; margin: 0 0.25em; line-height: 1; border-radius: 0.35em;\">\n",
       "    communication parameter\n",
       "    <span style=\"font-size: 0.8em; font-weight: bold; line-height: 1; border-radius: 0.35em; vertical-align: middle; margin-left: 0.5rem\">TECH</span>\n",
       "</mark>\n",
       " from the \n",
       "<mark class=\"entity\" style=\"background: #F67DE3; padding: 0.45em 0.6em; margin: 0 0.25em; line-height: 1; border-radius: 0.35em;\">\n",
       "    GO\n",
       "    <span style=\"font-size: 0.8em; font-weight: bold; line-height: 1; border-radius: 0.35em; vertical-align: middle; margin-left: 0.5rem\">TECH</span>\n",
       "</mark>\n",
       " to the \n",
       "<mark class=\"entity\" style=\"background: #F67DE3; padding: 0.45em 0.6em; margin: 0 0.25em; line-height: 1; border-radius: 0.35em;\">\n",
       "    CL\n",
       "    <span style=\"font-size: 0.8em; font-weight: bold; line-height: 1; border-radius: 0.35em; vertical-align: middle; margin-left: 0.5rem\">TECH</span>\n",
       "</mark>\n",
       ", and thereafter, the wireless            communication according to the \n",
       "<mark class=\"entity\" style=\"background: #F67DE3; padding: 0.45em 0.6em; margin: 0 0.25em; line-height: 1; border-radius: 0.35em;\">\n",
       "    WFD\n",
       "    <span style=\"font-size: 0.8em; font-weight: bold; line-height: 1; border-radius: 0.35em; vertical-align: middle; margin-left: 0.5rem\">TECH</span>\n",
       "</mark>\n",
       " is executed on the basis of the shared \n",
       "<mark class=\"entity\" style=\"background: #F67DE3; padding: 0.45em 0.6em; margin: 0 0.25em; line-height: 1; border-radius: 0.35em;\">\n",
       "    communication parameter\n",
       "    <span style=\"font-size: 0.8em; font-weight: bold; line-height: 1; border-radius: 0.35em; vertical-align: middle; margin-left: 0.5rem\">TECH</span>\n",
       "</mark>\n",
       ".</div></span>"
      ],
      "text/plain": [
       "<IPython.core.display.HTML object>"
      ]
     },
     "metadata": {},
     "output_type": "display_data"
    }
   ],
   "source": [
    "nlp = spacy.load(\"./ner_patent_g06k/prodigy_output/model-best\")\n",
    "\n",
    "doc = nlp(\"According to the WFD, the communication is performed when one of the \\\n",
    "           communication devices that directly perform the wireless LAN communication \\\n",
    "           operates as the AP. According to the WFD, a role of the device that operates \\\n",
    "           as the AP will be referred to as P2P Group Owner (hereinafter, referred to as GO). \\\n",
    "           On the other hand, a role of the device that participates in a network generated by \\\n",
    "           the GO will be referred to as P2P Client (hereinafter, referred to as CL). \\\n",
    "           According to the WFD, a communication parameter necessary for participating in \\\n",
    "           the network generated by the GO is shared between the devices by transmitting the \\\n",
    "           communication parameter from the GO to the CL, and thereafter, the wireless \\\n",
    "           communication according to the WFD is executed on the basis of the shared communication parameter.\")\n",
    "\n",
    "colors = {\"TECH\": \"#F67DE3\"}\n",
    "options = {\"colors\": colors} \n",
    "\n",
    "spacy.displacy.render(doc, style=\"ent\", options=options, jupyter=True)"
   ]
  },
  {
   "cell_type": "markdown",
   "id": "eb9455da",
   "metadata": {},
   "source": [
    "This fine tuned model is more accurate than the first one. We will use it in our Hearst patterns recognition."
   ]
  },
  {
   "cell_type": "markdown",
   "id": "51af0cf8",
   "metadata": {},
   "source": [
    "## 🏆 Evaluation"
   ]
  },
  {
   "cell_type": "markdown",
   "id": "36ffee99",
   "metadata": {},
   "source": [
    "#### Load model and data"
   ]
  },
  {
   "cell_type": "code",
   "execution_count": 25,
   "id": "d0b001c3",
   "metadata": {},
   "outputs": [
    {
     "data": {
      "text/html": [
       "<div>\n",
       "<style scoped>\n",
       "    .dataframe tbody tr th:only-of-type {\n",
       "        vertical-align: middle;\n",
       "    }\n",
       "\n",
       "    .dataframe tbody tr th {\n",
       "        vertical-align: top;\n",
       "    }\n",
       "\n",
       "    .dataframe thead th {\n",
       "        text-align: right;\n",
       "    }\n",
       "</style>\n",
       "<table border=\"1\" class=\"dataframe\">\n",
       "  <thead>\n",
       "    <tr style=\"text-align: right;\">\n",
       "      <th></th>\n",
       "      <th>Unnamed: 0</th>\n",
       "      <th>word1</th>\n",
       "      <th>word2</th>\n",
       "      <th>relation</th>\n",
       "      <th>label</th>\n",
       "      <th>text</th>\n",
       "    </tr>\n",
       "  </thead>\n",
       "  <tbody>\n",
       "    <tr>\n",
       "      <th>0</th>\n",
       "      <td>0</td>\n",
       "      <td>wireless communication</td>\n",
       "      <td>wireless LAN</td>\n",
       "      <td>rhyper</td>\n",
       "      <td>-1</td>\n",
       "      <td>104 denotes a wireless communication unit conf...</td>\n",
       "    </tr>\n",
       "    <tr>\n",
       "      <th>1</th>\n",
       "      <td>1</td>\n",
       "      <td>wireless communication</td>\n",
       "      <td>wireless LAN</td>\n",
       "      <td>rhyper</td>\n",
       "      <td>-1</td>\n",
       "      <td>204 denotes a wireless communication unit conf...</td>\n",
       "    </tr>\n",
       "    <tr>\n",
       "      <th>2</th>\n",
       "      <td>2</td>\n",
       "      <td>semiconductor memory</td>\n",
       "      <td>random access</td>\n",
       "      <td>rhyper</td>\n",
       "      <td>-1</td>\n",
       "      <td>In the case where the processing circuit 1801 ...</td>\n",
       "    </tr>\n",
       "    <tr>\n",
       "      <th>3</th>\n",
       "      <td>3</td>\n",
       "      <td>visible light</td>\n",
       "      <td>ultraviolet light</td>\n",
       "      <td>rhyper</td>\n",
       "      <td>-1</td>\n",
       "      <td>Fig. 1 shows the driver monitoring system 1. T...</td>\n",
       "    </tr>\n",
       "    <tr>\n",
       "      <th>4</th>\n",
       "      <td>4</td>\n",
       "      <td>visible light</td>\n",
       "      <td>infrared light</td>\n",
       "      <td>rhyper</td>\n",
       "      <td>-1</td>\n",
       "      <td>Fig. 1 shows the driver monitoring system 1. T...</td>\n",
       "    </tr>\n",
       "    <tr>\n",
       "      <th>...</th>\n",
       "      <td>...</td>\n",
       "      <td>...</td>\n",
       "      <td>...</td>\n",
       "      <td>...</td>\n",
       "      <td>...</td>\n",
       "      <td>...</td>\n",
       "    </tr>\n",
       "    <tr>\n",
       "      <th>242</th>\n",
       "      <td>242</td>\n",
       "      <td>digital image</td>\n",
       "      <td>the computer</td>\n",
       "      <td>rhyper</td>\n",
       "      <td>-1</td>\n",
       "      <td>Some example implementations provide a compute...</td>\n",
       "    </tr>\n",
       "    <tr>\n",
       "      <th>243</th>\n",
       "      <td>243</td>\n",
       "      <td>digital image</td>\n",
       "      <td>the computer</td>\n",
       "      <td>rhyper</td>\n",
       "      <td>-1</td>\n",
       "      <td>Clause 1. A method of testing a battery compri...</td>\n",
       "    </tr>\n",
       "    <tr>\n",
       "      <th>244</th>\n",
       "      <td>244</td>\n",
       "      <td>image sensor</td>\n",
       "      <td>complementary metal oxide semiconductor</td>\n",
       "      <td>rhyper</td>\n",
       "      <td>-1</td>\n",
       "      <td>The imaging unit 13 has an image sensor such a...</td>\n",
       "    </tr>\n",
       "    <tr>\n",
       "      <th>245</th>\n",
       "      <td>245</td>\n",
       "      <td>text processing</td>\n",
       "      <td>optical character recognition</td>\n",
       "      <td>rhyper</td>\n",
       "      <td>-1</td>\n",
       "      <td>Characters may be identified and extracted fro...</td>\n",
       "    </tr>\n",
       "    <tr>\n",
       "      <th>246</th>\n",
       "      <td>246</td>\n",
       "      <td>text field</td>\n",
       "      <td>text field</td>\n",
       "      <td>hyper</td>\n",
       "      <td>1</td>\n",
       "      <td>Aspect 10. The computer-implemented method of ...</td>\n",
       "    </tr>\n",
       "  </tbody>\n",
       "</table>\n",
       "<p>247 rows × 6 columns</p>\n",
       "</div>"
      ],
      "text/plain": [
       "     Unnamed: 0                   word1  \\\n",
       "0             0  wireless communication   \n",
       "1             1  wireless communication   \n",
       "2             2    semiconductor memory   \n",
       "3             3           visible light   \n",
       "4             4           visible light   \n",
       "..          ...                     ...   \n",
       "242         242           digital image   \n",
       "243         243           digital image   \n",
       "244         244            image sensor   \n",
       "245         245         text processing   \n",
       "246         246              text field   \n",
       "\n",
       "                                       word2 relation  label  \\\n",
       "0                               wireless LAN   rhyper     -1   \n",
       "1                               wireless LAN   rhyper     -1   \n",
       "2                              random access   rhyper     -1   \n",
       "3                          ultraviolet light   rhyper     -1   \n",
       "4                             infrared light   rhyper     -1   \n",
       "..                                       ...      ...    ...   \n",
       "242                             the computer   rhyper     -1   \n",
       "243                             the computer   rhyper     -1   \n",
       "244  complementary metal oxide semiconductor   rhyper     -1   \n",
       "245            optical character recognition   rhyper     -1   \n",
       "246                               text field    hyper      1   \n",
       "\n",
       "                                                  text  \n",
       "0    104 denotes a wireless communication unit conf...  \n",
       "1    204 denotes a wireless communication unit conf...  \n",
       "2    In the case where the processing circuit 1801 ...  \n",
       "3    Fig. 1 shows the driver monitoring system 1. T...  \n",
       "4    Fig. 1 shows the driver monitoring system 1. T...  \n",
       "..                                                 ...  \n",
       "242  Some example implementations provide a compute...  \n",
       "243  Clause 1. A method of testing a battery compri...  \n",
       "244  The imaging unit 13 has an image sensor such a...  \n",
       "245  Characters may be identified and extracted fro...  \n",
       "246  Aspect 10. The computer-implemented method of ...  \n",
       "\n",
       "[247 rows x 6 columns]"
      ]
     },
     "execution_count": 25,
     "metadata": {},
     "output_type": "execute_result"
    }
   ],
   "source": [
    "# load best model\n",
    "nlp_ner = spacy.load(\"./spacy_output/model-best\")\n",
    "\n",
    "# load test lines\n",
    "with open('test_lines.txt', 'r') as f:\n",
    "    test_lines = f.readlines()\n",
    "f.close()\n",
    "\n",
    "# read homonym_list.txt with pairs of homonyms\n",
    "homonyms_df = pd.read_csv('./hearst_patterns/hearst_patterns.247.csv')\n",
    "homonyms_df"
   ]
  },
  {
   "cell_type": "markdown",
   "id": "2c6778b2",
   "metadata": {},
   "source": [
    "#### 🌐 Word-Net"
   ]
  },
  {
   "cell_type": "markdown",
   "id": "1dc70f19",
   "metadata": {},
   "source": [
    "Here we are evaluating extracted Hypernyms using WordNet. Here is an example how it works"
   ]
  },
  {
   "cell_type": "code",
   "execution_count": 26,
   "id": "32036e1b",
   "metadata": {},
   "outputs": [],
   "source": [
    "cd_rom = wn.synsets('CD-ROM', pos='n')\n",
    "computer = wn.synsets('computer', pos='n')"
   ]
  },
  {
   "cell_type": "code",
   "execution_count": 27,
   "id": "1523945b",
   "metadata": {},
   "outputs": [
    {
     "name": "stdout",
     "output_type": "stream",
     "text": [
      "Synset('cd-rom.n.01') Synset('computer.n.01')\n",
      "Score: 0.7\n",
      "Synset('cd-rom.n.01') Synset('calculator.n.01')\n",
      "Score: 0.4\n"
     ]
    }
   ],
   "source": [
    "for synset in cd_rom:\n",
    "    for synset2 in computer:\n",
    "        print(synset, synset2)\n",
    "        print(\"Score:\", synset.wup_similarity(synset2))"
   ]
  },
  {
   "cell_type": "code",
   "execution_count": 28,
   "id": "f18f53e9",
   "metadata": {},
   "outputs": [
    {
     "data": {
      "text/plain": [
       "6"
      ]
     },
     "execution_count": 28,
     "metadata": {},
     "output_type": "execute_result"
    }
   ],
   "source": [
    "cd_rom[0].shortest_path_distance(computer[0])"
   ]
  },
  {
   "cell_type": "markdown",
   "id": "1b5d8f00",
   "metadata": {},
   "source": [
    "Run on our list of hypernyms"
   ]
  },
  {
   "cell_type": "code",
   "execution_count": 29,
   "id": "b0a41b38",
   "metadata": {},
   "outputs": [],
   "source": [
    "def wordnet_distance(word1, word2):\n",
    "    parent = wn.synsets(word1.replace(' ', '_'))\n",
    "    subclass = wn.synsets(word2.replace(' ', '_'))\n",
    "    scores = [0]\n",
    "    try:\n",
    "        for synset in parent:\n",
    "            for synset2 in subclass:\n",
    "                scores.append(synset.wup_similarity(synset2))\n",
    "    except:\n",
    "        return np.nan\n",
    "\n",
    "    return np.round(max(scores), 2)"
   ]
  },
  {
   "cell_type": "code",
   "execution_count": 30,
   "id": "88a83633",
   "metadata": {},
   "outputs": [
    {
     "data": {
      "application/vnd.jupyter.widget-view+json": {
       "model_id": "bb66003df23a4d97bcb74fad9d6ee9a0",
       "version_major": 2,
       "version_minor": 0
      },
      "text/plain": [
       "0it [00:00, ?it/s]"
      ]
     },
     "metadata": {},
     "output_type": "display_data"
    },
    {
     "name": "stdout",
     "output_type": "stream",
     "text": [
      "wireless communication ⬅️ wireless LAN :  0\n",
      "wireless communication ⬅️ wireless LAN :  0\n",
      "semiconductor memory ⬅️ random access :  0\n",
      "visible light ⬅️ ultraviolet light :  0.91\n",
      "visible light ⬅️ infrared light :  0.91\n",
      "mobile device ⬅️ mobile phone :  0\n",
      "telecommunication network ⬅️ the internet :  0\n",
      "reflective glass ⬅️ one-way mirror :  0\n",
      "digital camera ⬅️ the system :  0\n",
      "mass memory device ⬅️ hard drive :  0\n",
      "virtual environment ⬅️ virtual environment :  0\n",
      "two-dimensional code ⬅️ a square :  0\n",
      "the image ⬅️ two-dimensional code :  0\n",
      "geographical location data ⬅️ longitude and latitude :  0\n",
      "geographical location data ⬅️ longitude and latitude :  0\n",
      "information processing system ⬅️ electronic pen :  0\n",
      "start signal ⬅️ the signal :  0\n",
      "storage medium ⬅️ computer readable :  0.18\n",
      "storage medium ⬅️ computer readable :  0.18\n",
      "storage medium ⬅️ hard disk :  0.67\n",
      "storage medium ⬅️ semiconductor memory :  0\n",
      "storage medium ⬅️ hard disk :  0.67\n",
      "storage medium ⬅️ semiconductor memory :  0\n",
      "electronic device ⬅️ mobile phone :  0.63\n",
      "neural network ⬅️ convolutional neural network :  0\n",
      "communication network ⬅️ the Internet :  0\n",
      "communication network ⬅️ the Internet :  0\n",
      "semiconductor memory ⬅️ flash memory :  0\n",
      "optical media ⬅️ optical discs :  0\n",
      "magnetic media ⬅️ hard disks :  0\n",
      "communication network ⬅️ cellular network :  0\n",
      "communication network ⬅️ the Internet :  0\n",
      "communication network ⬅️ computer network :  0\n",
      "machine learning algorithm ⬅️ deep learning :  0\n",
      "statistical method ⬅️ principal component analysis :  0\n",
      "mobile terminal ⬅️ personal digital assistant :  0\n",
      "propulsion systems ⬅️ gas turbine engine :  0\n",
      "landing gear ⬅️ propulsion systems :  0.67\n",
      "landing gear ⬅️ landing gear :  1.0\n",
      "communication network ⬅️ the Internet :  0\n",
      "handheld devices ⬅️ mobile telephones :  0\n",
      "communications network ⬅️ cellular telephone :  0\n",
      "communications network ⬅️ the Internet :  0\n",
      "communications network ⬅️ local area network :  0\n",
      "programming languages ⬅️ object oriented programming language :  0\n",
      "field of view ⬅️ field of view :  1.0\n",
      "integrated circuit ⬅️ central processing unit :  0.6\n",
      "flexible display ⬅️ display device :  0\n",
      "laser projector ⬅️ display device :  0\n",
      "laser projector ⬅️ display device :  0\n",
      "laser projector ⬅️ display device :  0\n",
      "flexible display ⬅️ display device :  0\n",
      "inclination angle ⬅️ inclination angle :  0\n",
      "inclination angle ⬅️ inclination angle :  0\n",
      "non-volatile RAM ⬅️ read-only memory :  0\n",
      "non-volatile RAM ⬅️ read-only memory :  0\n",
      "wireless communication ⬅️ inter-vehicle communication :  0\n",
      "electromagnetic waves ⬅️ millimeter waves :  0\n",
      "payment service ⬅️ the service :  0\n",
      "wireless communication ⬅️ inter-vehicle communication :  0\n",
      "electromagnetic waves ⬅️ millimeter waves :  0\n",
      "geographical coordinates ⬅️ GPS coordinates :  0\n",
      "real-time information ⬅️ traffic jam :  0\n",
      "recording medium ⬅️ hard disk :  0\n",
      "recording medium ⬅️ semiconductor memory :  0\n",
      "moving images ⬅️ digital camera :  0\n",
      "moving images ⬅️ digital camcorder :  0\n",
      "light source ⬅️ laser diode :  0\n",
      "optical system ⬅️ plane mirror :  0\n",
      "computer readable ⬅️ optical disk :  0.17\n",
      "computer readable ⬅️ magnetic disk :  0.17\n",
      "personal computer ⬅️ laptop computer :  0.92\n",
      "personal computer ⬅️ desktop computer :  0.96\n",
      "flash memory ⬅️ USB memory :  0\n",
      "magnetic media ⬅️ hard disks :  0\n",
      "machine learning ⬅️ deep learning :  0\n",
      "machine learning ⬅️ artificial intelligence :  0\n",
      "artificial intelligence ⬅️ Deep learning :  0\n",
      "artificial intelligence ⬅️ Deep learning :  0\n",
      "deep learning ⬅️ Convolutional Neural Network :  0\n",
      "home appliance ⬅️ mobile robot :  0\n",
      "home appliance ⬅️ mobile robot :  0\n",
      "home appliance ⬅️ mobile robot :  0\n",
      "home appliance ⬅️ mobile robot :  0\n",
      "home appliance ⬅️ mobile robot :  0\n",
      "machine learning ⬅️ deep learning :  0\n",
      "machine learning ⬅️ artificial intelligence :  0\n",
      "artificial intelligence ⬅️ Deep learning :  0\n",
      "artificial intelligence ⬅️ Deep learning :  0\n",
      "deep learning ⬅️ Convolutional Neural Network :  0\n",
      "home appliance ⬅️ mobile robot :  0\n",
      "home appliance ⬅️ mobile robot :  0\n",
      "home appliance ⬅️ mobile robot :  0\n",
      "home appliance ⬅️ mobile robot :  0\n",
      "home appliance ⬅️ mobile robot :  0\n",
      "machine learning ⬅️ deep learning :  0\n",
      "machine learning ⬅️ artificial intelligence :  0\n",
      "artificial intelligence ⬅️ Deep learning :  0\n",
      "artificial intelligence ⬅️ Deep learning :  0\n",
      "deep learning ⬅️ Convolutional Neural Network :  0\n",
      "home appliance ⬅️ mobile robot :  0\n",
      "home appliance ⬅️ mobile robot :  0\n",
      "home appliance ⬅️ mobile robot :  0\n",
      "home appliance ⬅️ mobile robot :  0\n",
      "home appliance ⬅️ mobile robot :  0\n",
      "artificial light ⬅️ fluorescent light :  0\n",
      "environmental conditions ⬅️ carbon dioxide :  0.27\n",
      "environmental conditions ⬅️ carbon dioxide :  0.27\n",
      "convolutional neural network ⬅️ neural network :  0\n",
      "convolutional neural network ⬅️ neural network :  0\n",
      "machine learning method ⬅️ logistic regression :  0\n",
      "machine learning method ⬅️ logistic regression :  0\n",
      "storage medium ⬅️ Volatile memory :  0\n",
      "volatile memory ⬅️ high density :  0\n",
      "programmable memory ⬅️ household appliances :  0\n",
      "storage medium ⬅️ optical disk :  0.71\n",
      "storage medium ⬅️ non-volatile memory :  0\n",
      "storage medium ⬅️ magnetic disk :  0.71\n",
      "storage medium ⬅️ optical disk :  0.71\n",
      "storage medium ⬅️ magnetic disk :  0.71\n",
      "storage medium ⬅️ non-volatile memory :  0\n",
      "mobile phone ⬅️ information processing system :  0.6\n",
      "mobile device ⬅️ tablet PC :  0\n",
      "mobile device ⬅️ laptop computer :  0\n",
      "mobile device ⬅️ smart phone :  0\n",
      "the triangle ⬅️ number of :  0\n",
      "semiconductor memory ⬅️ flash memory :  0\n",
      "communication network ⬅️ local area network :  0\n",
      "communication network ⬅️ wide area network :  0\n",
      "storage media ⬅️ solid-state drive :  0\n",
      "non-volatile memory ⬅️ hard disk :  0\n",
      "output device ⬅️ liquid crystal :  0.25\n",
      "storage media ⬅️ main memory :  0\n",
      "display device ⬅️ liquid crystal display :  0\n",
      "computer network ⬅️ the Internet :  0\n",
      "computer network ⬅️ the Internet :  0\n",
      "computer network ⬅️ the Internet :  0\n",
      "main memory ⬅️ volatile memory :  0\n",
      "main memory ⬅️ volatile memory :  0\n",
      "stochastic gradient descent ⬅️ optimization algorithm :  0\n",
      "mass memory device ⬅️ hard drive :  0\n",
      "stochastic gradient descent ⬅️ optimization algorithm :  0\n",
      "computer network ⬅️ the Internet :  0\n",
      "point cloud data ⬅️ Iterative Closest Point :  0\n",
      "computer network ⬅️ the Internet :  0\n",
      "programming languages ⬅️ object oriented programming languages :  0\n",
      "first position ⬅️ point cloud data :  0\n",
      "computer network ⬅️ the Internet :  0\n",
      "computer network ⬅️ the Internet :  0\n",
      "lane line ⬅️ speed limit :  0\n",
      "a vehicle ⬅️ digital camera :  0\n",
      "a vehicle ⬅️ tablet computer :  0\n",
      "a vehicle ⬅️ mobile phone :  0\n",
      "a vehicle ⬅️ laptop computer :  0\n",
      "computer network ⬅️ the Internet :  0\n",
      "computer network ⬅️ the Internet :  0\n",
      "computer network ⬅️ the Internet :  0\n",
      "surgical device ⬅️ surgical instrument :  0\n",
      "optical disc drive ⬅️ compact disc :  0\n",
      "non-volatile memory ⬅️ magnetic storage :  0\n",
      "volatile memory ⬅️ random-access memory :  0\n",
      "storage medium ⬅️ Electrically Erasable and Programmable ROM :  0\n",
      "visible light spectrum ⬅️ near-infrared light :  0\n",
      "storage medium ⬅️ magnetic disk :  0.71\n",
      "storage medium ⬅️ flexible disk :  0\n",
      "storage medium ⬅️ hard disk :  0.67\n",
      "storage device ⬅️ hard disk :  0.89\n",
      "storage device ⬅️ hard disk :  0.89\n",
      "brain waves ⬅️ pulse rate :  0.14\n",
      "brain waves ⬅️ blood flow :  0\n",
      "electronic pen ⬅️ the height :  0\n",
      "brain waves ⬅️ blood flow :  0\n",
      "brain waves ⬅️ pulse rate :  0.14\n",
      "state estimation ⬅️ brain wave :  0\n",
      "semiconductor memory ⬅️ flash memory :  0\n",
      "wide-angle lens ⬅️ fisheye lens :  1.0\n",
      "moving images ⬅️ digital camera :  0\n",
      "moving images ⬅️ digital camcorder :  0\n",
      "electronic device ⬅️ electronic component :  0\n",
      "electronic device ⬅️ electronic component :  0\n",
      "electronic device ⬅️ electronic component :  0\n",
      "electronic device ⬅️ electronic component :  0\n",
      "storage device ⬅️ main memory :  0\n",
      "storage device ⬅️ input device :  0.67\n",
      "storage device ⬅️ hard disk :  0.89\n",
      "storage device ⬅️ wireless communication :  0\n",
      "storage device ⬅️ input device :  0.67\n",
      "storage device ⬅️ hard disk :  0.89\n",
      "storage device ⬅️ wireless communication :  0\n",
      "storage device ⬅️ main memory :  0\n",
      "neural network ⬅️ convolutional neural network :  0\n",
      "electronic devices ⬅️ mobile phone :  0.63\n",
      "storage media ⬅️ hard drives :  0\n",
      "the environment ⬅️ foot traffic :  0\n",
      "mobile phone ⬅️ mobile device :  0\n",
      "mobile device ⬅️ tablet computer :  0\n",
      "mobile device ⬅️ mobile phone :  0\n",
      "the environment ⬅️ foot traffic :  0\n",
      "electronic devices ⬅️ mobile phone :  0.63\n",
      "storage media ⬅️ hard drives :  0\n",
      "living room ⬅️ occupancy grid :  0\n",
      "the environment ⬅️ foot traffic :  0\n",
      "electronic devices ⬅️ mobile phone :  0.63\n",
      "storage media ⬅️ hard drives :  0\n",
      "loss function ⬅️ objective function :  0\n",
      "facial expression ⬅️ facial expression :  1.0\n",
      "peripheral bus ⬅️ Peripheral Component Interconnect :  0\n",
      "display device ⬅️ virtual reality :  0\n",
      "display device ⬅️ display device :  0\n",
      "display device ⬅️ augmented reality :  0\n",
      "high-level shader language ⬅️ High Level Shader Language :  0\n",
      "neural network ⬅️ machine learning algorithm :  0\n",
      "Convolutional Neural Network ⬅️ neural network :  0\n",
      "embedded devices ⬅️ tablet computers :  0\n",
      "computing device ⬅️ computing device :  1.0\n",
      "point light source ⬅️ light source :  0\n",
      "point light source ⬅️ light source :  0\n",
      "point light source ⬅️ light source :  0\n",
      "point light source ⬅️ light source :  0\n",
      "storage device ⬅️ Hard Disk Drive :  0\n",
      "storage medium ⬅️ magnetic material :  0\n",
      "light sensor ⬅️ Complementary Metal Oxide Semiconductor :  0\n",
      "wireless network ⬅️ Wireless Fidelity :  0\n",
      "machine learning ⬅️ neural networks :  0\n",
      "Convolutional neural network ⬅️ neural network :  0\n",
      "load sensor ⬅️ load sensor :  0\n",
      "storage media ⬅️ flash memory :  0\n",
      "active identifier ⬅️ radio frequency identification :  0\n",
      "remote system ⬅️ the service :  0\n",
      "Computer components ⬅️ web services :  0\n",
      "contact image sensor ⬅️ optical sensor :  0\n",
      "label printer ⬅️ optical system :  0\n",
      "computing device ⬅️ smart phone :  0\n",
      "reference table ⬅️ effective aperture :  0\n",
      "print media ⬅️ print media :  1.0\n",
      "test pattern ⬅️ test pattern :  0\n",
      "test pattern ⬅️ test pattern :  0\n",
      "optical system ⬅️ optical system :  0\n",
      "optical system ⬅️ optical system :  0\n",
      "test pattern ⬅️ test pattern :  0\n",
      "optical system ⬅️ optical system :  0\n",
      "color schemes ⬅️ color scheme :  1.0\n",
      "digital image ⬅️ the computer :  0\n",
      "digital image ⬅️ the computer :  0\n",
      "image sensor ⬅️ complementary metal oxide semiconductor :  0\n",
      "text processing ⬅️ optical character recognition :  0\n",
      "text field ⬅️ text field :  0\n"
     ]
    }
   ],
   "source": [
    "# iterate throw homonyms_df\n",
    "results_wordnet = []\n",
    "for index, row in tqdm(homonyms_df.iterrows()):\n",
    "    if row[\"label\"] == -1:\n",
    "        parent = row['word1']\n",
    "        subclass = row['word2']\n",
    "    else:\n",
    "        parent = row['word2']\n",
    "        subclass = row['word1']\n",
    "    res = wordnet_distance(parent, subclass)\n",
    "    results_wordnet.append(res)\n",
    "    print(parent, \"⬅️\", subclass, \": \", res)\n"
   ]
  },
  {
   "cell_type": "markdown",
   "id": "ee313890",
   "metadata": {},
   "source": [
    "Save to the dataframe"
   ]
  },
  {
   "cell_type": "code",
   "execution_count": 31,
   "id": "bcfee981",
   "metadata": {},
   "outputs": [],
   "source": [
    "# save to dataframe\n",
    "homonyms_df['wordnet_distance'] = results_wordnet "
   ]
  },
  {
   "cell_type": "markdown",
   "id": "09e286c8",
   "metadata": {},
   "source": [
    "#### 🧪 Spacy embeddings\n",
    "What if model already has links between words? Since it's trained on the corpus data, it should be able to find similarity between words.  \n",
    "This is what can be useful while evaluationg our hyponyms list. We could run it and find low-similar elemts for further analysis."
   ]
  },
  {
   "cell_type": "code",
   "execution_count": 32,
   "id": "4bbc0839",
   "metadata": {},
   "outputs": [
    {
     "name": "stdout",
     "output_type": "stream",
     "text": [
      "cloud platform <-> service provider 0.48239135894127\n"
     ]
    }
   ],
   "source": [
    "word_1 = nlp(\"cloud platform\")\n",
    "word_2 = nlp(\"service provider\")\n",
    "\n",
    "print(word_1, \"<->\", word_2, word_1.similarity(word_2))"
   ]
  },
  {
   "cell_type": "markdown",
   "id": "d6560176",
   "metadata": {},
   "source": [
    "Run on our list of hypernyms"
   ]
  },
  {
   "cell_type": "code",
   "execution_count": 33,
   "id": "55bebb11",
   "metadata": {},
   "outputs": [],
   "source": [
    "def spacy_score(word1, word2):\n",
    "    word1 = nlp(word1)\n",
    "    word2 = nlp(word2)\n",
    "    return word1.similarity(word2)"
   ]
  },
  {
   "cell_type": "code",
   "execution_count": 34,
   "id": "93da2e63",
   "metadata": {},
   "outputs": [
    {
     "data": {
      "application/vnd.jupyter.widget-view+json": {
       "model_id": "158734cfd8c54b8bb75caafb9b9378ad",
       "version_major": 2,
       "version_minor": 0
      },
      "text/plain": [
       "0it [00:00, ?it/s]"
      ]
     },
     "metadata": {},
     "output_type": "display_data"
    },
    {
     "name": "stdout",
     "output_type": "stream",
     "text": [
      "wireless communication ⬅️ wireless LAN :  0.7988240405990368\n",
      "wireless communication ⬅️ wireless LAN :  0.7988240405990368\n",
      "semiconductor memory ⬅️ random access :  0.4562830437539974\n",
      "visible light ⬅️ ultraviolet light :  0.9213419926003001\n",
      "visible light ⬅️ infrared light :  0.9114937304850219\n",
      "mobile device ⬅️ mobile phone :  0.7980449644673413\n",
      "telecommunication network ⬅️ the internet :  0.3566173245450127\n",
      "reflective glass ⬅️ one-way mirror :  0.43850586242637135\n",
      "digital camera ⬅️ the system :  0.29880282444533746\n",
      "mass memory device ⬅️ hard drive :  0.668589128614972\n",
      "virtual environment ⬅️ virtual environment :  1.0\n",
      "two-dimensional code ⬅️ a square :  0.030406911246921867\n",
      "the image ⬅️ two-dimensional code :  -0.28950677451373197\n",
      "geographical location data ⬅️ longitude and latitude :  0.2530226461434113\n"
     ]
    },
    {
     "name": "stderr",
     "output_type": "stream",
     "text": [
      "/Users/nkise/miniforge3/envs/uni-env/lib/python3.9/site-packages/numpy/core/_methods.py:235: RuntimeWarning: overflow encountered in multiply\n",
      "  x = um.multiply(x, x, out=x)\n"
     ]
    },
    {
     "name": "stdout",
     "output_type": "stream",
     "text": [
      "geographical location data ⬅️ longitude and latitude :  0.2530226461434113\n",
      "information processing system ⬅️ electronic pen :  0.30134069311937467\n",
      "start signal ⬅️ the signal :  0.5420448808237851\n",
      "storage medium ⬅️ computer readable :  0.6335364128335599\n",
      "storage medium ⬅️ computer readable :  0.6335364128335599\n",
      "storage medium ⬅️ hard disk :  0.5238650175071684\n",
      "storage medium ⬅️ semiconductor memory :  0.6051938531665448\n",
      "storage medium ⬅️ hard disk :  0.5238650175071684\n",
      "storage medium ⬅️ semiconductor memory :  0.6051938531665448\n",
      "electronic device ⬅️ mobile phone :  0.7084252507788912\n",
      "neural network ⬅️ convolutional neural network :  0.9166362725093549\n",
      "communication network ⬅️ the Internet :  0.39472354731538645\n",
      "communication network ⬅️ the Internet :  0.39472354731538645\n",
      "semiconductor memory ⬅️ flash memory :  0.8473547281050336\n",
      "optical media ⬅️ optical discs :  0.6129062358351681\n",
      "magnetic media ⬅️ hard disks :  0.4780298046805386\n",
      "communication network ⬅️ cellular network :  0.7751448356338182\n",
      "communication network ⬅️ the Internet :  0.39472354731538645\n",
      "communication network ⬅️ computer network :  0.6669447640165973\n",
      "machine learning algorithm ⬅️ deep learning :  0.756234276798524\n",
      "statistical method ⬅️ principal component analysis :  0.6666159087838733\n",
      "mobile terminal ⬅️ personal digital assistant :  0.015794652677694934\n",
      "propulsion systems ⬅️ gas turbine engine :  0.5352488448225944\n",
      "landing gear ⬅️ propulsion systems :  0.7463560917481676\n",
      "landing gear ⬅️ landing gear :  1.0\n",
      "communication network ⬅️ the Internet :  0.39472354731538645\n",
      "handheld devices ⬅️ mobile telephones :  0.5254141582540826\n",
      "communications network ⬅️ cellular telephone :  0.7179529958878036\n",
      "communications network ⬅️ the Internet :  0.3234806726053346\n",
      "communications network ⬅️ local area network :  0.5241348338519255\n",
      "programming languages ⬅️ object oriented programming language :  0.6854334087053472\n",
      "field of view ⬅️ field of view :  1.0\n",
      "integrated circuit ⬅️ central processing unit :  0.3010856058553052\n",
      "flexible display ⬅️ display device :  0.6244238171573945\n",
      "laser projector ⬅️ display device :  0.047422703300193096\n",
      "laser projector ⬅️ display device :  0.047422703300193096\n",
      "laser projector ⬅️ display device :  0.047422703300193096\n",
      "flexible display ⬅️ display device :  0.6244238171573945\n",
      "inclination angle ⬅️ inclination angle :  1.0\n",
      "inclination angle ⬅️ inclination angle :  1.0\n",
      "non-volatile RAM ⬅️ read-only memory :  0.8338553504212518\n",
      "non-volatile RAM ⬅️ read-only memory :  0.8338553504212518\n",
      "wireless communication ⬅️ inter-vehicle communication :  0.011656166499044437\n",
      "electromagnetic waves ⬅️ millimeter waves :  0.8431646957888449\n",
      "payment service ⬅️ the service :  0.3063672228736742\n",
      "wireless communication ⬅️ inter-vehicle communication :  0.011656166499044437\n",
      "electromagnetic waves ⬅️ millimeter waves :  0.8431646957888449\n",
      "geographical coordinates ⬅️ GPS coordinates :  0.3271547062699214\n",
      "real-time information ⬅️ traffic jam :  0.3035022705046982\n",
      "recording medium ⬅️ hard disk :  0.4059964599015562\n",
      "recording medium ⬅️ semiconductor memory :  0.5623603900527664\n",
      "moving images ⬅️ digital camera :  0.2745732936532132\n",
      "moving images ⬅️ digital camcorder :  0.75523297475568\n",
      "light source ⬅️ laser diode :  0.6797673079981682\n",
      "optical system ⬅️ plane mirror :  0.7445974771538548\n",
      "computer readable ⬅️ optical disk :  0.5386684224127998\n",
      "computer readable ⬅️ magnetic disk :  0.5548563226706619\n",
      "personal computer ⬅️ laptop computer :  0.7387420329534073\n",
      "personal computer ⬅️ desktop computer :  0.7703551153159636\n",
      "flash memory ⬅️ USB memory :  0.822987624197647\n",
      "magnetic media ⬅️ hard disks :  0.4780298046805386\n",
      "machine learning ⬅️ deep learning :  0.7875986458980156\n",
      "machine learning ⬅️ artificial intelligence :  0.5784102365301521\n",
      "artificial intelligence ⬅️ Deep learning :  0.6340177910135353\n",
      "artificial intelligence ⬅️ Deep learning :  0.6340177910135353\n",
      "deep learning ⬅️ Convolutional Neural Network :  0.5148216892496057\n",
      "home appliance ⬅️ mobile robot :  0.24053525712770824\n",
      "home appliance ⬅️ mobile robot :  0.24053525712770824\n",
      "home appliance ⬅️ mobile robot :  0.24053525712770824\n",
      "home appliance ⬅️ mobile robot :  0.24053525712770824\n",
      "home appliance ⬅️ mobile robot :  0.24053525712770824\n",
      "machine learning ⬅️ deep learning :  0.7875986458980156\n",
      "machine learning ⬅️ artificial intelligence :  0.5784102365301521\n",
      "artificial intelligence ⬅️ Deep learning :  0.6340177910135353\n",
      "artificial intelligence ⬅️ Deep learning :  0.6340177910135353\n",
      "deep learning ⬅️ Convolutional Neural Network :  0.5148216892496057\n",
      "home appliance ⬅️ mobile robot :  0.24053525712770824\n",
      "home appliance ⬅️ mobile robot :  0.24053525712770824\n",
      "home appliance ⬅️ mobile robot :  0.24053525712770824\n",
      "home appliance ⬅️ mobile robot :  0.24053525712770824\n",
      "home appliance ⬅️ mobile robot :  0.24053525712770824\n",
      "machine learning ⬅️ deep learning :  0.7875986458980156\n",
      "machine learning ⬅️ artificial intelligence :  0.5784102365301521\n",
      "artificial intelligence ⬅️ Deep learning :  0.6340177910135353\n",
      "artificial intelligence ⬅️ Deep learning :  0.6340177910135353\n",
      "deep learning ⬅️ Convolutional Neural Network :  0.5148216892496057\n",
      "home appliance ⬅️ mobile robot :  0.24053525712770824\n",
      "home appliance ⬅️ mobile robot :  0.24053525712770824\n",
      "home appliance ⬅️ mobile robot :  0.24053525712770824\n",
      "home appliance ⬅️ mobile robot :  0.24053525712770824\n",
      "home appliance ⬅️ mobile robot :  0.24053525712770824\n",
      "artificial light ⬅️ fluorescent light :  0.39919033112499935\n",
      "environmental conditions ⬅️ carbon dioxide :  0.621414958294819\n",
      "environmental conditions ⬅️ carbon dioxide :  0.621414958294819\n",
      "convolutional neural network ⬅️ neural network :  0.9166362725093549\n",
      "convolutional neural network ⬅️ neural network :  0.9166362725093549\n",
      "machine learning method ⬅️ logistic regression :  0.6938342218211617\n",
      "machine learning method ⬅️ logistic regression :  0.6938342218211617\n",
      "storage medium ⬅️ Volatile memory :  0.26361895064189644\n",
      "volatile memory ⬅️ high density :  0.7810427598674594\n",
      "programmable memory ⬅️ household appliances :  0.3887777835026928\n",
      "storage medium ⬅️ optical disk :  0.6074251079772134\n",
      "storage medium ⬅️ non-volatile memory :  0.1679327110712199\n",
      "storage medium ⬅️ magnetic disk :  0.6181492239340104\n",
      "storage medium ⬅️ optical disk :  0.6074251079772134\n",
      "storage medium ⬅️ magnetic disk :  0.6181492239340104\n",
      "storage medium ⬅️ non-volatile memory :  0.1679327110712199\n",
      "mobile phone ⬅️ information processing system :  0.5892965259291126\n",
      "mobile device ⬅️ tablet PC :  0.12441134972329151\n",
      "mobile device ⬅️ laptop computer :  0.42844744268698753\n",
      "mobile device ⬅️ smart phone :  0.7088953365408831\n",
      "the triangle ⬅️ number of :  0.5832322671858226\n",
      "semiconductor memory ⬅️ flash memory :  0.8473547281050336\n",
      "communication network ⬅️ local area network :  0.47471364516149317\n",
      "communication network ⬅️ wide area network :  0.5543636363295267\n",
      "storage media ⬅️ solid-state drive :  0.16165763077264714\n",
      "non-volatile memory ⬅️ hard disk :  0.3484003320100652\n",
      "output device ⬅️ liquid crystal :  0.3317279563546108\n",
      "storage media ⬅️ main memory :  0.6266247855807889\n",
      "display device ⬅️ liquid crystal display :  0.26048988992383354\n",
      "computer network ⬅️ the Internet :  0.3473185514133592\n",
      "computer network ⬅️ the Internet :  0.3473185514133592\n",
      "computer network ⬅️ the Internet :  0.3473185514133592\n",
      "main memory ⬅️ volatile memory :  0.8474279432874845\n",
      "main memory ⬅️ volatile memory :  0.8474279432874845\n",
      "stochastic gradient descent ⬅️ optimization algorithm :  0.6520967930251846\n",
      "mass memory device ⬅️ hard drive :  0.668589128614972\n",
      "stochastic gradient descent ⬅️ optimization algorithm :  0.6520967930251846\n",
      "computer network ⬅️ the Internet :  0.3473185514133592\n",
      "point cloud data ⬅️ Iterative Closest Point :  0.5167888525722296\n",
      "computer network ⬅️ the Internet :  0.3473185514133592\n",
      "programming languages ⬅️ object oriented programming languages :  0.8350014916253609\n",
      "first position ⬅️ point cloud data :  0.207016452621415\n",
      "computer network ⬅️ the Internet :  0.3473185514133592\n",
      "computer network ⬅️ the Internet :  0.3473185514133592\n",
      "lane line ⬅️ speed limit :  0.3037323664224999\n",
      "a vehicle ⬅️ digital camera :  -0.04163758523840876\n",
      "a vehicle ⬅️ tablet computer :  0.07640754751523454\n",
      "a vehicle ⬅️ mobile phone :  0.25975849574468135\n",
      "a vehicle ⬅️ laptop computer :  0.13382485666735744\n",
      "computer network ⬅️ the Internet :  0.3473185514133592\n",
      "computer network ⬅️ the Internet :  0.3473185514133592\n",
      "computer network ⬅️ the Internet :  0.3473185514133592\n",
      "surgical device ⬅️ surgical instrument :  0.6113393149636243\n",
      "optical disc drive ⬅️ compact disc :  0.7777948410196525\n",
      "non-volatile memory ⬅️ magnetic storage :  0.5780609783323682\n",
      "volatile memory ⬅️ random-access memory :  0.6002369098346259\n",
      "storage medium ⬅️ Electrically Erasable and Programmable ROM :  -0.11532739232964113\n",
      "visible light spectrum ⬅️ near-infrared light :  0.42381931099536757\n",
      "storage medium ⬅️ magnetic disk :  0.6181492239340104\n",
      "storage medium ⬅️ flexible disk :  0.6667542015003672\n",
      "storage medium ⬅️ hard disk :  0.5238650175071684\n",
      "storage device ⬅️ hard disk :  0.5226111831551006\n",
      "storage device ⬅️ hard disk :  0.5226111831551006\n",
      "brain waves ⬅️ pulse rate :  0.6444853051584741\n",
      "brain waves ⬅️ blood flow :  0.6290675654003683\n",
      "electronic pen ⬅️ the height :  0.3368008363402014\n",
      "brain waves ⬅️ blood flow :  0.6290675654003683\n",
      "brain waves ⬅️ pulse rate :  0.6444853051584741\n",
      "state estimation ⬅️ brain wave :  0.5869983949840103\n",
      "semiconductor memory ⬅️ flash memory :  0.8473547281050336\n",
      "wide-angle lens ⬅️ fisheye lens :  0.5730744528676869\n",
      "moving images ⬅️ digital camera :  0.2745732936532132\n",
      "moving images ⬅️ digital camcorder :  0.75523297475568\n",
      "electronic device ⬅️ electronic component :  0.596316942755877\n",
      "electronic device ⬅️ electronic component :  0.596316942755877\n",
      "electronic device ⬅️ electronic component :  0.596316942755877\n",
      "electronic device ⬅️ electronic component :  0.596316942755877\n",
      "storage device ⬅️ main memory :  0.3310919302404015\n",
      "storage device ⬅️ input device :  0.6659649925777138\n",
      "storage device ⬅️ hard disk :  0.5226111831551006\n",
      "storage device ⬅️ wireless communication :  0.6657535814479798\n",
      "storage device ⬅️ input device :  0.6659649925777138\n",
      "storage device ⬅️ hard disk :  0.5226111831551006\n",
      "storage device ⬅️ wireless communication :  0.6657535814479798\n",
      "storage device ⬅️ main memory :  0.3310919302404015\n",
      "neural network ⬅️ convolutional neural network :  0.9166362725093549\n",
      "electronic devices ⬅️ mobile phone :  0.4429614842595396\n",
      "storage media ⬅️ hard drives :  0.21867868544769628\n",
      "the environment ⬅️ foot traffic :  0.1970939420135585\n",
      "mobile phone ⬅️ mobile device :  0.7980449644673413\n",
      "mobile device ⬅️ tablet computer :  0.5494224646823747\n",
      "mobile device ⬅️ mobile phone :  0.7980449644673413\n",
      "the environment ⬅️ foot traffic :  0.1970939420135585\n",
      "electronic devices ⬅️ mobile phone :  0.4429614842595396\n",
      "storage media ⬅️ hard drives :  0.21867868544769628\n",
      "living room ⬅️ occupancy grid :  0.5773131584615117\n",
      "the environment ⬅️ foot traffic :  0.1970939420135585\n",
      "electronic devices ⬅️ mobile phone :  0.4429614842595396\n",
      "storage media ⬅️ hard drives :  0.21867868544769628\n",
      "loss function ⬅️ objective function :  0.8050743087303927\n",
      "facial expression ⬅️ facial expression :  1.0\n",
      "peripheral bus ⬅️ Peripheral Component Interconnect :  0.6573347546101628\n",
      "display device ⬅️ virtual reality :  0.3292470984798763\n",
      "display device ⬅️ display device :  1.0\n",
      "display device ⬅️ augmented reality :  0.4053286237215017\n",
      "high-level shader language ⬅️ High Level Shader Language :  0.7522130520944122\n",
      "neural network ⬅️ machine learning algorithm :  0.738846655209458\n",
      "Convolutional Neural Network ⬅️ neural network :  0.6902302817633532\n",
      "embedded devices ⬅️ tablet computers :  0.3376987426230074\n",
      "computing device ⬅️ computing device :  1.0\n",
      "point light source ⬅️ light source :  0.9023671626758542\n",
      "point light source ⬅️ light source :  0.9023671626758542\n",
      "point light source ⬅️ light source :  0.9023671626758542\n",
      "point light source ⬅️ light source :  0.9023671626758542\n",
      "storage device ⬅️ Hard Disk Drive :  0.22556737731684745\n",
      "storage medium ⬅️ magnetic material :  0.34392698503738006\n",
      "light sensor ⬅️ Complementary Metal Oxide Semiconductor :  0.30752707073599356\n",
      "wireless network ⬅️ Wireless Fidelity :  0.37925970845285834\n",
      "machine learning ⬅️ neural networks :  0.6410244646693959\n",
      "Convolutional neural network ⬅️ neural network :  0.9276815124973586\n",
      "load sensor ⬅️ load sensor :  1.0\n",
      "storage media ⬅️ flash memory :  0.6827529220353643\n",
      "active identifier ⬅️ radio frequency identification :  0.7648005612315747\n",
      "remote system ⬅️ the service :  0.33736529487993916\n",
      "Computer components ⬅️ web services :  0.7407826836620041\n",
      "contact image sensor ⬅️ optical sensor :  0.691779511413411\n",
      "label printer ⬅️ optical system :  0.09494561368436603\n",
      "computing device ⬅️ smart phone :  0.6226276961949717\n",
      "reference table ⬅️ effective aperture :  0.3271937790766305\n",
      "print media ⬅️ print media :  1.0\n",
      "test pattern ⬅️ test pattern :  1.0\n",
      "test pattern ⬅️ test pattern :  1.0\n",
      "optical system ⬅️ optical system :  1.0\n",
      "optical system ⬅️ optical system :  1.0\n",
      "test pattern ⬅️ test pattern :  1.0\n",
      "optical system ⬅️ optical system :  1.0\n",
      "color schemes ⬅️ color scheme :  0.8999030939246575\n",
      "digital image ⬅️ the computer :  0.699942502347667\n",
      "digital image ⬅️ the computer :  0.699942502347667\n",
      "image sensor ⬅️ complementary metal oxide semiconductor :  0.1682182431755751\n",
      "text processing ⬅️ optical character recognition :  0.37264421486109117\n",
      "text field ⬅️ text field :  1.0\n"
     ]
    }
   ],
   "source": [
    "# iterate throw homonyms_df\n",
    "results_spacy = []\n",
    "for index, row in tqdm(homonyms_df.iterrows()):\n",
    "    if row[\"label\"] == -1:\n",
    "        parent = row['word1']\n",
    "        subclass = row['word2']\n",
    "    else:\n",
    "        parent = row['word2']\n",
    "        subclass = row['word1']\n",
    "\n",
    "    res = spacy_score(parent, subclass)\n",
    "    results_spacy.append(res)\n",
    "    print(parent, \"⬅️\", subclass, \": \", res)\n"
   ]
  },
  {
   "cell_type": "markdown",
   "id": "01d5f125",
   "metadata": {},
   "source": [
    "Add results to the dataframe"
   ]
  },
  {
   "cell_type": "code",
   "execution_count": 35,
   "id": "5c635971",
   "metadata": {},
   "outputs": [],
   "source": [
    "homonyms_df['spacy_distance'] = results_spacy"
   ]
  },
  {
   "cell_type": "code",
   "execution_count": 37,
   "id": "92734f1f",
   "metadata": {},
   "outputs": [
    {
     "data": {
      "text/html": [
       "<div>\n",
       "<style scoped>\n",
       "    .dataframe tbody tr th:only-of-type {\n",
       "        vertical-align: middle;\n",
       "    }\n",
       "\n",
       "    .dataframe tbody tr th {\n",
       "        vertical-align: top;\n",
       "    }\n",
       "\n",
       "    .dataframe thead th {\n",
       "        text-align: right;\n",
       "    }\n",
       "</style>\n",
       "<table border=\"1\" class=\"dataframe\">\n",
       "  <thead>\n",
       "    <tr style=\"text-align: right;\">\n",
       "      <th></th>\n",
       "      <th>Unnamed: 0</th>\n",
       "      <th>word1</th>\n",
       "      <th>word2</th>\n",
       "      <th>relation</th>\n",
       "      <th>label</th>\n",
       "      <th>text</th>\n",
       "      <th>wordnet_distance</th>\n",
       "      <th>spacy_distance</th>\n",
       "    </tr>\n",
       "  </thead>\n",
       "  <tbody>\n",
       "    <tr>\n",
       "      <th>0</th>\n",
       "      <td>0</td>\n",
       "      <td>wireless communication</td>\n",
       "      <td>wireless LAN</td>\n",
       "      <td>rhyper</td>\n",
       "      <td>-1</td>\n",
       "      <td>104 denotes a wireless communication unit conf...</td>\n",
       "      <td>0.00</td>\n",
       "      <td>0.798824</td>\n",
       "    </tr>\n",
       "    <tr>\n",
       "      <th>1</th>\n",
       "      <td>1</td>\n",
       "      <td>wireless communication</td>\n",
       "      <td>wireless LAN</td>\n",
       "      <td>rhyper</td>\n",
       "      <td>-1</td>\n",
       "      <td>204 denotes a wireless communication unit conf...</td>\n",
       "      <td>0.00</td>\n",
       "      <td>0.798824</td>\n",
       "    </tr>\n",
       "    <tr>\n",
       "      <th>2</th>\n",
       "      <td>2</td>\n",
       "      <td>semiconductor memory</td>\n",
       "      <td>random access</td>\n",
       "      <td>rhyper</td>\n",
       "      <td>-1</td>\n",
       "      <td>In the case where the processing circuit 1801 ...</td>\n",
       "      <td>0.00</td>\n",
       "      <td>0.456283</td>\n",
       "    </tr>\n",
       "    <tr>\n",
       "      <th>3</th>\n",
       "      <td>3</td>\n",
       "      <td>visible light</td>\n",
       "      <td>ultraviolet light</td>\n",
       "      <td>rhyper</td>\n",
       "      <td>-1</td>\n",
       "      <td>Fig. 1 shows the driver monitoring system 1. T...</td>\n",
       "      <td>0.91</td>\n",
       "      <td>0.921342</td>\n",
       "    </tr>\n",
       "    <tr>\n",
       "      <th>4</th>\n",
       "      <td>4</td>\n",
       "      <td>visible light</td>\n",
       "      <td>infrared light</td>\n",
       "      <td>rhyper</td>\n",
       "      <td>-1</td>\n",
       "      <td>Fig. 1 shows the driver monitoring system 1. T...</td>\n",
       "      <td>0.91</td>\n",
       "      <td>0.911494</td>\n",
       "    </tr>\n",
       "  </tbody>\n",
       "</table>\n",
       "</div>"
      ],
      "text/plain": [
       "   Unnamed: 0                   word1              word2 relation  label  \\\n",
       "0           0  wireless communication       wireless LAN   rhyper     -1   \n",
       "1           1  wireless communication       wireless LAN   rhyper     -1   \n",
       "2           2    semiconductor memory      random access   rhyper     -1   \n",
       "3           3           visible light  ultraviolet light   rhyper     -1   \n",
       "4           4           visible light     infrared light   rhyper     -1   \n",
       "\n",
       "                                                text  wordnet_distance  \\\n",
       "0  104 denotes a wireless communication unit conf...              0.00   \n",
       "1  204 denotes a wireless communication unit conf...              0.00   \n",
       "2  In the case where the processing circuit 1801 ...              0.00   \n",
       "3  Fig. 1 shows the driver monitoring system 1. T...              0.91   \n",
       "4  Fig. 1 shows the driver monitoring system 1. T...              0.91   \n",
       "\n",
       "   spacy_distance  \n",
       "0        0.798824  \n",
       "1        0.798824  \n",
       "2        0.456283  \n",
       "3        0.921342  \n",
       "4        0.911494  "
      ]
     },
     "execution_count": 37,
     "metadata": {},
     "output_type": "execute_result"
    }
   ],
   "source": [
    "homonyms_df.head()"
   ]
  },
  {
   "cell_type": "markdown",
   "id": "6b3edec3",
   "metadata": {},
   "source": [
    "#### 📜 Wikidata"
   ]
  },
  {
   "cell_type": "code",
   "execution_count": 38,
   "id": "fa68dfb9",
   "metadata": {},
   "outputs": [],
   "source": [
    "from qwikidata.entity import WikidataItem, WikidataLexeme, WikidataProperty\n",
    "from qwikidata.linked_data_interface import get_entity_dict_from_api\n",
    "from qwikidata.sparql import (get_subclasses_of_item,\n",
    "                              return_sparql_query_results)\n",
    "import wptools"
   ]
  },
  {
   "cell_type": "code",
   "execution_count": 39,
   "id": "3e4418a9",
   "metadata": {},
   "outputs": [
    {
     "name": "stderr",
     "output_type": "stream",
     "text": [
      "en.wikipedia.org (parse) computer\n"
     ]
    },
    {
     "data": {
      "text/plain": [
       "'Q68'"
      ]
     },
     "execution_count": 39,
     "metadata": {},
     "output_type": "execute_result"
    }
   ],
   "source": [
    "parent_name = \"computer\"\n",
    "candidate_name = \"iPad\"\n",
    "\n",
    "# get Wikidata item for parent\n",
    "page = wptools.page(parent_name)\n",
    "data = page.get_parse(show=False)\n",
    "q_parent_class = data.data['wikibase']\n",
    "q_parent_class"
   ]
  },
  {
   "cell_type": "code",
   "execution_count": 40,
   "id": "57d2cf85",
   "metadata": {},
   "outputs": [
    {
     "data": {
      "text/plain": [
       "3452"
      ]
     },
     "execution_count": 40,
     "metadata": {},
     "output_type": "execute_result"
    }
   ],
   "source": [
    "# use convenience function to get subclasses of an item as a list of item ids\n",
    "subclasses_list = get_subclasses_of_item(q_parent_class)\n",
    "len(subclasses_list)"
   ]
  },
  {
   "cell_type": "code",
   "execution_count": 41,
   "id": "cb446b9b",
   "metadata": {},
   "outputs": [
    {
     "name": "stdout",
     "output_type": "stream",
     "text": [
      "computer\n",
      "personal computer\n",
      "IBM 704\n",
      "microcomputer\n",
      "analog computer\n"
     ]
    }
   ],
   "source": [
    "#print some of this classes\n",
    "for subclass in subclasses_list[:5]:\n",
    "    q42_dict = get_entity_dict_from_api(subclass)\n",
    "    print(WikidataItem(q42_dict).get_label())"
   ]
  },
  {
   "cell_type": "code",
   "execution_count": 42,
   "id": "2bf9175c",
   "metadata": {},
   "outputs": [
    {
     "name": "stderr",
     "output_type": "stream",
     "text": [
      "en.wikipedia.org (parse) iPad\n"
     ]
    },
    {
     "data": {
      "text/plain": [
       "'Q2796'"
      ]
     },
     "execution_count": 42,
     "metadata": {},
     "output_type": "execute_result"
    }
   ],
   "source": [
    "page = wptools.page(candidate_name)\n",
    "data = page.get_parse(show=False)\n",
    "data.data['wikibase']"
   ]
  },
  {
   "cell_type": "code",
   "execution_count": 43,
   "id": "b84baa20",
   "metadata": {},
   "outputs": [
    {
     "name": "stdout",
     "output_type": "stream",
     "text": [
      "Is class `computer` is a subclass of `iPad`:  True\n"
     ]
    }
   ],
   "source": [
    "print(f\"Is class `{parent_name}` is a subclass of `{candidate_name}`: \", data.data['wikibase'] in subclasses_list)"
   ]
  },
  {
   "cell_type": "markdown",
   "id": "19a50c67",
   "metadata": {},
   "source": [
    "Run on our list of hypernyms"
   ]
  },
  {
   "cell_type": "code",
   "execution_count": 44,
   "id": "96deb48f",
   "metadata": {},
   "outputs": [],
   "source": [
    "def wikidata_is_subclass(word_1, word_2):\n",
    "    parent_name = word_1\n",
    "    candidate_name = word_2\n",
    "\n",
    "    # get Wikidata item for parent\n",
    "    page = wptools.page(parent_name)\n",
    "    try:\n",
    "        data_parent = page.get_parse(show=False)\n",
    "    except:\n",
    "        print(f\"Could not find Wikidata item for `{parent_name}`\")\n",
    "        return \"⚠️\"\n",
    "    q_parent_id = data_parent.data['wikibase']\n",
    "\n",
    "    # get Wikidata item for candidate\n",
    "    page = wptools.page(candidate_name)\n",
    "    try:\n",
    "        data_subclass = page.get_parse(show=False)\n",
    "    except:\n",
    "        print(f\"Could not find Wikidata item for `{candidate_name}`\")\n",
    "        return \"⚠️\"\n",
    "    q_subclass_id = data_subclass.data['wikibase']\n",
    "\n",
    "    # use convenience function to get subclasses of an item as a list of item ids\n",
    "    subclasses_list = get_subclasses_of_item(q_parent_id)\n",
    "\n",
    "    res = q_subclass_id in subclasses_list\n",
    "    if res:\n",
    "        return \"✅\"\n",
    "    else:\n",
    "        return \"❌\""
   ]
  },
  {
   "cell_type": "code",
   "execution_count": 45,
   "id": "78db3aeb",
   "metadata": {},
   "outputs": [
    {
     "data": {
      "application/vnd.jupyter.widget-view+json": {
       "model_id": "4bc9156ee42541c7a9d44a3ff6d87c16",
       "version_major": 2,
       "version_minor": 0
      },
      "text/plain": [
       "0it [00:00, ?it/s]"
      ]
     },
     "metadata": {},
     "output_type": "display_data"
    },
    {
     "name": "stderr",
     "output_type": "stream",
     "text": [
      "en.wikipedia.org (parse) wireless communication\n",
      "en.wikipedia.org (parse) wireless LAN\n",
      "en.wikipedia.org (parse) wireless communication\n",
      "en.wikipedia.org (parse) wireless LAN\n"
     ]
    },
    {
     "name": "stdout",
     "output_type": "stream",
     "text": [
      "wireless communication ⬅️ wireless LAN :  ✅\n"
     ]
    },
    {
     "name": "stderr",
     "output_type": "stream",
     "text": [
      "en.wikipedia.org (parse) wireless communication\n",
      "en.wikipedia.org (parse) wireless LAN\n",
      "en.wikipedia.org (parse) wireless communication\n",
      "en.wikipedia.org (parse) wireless LAN\n"
     ]
    },
    {
     "name": "stdout",
     "output_type": "stream",
     "text": [
      "wireless communication ⬅️ wireless LAN :  ✅\n"
     ]
    },
    {
     "name": "stderr",
     "output_type": "stream",
     "text": [
      "en.wikipedia.org (parse) semiconductor memory\n",
      "en.wikipedia.org (parse) random access\n",
      "en.wikipedia.org (parse) semiconductor memory\n",
      "en.wikipedia.org (parse) random access\n"
     ]
    },
    {
     "name": "stdout",
     "output_type": "stream",
     "text": [
      "semiconductor memory ⬅️ random access :  ❌\n"
     ]
    },
    {
     "name": "stderr",
     "output_type": "stream",
     "text": [
      "en.wikipedia.org (parse) visible light\n",
      "en.wikipedia.org (parse) ultraviolet light\n",
      "en.wikipedia.org (parse) visible light\n",
      "en.wikipedia.org (parse) ultraviolet light\n"
     ]
    },
    {
     "name": "stdout",
     "output_type": "stream",
     "text": [
      "visible light ⬅️ ultraviolet light :  ❌\n"
     ]
    },
    {
     "name": "stderr",
     "output_type": "stream",
     "text": [
      "en.wikipedia.org (parse) visible light\n",
      "en.wikipedia.org (parse) infrared light\n",
      "en.wikipedia.org (parse) visible light\n",
      "en.wikipedia.org (parse) infrared light\n"
     ]
    },
    {
     "name": "stdout",
     "output_type": "stream",
     "text": [
      "visible light ⬅️ infrared light :  ❌\n"
     ]
    },
    {
     "name": "stderr",
     "output_type": "stream",
     "text": [
      "en.wikipedia.org (parse) mobile device\n",
      "en.wikipedia.org (parse) mobile phone\n",
      "en.wikipedia.org (parse) mobile device\n",
      "en.wikipedia.org (parse) mobile phone\n"
     ]
    },
    {
     "name": "stdout",
     "output_type": "stream",
     "text": [
      "mobile device ⬅️ mobile phone :  ✅\n"
     ]
    },
    {
     "name": "stderr",
     "output_type": "stream",
     "text": [
      "en.wikipedia.org (parse) telecommunication network\n",
      "en.wikipedia.org (parse) the internet\n",
      "en.wikipedia.org (parse) telecommunication network\n",
      "en.wikipedia.org (parse) the internet\n"
     ]
    },
    {
     "name": "stdout",
     "output_type": "stream",
     "text": [
      "telecommunication network ⬅️ the internet :  ✅\n"
     ]
    },
    {
     "name": "stderr",
     "output_type": "stream",
     "text": [
      "en.wikipedia.org (parse) reflective glass\n",
      "en.wikipedia.org (parse) one-way mirror\n",
      "en.wikipedia.org (parse) reflective glass\n",
      "en.wikipedia.org (parse) one-way mirror\n"
     ]
    },
    {
     "name": "stdout",
     "output_type": "stream",
     "text": [
      "reflective glass ⬅️ one-way mirror :  ✅\n"
     ]
    },
    {
     "name": "stderr",
     "output_type": "stream",
     "text": [
      "en.wikipedia.org (parse) digital camera\n",
      "en.wikipedia.org (parse) the system\n",
      "en.wikipedia.org (parse) digital camera\n",
      "en.wikipedia.org (parse) the system\n"
     ]
    },
    {
     "name": "stdout",
     "output_type": "stream",
     "text": [
      "digital camera ⬅️ the system :  ❌\n"
     ]
    },
    {
     "name": "stderr",
     "output_type": "stream",
     "text": [
      "en.wikipedia.org (parse) mass memory device\n",
      "API error: {'code': 'missingtitle', 'info': \"The page you specified doesn't exist.\", 'docref': 'See https://en.wikipedia.org/w/api.php for API usage. Subscribe to the mediawiki-api-announce mailing list at &lt;https://lists.wikimedia.org/postorius/lists/mediawiki-api-announce.lists.wikimedia.org/&gt; for notice of API deprecations and breaking changes.'}\n",
      "en.wikipedia.org (parse) mass memory device\n"
     ]
    },
    {
     "name": "stdout",
     "output_type": "stream",
     "text": [
      "Could not find Wikidata item for `mass memory device`\n"
     ]
    },
    {
     "name": "stderr",
     "output_type": "stream",
     "text": [
      "API error: {'code': 'missingtitle', 'info': \"The page you specified doesn't exist.\", 'docref': 'See https://en.wikipedia.org/w/api.php for API usage. Subscribe to the mediawiki-api-announce mailing list at &lt;https://lists.wikimedia.org/postorius/lists/mediawiki-api-announce.lists.wikimedia.org/&gt; for notice of API deprecations and breaking changes.'}\n",
      "en.wikipedia.org (parse) virtual environment\n"
     ]
    },
    {
     "name": "stdout",
     "output_type": "stream",
     "text": [
      "Could not find Wikidata item for `mass memory device`\n",
      "mass memory device ⬅️ hard drive :  ⚠️\n"
     ]
    },
    {
     "name": "stderr",
     "output_type": "stream",
     "text": [
      "en.wikipedia.org (parse) virtual environment\n",
      "en.wikipedia.org (parse) virtual environment\n",
      "en.wikipedia.org (parse) virtual environment\n"
     ]
    },
    {
     "name": "stdout",
     "output_type": "stream",
     "text": [
      "virtual environment ⬅️ virtual environment :  ✅\n"
     ]
    },
    {
     "name": "stderr",
     "output_type": "stream",
     "text": [
      "en.wikipedia.org (parse) two-dimensional code\n",
      "en.wikipedia.org (parse) a square\n",
      "API error: {'code': 'missingtitle', 'info': \"The page you specified doesn't exist.\", 'docref': 'See https://en.wikipedia.org/w/api.php for API usage. Subscribe to the mediawiki-api-announce mailing list at &lt;https://lists.wikimedia.org/postorius/lists/mediawiki-api-announce.lists.wikimedia.org/&gt; for notice of API deprecations and breaking changes.'}\n",
      "en.wikipedia.org (parse) two-dimensional code\n"
     ]
    },
    {
     "name": "stdout",
     "output_type": "stream",
     "text": [
      "Could not find Wikidata item for `a square`\n"
     ]
    },
    {
     "name": "stderr",
     "output_type": "stream",
     "text": [
      "en.wikipedia.org (parse) a square\n",
      "API error: {'code': 'missingtitle', 'info': \"The page you specified doesn't exist.\", 'docref': 'See https://en.wikipedia.org/w/api.php for API usage. Subscribe to the mediawiki-api-announce mailing list at &lt;https://lists.wikimedia.org/postorius/lists/mediawiki-api-announce.lists.wikimedia.org/&gt; for notice of API deprecations and breaking changes.'}\n",
      "en.wikipedia.org (parse) the image\n"
     ]
    },
    {
     "name": "stdout",
     "output_type": "stream",
     "text": [
      "Could not find Wikidata item for `a square`\n",
      "two-dimensional code ⬅️ a square :  ⚠️\n"
     ]
    },
    {
     "name": "stderr",
     "output_type": "stream",
     "text": [
      "API error: {'code': 'missingtitle', 'info': \"The page you specified doesn't exist.\", 'docref': 'See https://en.wikipedia.org/w/api.php for API usage. Subscribe to the mediawiki-api-announce mailing list at &lt;https://lists.wikimedia.org/postorius/lists/mediawiki-api-announce.lists.wikimedia.org/&gt; for notice of API deprecations and breaking changes.'}\n",
      "en.wikipedia.org (parse) the image\n"
     ]
    },
    {
     "name": "stdout",
     "output_type": "stream",
     "text": [
      "Could not find Wikidata item for `the image`\n"
     ]
    },
    {
     "name": "stderr",
     "output_type": "stream",
     "text": [
      "API error: {'code': 'missingtitle', 'info': \"The page you specified doesn't exist.\", 'docref': 'See https://en.wikipedia.org/w/api.php for API usage. Subscribe to the mediawiki-api-announce mailing list at &lt;https://lists.wikimedia.org/postorius/lists/mediawiki-api-announce.lists.wikimedia.org/&gt; for notice of API deprecations and breaking changes.'}\n",
      "en.wikipedia.org (parse) geographical location data\n"
     ]
    },
    {
     "name": "stdout",
     "output_type": "stream",
     "text": [
      "Could not find Wikidata item for `the image`\n",
      "the image ⬅️ two-dimensional code :  ⚠️\n"
     ]
    },
    {
     "name": "stderr",
     "output_type": "stream",
     "text": [
      "API error: {'code': 'missingtitle', 'info': \"The page you specified doesn't exist.\", 'docref': 'See https://en.wikipedia.org/w/api.php for API usage. Subscribe to the mediawiki-api-announce mailing list at &lt;https://lists.wikimedia.org/postorius/lists/mediawiki-api-announce.lists.wikimedia.org/&gt; for notice of API deprecations and breaking changes.'}\n",
      "en.wikipedia.org (parse) geographical location data\n"
     ]
    },
    {
     "name": "stdout",
     "output_type": "stream",
     "text": [
      "Could not find Wikidata item for `geographical location data`\n"
     ]
    },
    {
     "name": "stderr",
     "output_type": "stream",
     "text": [
      "API error: {'code': 'missingtitle', 'info': \"The page you specified doesn't exist.\", 'docref': 'See https://en.wikipedia.org/w/api.php for API usage. Subscribe to the mediawiki-api-announce mailing list at &lt;https://lists.wikimedia.org/postorius/lists/mediawiki-api-announce.lists.wikimedia.org/&gt; for notice of API deprecations and breaking changes.'}\n",
      "en.wikipedia.org (parse) geographical location data\n"
     ]
    },
    {
     "name": "stdout",
     "output_type": "stream",
     "text": [
      "Could not find Wikidata item for `geographical location data`\n",
      "geographical location data ⬅️ longitude and latitude :  ⚠️\n"
     ]
    },
    {
     "name": "stderr",
     "output_type": "stream",
     "text": [
      "API error: {'code': 'missingtitle', 'info': \"The page you specified doesn't exist.\", 'docref': 'See https://en.wikipedia.org/w/api.php for API usage. Subscribe to the mediawiki-api-announce mailing list at &lt;https://lists.wikimedia.org/postorius/lists/mediawiki-api-announce.lists.wikimedia.org/&gt; for notice of API deprecations and breaking changes.'}\n",
      "en.wikipedia.org (parse) geographical location data\n"
     ]
    },
    {
     "name": "stdout",
     "output_type": "stream",
     "text": [
      "Could not find Wikidata item for `geographical location data`\n"
     ]
    },
    {
     "name": "stderr",
     "output_type": "stream",
     "text": [
      "API error: {'code': 'missingtitle', 'info': \"The page you specified doesn't exist.\", 'docref': 'See https://en.wikipedia.org/w/api.php for API usage. Subscribe to the mediawiki-api-announce mailing list at &lt;https://lists.wikimedia.org/postorius/lists/mediawiki-api-announce.lists.wikimedia.org/&gt; for notice of API deprecations and breaking changes.'}\n",
      "en.wikipedia.org (parse) information processing system\n"
     ]
    },
    {
     "name": "stdout",
     "output_type": "stream",
     "text": [
      "Could not find Wikidata item for `geographical location data`\n",
      "geographical location data ⬅️ longitude and latitude :  ⚠️\n"
     ]
    },
    {
     "name": "stderr",
     "output_type": "stream",
     "text": [
      "en.wikipedia.org (parse) electronic pen\n",
      "en.wikipedia.org (parse) information processing system\n",
      "en.wikipedia.org (parse) electronic pen\n"
     ]
    },
    {
     "name": "stdout",
     "output_type": "stream",
     "text": [
      "information processing system ⬅️ electronic pen :  ❌\n"
     ]
    },
    {
     "name": "stderr",
     "output_type": "stream",
     "text": [
      "en.wikipedia.org (parse) start signal\n",
      "en.wikipedia.org (parse) the signal\n",
      "API error: {'code': 'missingtitle', 'info': \"The page you specified doesn't exist.\", 'docref': 'See https://en.wikipedia.org/w/api.php for API usage. Subscribe to the mediawiki-api-announce mailing list at &lt;https://lists.wikimedia.org/postorius/lists/mediawiki-api-announce.lists.wikimedia.org/&gt; for notice of API deprecations and breaking changes.'}\n",
      "en.wikipedia.org (parse) start signal\n"
     ]
    },
    {
     "name": "stdout",
     "output_type": "stream",
     "text": [
      "Could not find Wikidata item for `the signal`\n"
     ]
    },
    {
     "name": "stderr",
     "output_type": "stream",
     "text": [
      "en.wikipedia.org (parse) the signal\n",
      "API error: {'code': 'missingtitle', 'info': \"The page you specified doesn't exist.\", 'docref': 'See https://en.wikipedia.org/w/api.php for API usage. Subscribe to the mediawiki-api-announce mailing list at &lt;https://lists.wikimedia.org/postorius/lists/mediawiki-api-announce.lists.wikimedia.org/&gt; for notice of API deprecations and breaking changes.'}\n",
      "en.wikipedia.org (parse) storage medium\n"
     ]
    },
    {
     "name": "stdout",
     "output_type": "stream",
     "text": [
      "Could not find Wikidata item for `the signal`\n",
      "start signal ⬅️ the signal :  ⚠️\n"
     ]
    },
    {
     "name": "stderr",
     "output_type": "stream",
     "text": [
      "en.wikipedia.org (parse) computer readable\n",
      "en.wikipedia.org (parse) storage medium\n",
      "en.wikipedia.org (parse) computer readable\n"
     ]
    },
    {
     "name": "stdout",
     "output_type": "stream",
     "text": [
      "storage medium ⬅️ computer readable :  ✅\n"
     ]
    },
    {
     "name": "stderr",
     "output_type": "stream",
     "text": [
      "en.wikipedia.org (parse) storage medium\n",
      "en.wikipedia.org (parse) computer readable\n",
      "en.wikipedia.org (parse) storage medium\n",
      "en.wikipedia.org (parse) computer readable\n"
     ]
    },
    {
     "name": "stdout",
     "output_type": "stream",
     "text": [
      "storage medium ⬅️ computer readable :  ✅\n"
     ]
    },
    {
     "name": "stderr",
     "output_type": "stream",
     "text": [
      "en.wikipedia.org (parse) storage medium\n",
      "en.wikipedia.org (parse) hard disk\n",
      "en.wikipedia.org (imageinfo) File:IBM 350 RAMAC.jpg\n",
      "en.wikipedia.org (parse) storage medium\n",
      "en.wikipedia.org (parse) hard disk\n",
      "en.wikipedia.org (imageinfo) File:IBM 350 RAMAC.jpg\n"
     ]
    },
    {
     "name": "stdout",
     "output_type": "stream",
     "text": [
      "storage medium ⬅️ hard disk :  ✅\n"
     ]
    },
    {
     "name": "stderr",
     "output_type": "stream",
     "text": [
      "en.wikipedia.org (parse) storage medium\n",
      "en.wikipedia.org (parse) semiconductor memory\n",
      "en.wikipedia.org (parse) storage medium\n",
      "en.wikipedia.org (parse) semiconductor memory\n"
     ]
    },
    {
     "name": "stdout",
     "output_type": "stream",
     "text": [
      "storage medium ⬅️ semiconductor memory :  ✅\n"
     ]
    },
    {
     "name": "stderr",
     "output_type": "stream",
     "text": [
      "en.wikipedia.org (parse) storage medium\n",
      "en.wikipedia.org (parse) hard disk\n",
      "en.wikipedia.org (imageinfo) File:IBM 350 RAMAC.jpg\n",
      "en.wikipedia.org (parse) storage medium\n",
      "en.wikipedia.org (parse) hard disk\n",
      "en.wikipedia.org (imageinfo) File:IBM 350 RAMAC.jpg\n"
     ]
    },
    {
     "name": "stdout",
     "output_type": "stream",
     "text": [
      "storage medium ⬅️ hard disk :  ✅\n"
     ]
    },
    {
     "name": "stderr",
     "output_type": "stream",
     "text": [
      "en.wikipedia.org (parse) storage medium\n",
      "en.wikipedia.org (parse) semiconductor memory\n",
      "en.wikipedia.org (parse) storage medium\n",
      "en.wikipedia.org (parse) semiconductor memory\n"
     ]
    },
    {
     "name": "stdout",
     "output_type": "stream",
     "text": [
      "storage medium ⬅️ semiconductor memory :  ✅\n"
     ]
    },
    {
     "name": "stderr",
     "output_type": "stream",
     "text": [
      "en.wikipedia.org (parse) electronic device\n",
      "en.wikipedia.org (parse) mobile phone\n",
      "en.wikipedia.org (parse) electronic device\n",
      "en.wikipedia.org (parse) mobile phone\n"
     ]
    },
    {
     "name": "stdout",
     "output_type": "stream",
     "text": [
      "electronic device ⬅️ mobile phone :  ❌\n"
     ]
    },
    {
     "name": "stderr",
     "output_type": "stream",
     "text": [
      "en.wikipedia.org (parse) neural network\n",
      "en.wikipedia.org (parse) convolutional neural network\n",
      "en.wikipedia.org (parse) neural network\n",
      "en.wikipedia.org (parse) convolutional neural network\n"
     ]
    },
    {
     "name": "stdout",
     "output_type": "stream",
     "text": [
      "neural network ⬅️ convolutional neural network :  ✅\n"
     ]
    },
    {
     "name": "stderr",
     "output_type": "stream",
     "text": [
      "en.wikipedia.org (parse) communication network\n",
      "en.wikipedia.org (parse) the Internet\n",
      "en.wikipedia.org (parse) communication network\n",
      "en.wikipedia.org (parse) the Internet\n"
     ]
    },
    {
     "name": "stdout",
     "output_type": "stream",
     "text": [
      "communication network ⬅️ the Internet :  ✅\n"
     ]
    },
    {
     "name": "stderr",
     "output_type": "stream",
     "text": [
      "en.wikipedia.org (parse) communication network\n",
      "en.wikipedia.org (parse) the Internet\n",
      "en.wikipedia.org (parse) communication network\n",
      "en.wikipedia.org (parse) the Internet\n"
     ]
    },
    {
     "name": "stdout",
     "output_type": "stream",
     "text": [
      "communication network ⬅️ the Internet :  ✅\n"
     ]
    },
    {
     "name": "stderr",
     "output_type": "stream",
     "text": [
      "en.wikipedia.org (parse) semiconductor memory\n",
      "en.wikipedia.org (parse) flash memory\n",
      "en.wikipedia.org (parse) semiconductor memory\n",
      "en.wikipedia.org (parse) flash memory\n"
     ]
    },
    {
     "name": "stdout",
     "output_type": "stream",
     "text": [
      "semiconductor memory ⬅️ flash memory :  ❌\n"
     ]
    },
    {
     "name": "stderr",
     "output_type": "stream",
     "text": [
      "en.wikipedia.org (parse) optical media\n",
      "en.wikipedia.org (parse) optical discs\n",
      "en.wikipedia.org (parse) optical media\n",
      "en.wikipedia.org (parse) optical discs\n"
     ]
    },
    {
     "name": "stdout",
     "output_type": "stream",
     "text": [
      "optical media ⬅️ optical discs :  ✅\n"
     ]
    },
    {
     "name": "stderr",
     "output_type": "stream",
     "text": [
      "en.wikipedia.org (parse) magnetic media\n",
      "en.wikipedia.org (parse) hard disks\n",
      "en.wikipedia.org (imageinfo) File:IBM 350 RAMAC.jpg\n",
      "en.wikipedia.org (parse) magnetic media\n",
      "en.wikipedia.org (parse) hard disks\n",
      "en.wikipedia.org (imageinfo) File:IBM 350 RAMAC.jpg\n"
     ]
    },
    {
     "name": "stdout",
     "output_type": "stream",
     "text": [
      "magnetic media ⬅️ hard disks :  ❌\n"
     ]
    },
    {
     "name": "stderr",
     "output_type": "stream",
     "text": [
      "en.wikipedia.org (parse) communication network\n",
      "en.wikipedia.org (parse) cellular network\n",
      "en.wikipedia.org (parse) communication network\n",
      "en.wikipedia.org (parse) cellular network\n"
     ]
    },
    {
     "name": "stdout",
     "output_type": "stream",
     "text": [
      "communication network ⬅️ cellular network :  ❌\n"
     ]
    },
    {
     "name": "stderr",
     "output_type": "stream",
     "text": [
      "en.wikipedia.org (parse) communication network\n",
      "en.wikipedia.org (parse) the Internet\n",
      "en.wikipedia.org (parse) communication network\n",
      "en.wikipedia.org (parse) the Internet\n"
     ]
    },
    {
     "name": "stdout",
     "output_type": "stream",
     "text": [
      "communication network ⬅️ the Internet :  ✅\n"
     ]
    },
    {
     "name": "stderr",
     "output_type": "stream",
     "text": [
      "en.wikipedia.org (parse) communication network\n",
      "en.wikipedia.org (parse) computer network\n",
      "en.wikipedia.org (parse) communication network\n",
      "en.wikipedia.org (parse) computer network\n"
     ]
    },
    {
     "name": "stdout",
     "output_type": "stream",
     "text": [
      "communication network ⬅️ computer network :  ✅\n"
     ]
    },
    {
     "name": "stderr",
     "output_type": "stream",
     "text": [
      "en.wikipedia.org (parse) machine learning algorithm\n",
      "en.wikipedia.org (parse) deep learning\n",
      "en.wikipedia.org (parse) machine learning algorithm\n",
      "en.wikipedia.org (parse) deep learning\n"
     ]
    },
    {
     "name": "stdout",
     "output_type": "stream",
     "text": [
      "machine learning algorithm ⬅️ deep learning :  ✅\n"
     ]
    },
    {
     "name": "stderr",
     "output_type": "stream",
     "text": [
      "en.wikipedia.org (parse) statistical method\n",
      "en.wikipedia.org (parse) principal component analysis\n",
      "en.wikipedia.org (parse) statistical method\n",
      "en.wikipedia.org (parse) principal component analysis\n"
     ]
    },
    {
     "name": "stdout",
     "output_type": "stream",
     "text": [
      "statistical method ⬅️ principal component analysis :  ✅\n"
     ]
    },
    {
     "name": "stderr",
     "output_type": "stream",
     "text": [
      "en.wikipedia.org (parse) mobile terminal\n",
      "en.wikipedia.org (parse) personal digital assistant\n",
      "en.wikipedia.org (parse) mobile terminal\n",
      "en.wikipedia.org (parse) personal digital assistant\n"
     ]
    },
    {
     "name": "stdout",
     "output_type": "stream",
     "text": [
      "mobile terminal ⬅️ personal digital assistant :  ❌\n"
     ]
    },
    {
     "name": "stderr",
     "output_type": "stream",
     "text": [
      "en.wikipedia.org (parse) propulsion systems\n",
      "en.wikipedia.org (parse) gas turbine engine\n",
      "en.wikipedia.org (parse) propulsion systems\n",
      "en.wikipedia.org (parse) gas turbine engine\n"
     ]
    },
    {
     "name": "stdout",
     "output_type": "stream",
     "text": [
      "propulsion systems ⬅️ gas turbine engine :  ✅\n"
     ]
    },
    {
     "name": "stderr",
     "output_type": "stream",
     "text": [
      "en.wikipedia.org (parse) landing gear\n",
      "en.wikipedia.org (parse) propulsion systems\n",
      "en.wikipedia.org (parse) landing gear\n",
      "en.wikipedia.org (parse) propulsion systems\n"
     ]
    },
    {
     "name": "stdout",
     "output_type": "stream",
     "text": [
      "landing gear ⬅️ propulsion systems :  ❌\n"
     ]
    },
    {
     "name": "stderr",
     "output_type": "stream",
     "text": [
      "en.wikipedia.org (parse) landing gear\n",
      "en.wikipedia.org (parse) landing gear\n",
      "en.wikipedia.org (parse) landing gear\n",
      "en.wikipedia.org (parse) landing gear\n"
     ]
    },
    {
     "name": "stdout",
     "output_type": "stream",
     "text": [
      "landing gear ⬅️ landing gear :  ✅\n"
     ]
    },
    {
     "name": "stderr",
     "output_type": "stream",
     "text": [
      "en.wikipedia.org (parse) communication network\n",
      "en.wikipedia.org (parse) the Internet\n",
      "en.wikipedia.org (parse) communication network\n",
      "en.wikipedia.org (parse) the Internet\n"
     ]
    },
    {
     "name": "stdout",
     "output_type": "stream",
     "text": [
      "communication network ⬅️ the Internet :  ✅\n"
     ]
    },
    {
     "name": "stderr",
     "output_type": "stream",
     "text": [
      "en.wikipedia.org (parse) handheld devices\n",
      "en.wikipedia.org (parse) mobile telephones\n",
      "en.wikipedia.org (parse) handheld devices\n",
      "en.wikipedia.org (parse) mobile telephones\n"
     ]
    },
    {
     "name": "stdout",
     "output_type": "stream",
     "text": [
      "handheld devices ⬅️ mobile telephones :  ✅\n"
     ]
    },
    {
     "name": "stderr",
     "output_type": "stream",
     "text": [
      "en.wikipedia.org (parse) communications network\n",
      "en.wikipedia.org (parse) cellular telephone\n",
      "en.wikipedia.org (parse) communications network\n",
      "en.wikipedia.org (parse) cellular telephone\n"
     ]
    },
    {
     "name": "stdout",
     "output_type": "stream",
     "text": [
      "communications network ⬅️ cellular telephone :  ❌\n"
     ]
    },
    {
     "name": "stderr",
     "output_type": "stream",
     "text": [
      "en.wikipedia.org (parse) communications network\n",
      "en.wikipedia.org (parse) the Internet\n",
      "en.wikipedia.org (parse) communications network\n",
      "en.wikipedia.org (parse) the Internet\n"
     ]
    },
    {
     "name": "stdout",
     "output_type": "stream",
     "text": [
      "communications network ⬅️ the Internet :  ✅\n"
     ]
    },
    {
     "name": "stderr",
     "output_type": "stream",
     "text": [
      "en.wikipedia.org (parse) communications network\n",
      "en.wikipedia.org (parse) local area network\n",
      "en.wikipedia.org (parse) communications network\n",
      "en.wikipedia.org (parse) local area network\n"
     ]
    },
    {
     "name": "stdout",
     "output_type": "stream",
     "text": [
      "communications network ⬅️ local area network :  ✅\n"
     ]
    },
    {
     "name": "stderr",
     "output_type": "stream",
     "text": [
      "en.wikipedia.org (parse) programming languages\n",
      "en.wikipedia.org (parse) object oriented programming language\n",
      "en.wikipedia.org (parse) programming languages\n",
      "en.wikipedia.org (parse) object oriented programming language\n"
     ]
    },
    {
     "name": "stdout",
     "output_type": "stream",
     "text": [
      "programming languages ⬅️ object oriented programming language :  ❌\n"
     ]
    },
    {
     "name": "stderr",
     "output_type": "stream",
     "text": [
      "en.wikipedia.org (parse) field of view\n",
      "en.wikipedia.org (parse) field of view\n",
      "en.wikipedia.org (parse) field of view\n",
      "en.wikipedia.org (parse) field of view\n"
     ]
    },
    {
     "name": "stdout",
     "output_type": "stream",
     "text": [
      "field of view ⬅️ field of view :  ✅\n"
     ]
    },
    {
     "name": "stderr",
     "output_type": "stream",
     "text": [
      "en.wikipedia.org (parse) integrated circuit\n",
      "en.wikipedia.org (parse) central processing unit\n",
      "en.wikipedia.org (parse) integrated circuit\n",
      "en.wikipedia.org (parse) central processing unit\n"
     ]
    },
    {
     "name": "stdout",
     "output_type": "stream",
     "text": [
      "integrated circuit ⬅️ central processing unit :  ❌\n"
     ]
    },
    {
     "name": "stderr",
     "output_type": "stream",
     "text": [
      "en.wikipedia.org (parse) flexible display\n",
      "en.wikipedia.org (parse) display device\n",
      "en.wikipedia.org (parse) flexible display\n",
      "en.wikipedia.org (parse) display device\n"
     ]
    },
    {
     "name": "stdout",
     "output_type": "stream",
     "text": [
      "flexible display ⬅️ display device :  ❌\n"
     ]
    },
    {
     "name": "stderr",
     "output_type": "stream",
     "text": [
      "en.wikipedia.org (parse) laser projector\n",
      "en.wikipedia.org (parse) display device\n",
      "en.wikipedia.org (parse) laser projector\n",
      "en.wikipedia.org (parse) display device\n"
     ]
    },
    {
     "name": "stdout",
     "output_type": "stream",
     "text": [
      "laser projector ⬅️ display device :  ❌\n"
     ]
    },
    {
     "name": "stderr",
     "output_type": "stream",
     "text": [
      "en.wikipedia.org (parse) laser projector\n",
      "en.wikipedia.org (parse) display device\n",
      "en.wikipedia.org (parse) laser projector\n",
      "en.wikipedia.org (parse) display device\n"
     ]
    },
    {
     "name": "stdout",
     "output_type": "stream",
     "text": [
      "laser projector ⬅️ display device :  ❌\n"
     ]
    },
    {
     "name": "stderr",
     "output_type": "stream",
     "text": [
      "en.wikipedia.org (parse) laser projector\n",
      "en.wikipedia.org (parse) display device\n",
      "en.wikipedia.org (parse) laser projector\n",
      "en.wikipedia.org (parse) display device\n"
     ]
    },
    {
     "name": "stdout",
     "output_type": "stream",
     "text": [
      "laser projector ⬅️ display device :  ❌\n"
     ]
    },
    {
     "name": "stderr",
     "output_type": "stream",
     "text": [
      "en.wikipedia.org (parse) flexible display\n",
      "en.wikipedia.org (parse) display device\n",
      "en.wikipedia.org (parse) flexible display\n",
      "en.wikipedia.org (parse) display device\n"
     ]
    },
    {
     "name": "stdout",
     "output_type": "stream",
     "text": [
      "flexible display ⬅️ display device :  ❌\n"
     ]
    },
    {
     "name": "stderr",
     "output_type": "stream",
     "text": [
      "en.wikipedia.org (parse) inclination angle\n",
      "en.wikipedia.org (parse) inclination angle\n",
      "en.wikipedia.org (parse) inclination angle\n",
      "en.wikipedia.org (parse) inclination angle\n"
     ]
    },
    {
     "name": "stdout",
     "output_type": "stream",
     "text": [
      "inclination angle ⬅️ inclination angle :  ✅\n"
     ]
    },
    {
     "name": "stderr",
     "output_type": "stream",
     "text": [
      "en.wikipedia.org (parse) inclination angle\n",
      "en.wikipedia.org (parse) inclination angle\n",
      "en.wikipedia.org (parse) inclination angle\n",
      "en.wikipedia.org (parse) inclination angle\n"
     ]
    },
    {
     "name": "stdout",
     "output_type": "stream",
     "text": [
      "inclination angle ⬅️ inclination angle :  ✅\n"
     ]
    },
    {
     "name": "stderr",
     "output_type": "stream",
     "text": [
      "en.wikipedia.org (parse) non-volatile RAM\n",
      "en.wikipedia.org (parse) read-only memory\n",
      "en.wikipedia.org (parse) non-volatile RAM\n",
      "en.wikipedia.org (parse) read-only memory\n"
     ]
    },
    {
     "name": "stdout",
     "output_type": "stream",
     "text": [
      "non-volatile RAM ⬅️ read-only memory :  ❌\n"
     ]
    },
    {
     "name": "stderr",
     "output_type": "stream",
     "text": [
      "en.wikipedia.org (parse) non-volatile RAM\n",
      "en.wikipedia.org (parse) read-only memory\n",
      "en.wikipedia.org (parse) non-volatile RAM\n",
      "en.wikipedia.org (parse) read-only memory\n"
     ]
    },
    {
     "name": "stdout",
     "output_type": "stream",
     "text": [
      "non-volatile RAM ⬅️ read-only memory :  ❌\n"
     ]
    },
    {
     "name": "stderr",
     "output_type": "stream",
     "text": [
      "en.wikipedia.org (parse) wireless communication\n",
      "en.wikipedia.org (parse) inter-vehicle communication\n",
      "en.wikipedia.org (parse) wireless communication\n",
      "en.wikipedia.org (parse) inter-vehicle communication\n"
     ]
    },
    {
     "name": "stdout",
     "output_type": "stream",
     "text": [
      "wireless communication ⬅️ inter-vehicle communication :  ❌\n"
     ]
    },
    {
     "name": "stderr",
     "output_type": "stream",
     "text": [
      "en.wikipedia.org (parse) electromagnetic waves\n",
      "en.wikipedia.org (parse) millimeter waves\n",
      "en.wikipedia.org (parse) electromagnetic waves\n",
      "en.wikipedia.org (parse) millimeter waves\n"
     ]
    },
    {
     "name": "stdout",
     "output_type": "stream",
     "text": [
      "electromagnetic waves ⬅️ millimeter waves :  ❌\n"
     ]
    },
    {
     "name": "stderr",
     "output_type": "stream",
     "text": [
      "en.wikipedia.org (parse) payment service\n",
      "API error: {'code': 'missingtitle', 'info': \"The page you specified doesn't exist.\", 'docref': 'See https://en.wikipedia.org/w/api.php for API usage. Subscribe to the mediawiki-api-announce mailing list at &lt;https://lists.wikimedia.org/postorius/lists/mediawiki-api-announce.lists.wikimedia.org/&gt; for notice of API deprecations and breaking changes.'}\n",
      "en.wikipedia.org (parse) payment service\n"
     ]
    },
    {
     "name": "stdout",
     "output_type": "stream",
     "text": [
      "Could not find Wikidata item for `payment service`\n"
     ]
    },
    {
     "name": "stderr",
     "output_type": "stream",
     "text": [
      "API error: {'code': 'missingtitle', 'info': \"The page you specified doesn't exist.\", 'docref': 'See https://en.wikipedia.org/w/api.php for API usage. Subscribe to the mediawiki-api-announce mailing list at &lt;https://lists.wikimedia.org/postorius/lists/mediawiki-api-announce.lists.wikimedia.org/&gt; for notice of API deprecations and breaking changes.'}\n",
      "en.wikipedia.org (parse) wireless communication\n"
     ]
    },
    {
     "name": "stdout",
     "output_type": "stream",
     "text": [
      "Could not find Wikidata item for `payment service`\n",
      "payment service ⬅️ the service :  ⚠️\n"
     ]
    },
    {
     "name": "stderr",
     "output_type": "stream",
     "text": [
      "en.wikipedia.org (parse) inter-vehicle communication\n",
      "en.wikipedia.org (parse) wireless communication\n",
      "en.wikipedia.org (parse) inter-vehicle communication\n"
     ]
    },
    {
     "name": "stdout",
     "output_type": "stream",
     "text": [
      "wireless communication ⬅️ inter-vehicle communication :  ❌\n"
     ]
    },
    {
     "name": "stderr",
     "output_type": "stream",
     "text": [
      "en.wikipedia.org (parse) electromagnetic waves\n",
      "en.wikipedia.org (parse) millimeter waves\n",
      "en.wikipedia.org (parse) electromagnetic waves\n",
      "en.wikipedia.org (parse) millimeter waves\n"
     ]
    },
    {
     "name": "stdout",
     "output_type": "stream",
     "text": [
      "electromagnetic waves ⬅️ millimeter waves :  ❌\n"
     ]
    },
    {
     "name": "stderr",
     "output_type": "stream",
     "text": [
      "en.wikipedia.org (parse) geographical coordinates\n",
      "en.wikipedia.org (parse) GPS coordinates\n",
      "en.wikipedia.org (parse) geographical coordinates\n",
      "en.wikipedia.org (parse) GPS coordinates\n"
     ]
    },
    {
     "name": "stdout",
     "output_type": "stream",
     "text": [
      "geographical coordinates ⬅️ GPS coordinates :  ❌\n"
     ]
    },
    {
     "name": "stderr",
     "output_type": "stream",
     "text": [
      "en.wikipedia.org (parse) real-time information\n",
      "en.wikipedia.org (parse) traffic jam\n",
      "en.wikipedia.org (parse) real-time information\n",
      "en.wikipedia.org (parse) traffic jam\n"
     ]
    },
    {
     "name": "stdout",
     "output_type": "stream",
     "text": [
      "real-time information ⬅️ traffic jam :  ❌\n"
     ]
    },
    {
     "name": "stderr",
     "output_type": "stream",
     "text": [
      "en.wikipedia.org (parse) recording medium\n",
      "en.wikipedia.org (parse) hard disk\n",
      "en.wikipedia.org (imageinfo) File:IBM 350 RAMAC.jpg\n",
      "en.wikipedia.org (parse) recording medium\n",
      "en.wikipedia.org (parse) hard disk\n",
      "en.wikipedia.org (imageinfo) File:IBM 350 RAMAC.jpg\n"
     ]
    },
    {
     "name": "stdout",
     "output_type": "stream",
     "text": [
      "recording medium ⬅️ hard disk :  ✅\n"
     ]
    },
    {
     "name": "stderr",
     "output_type": "stream",
     "text": [
      "en.wikipedia.org (parse) recording medium\n",
      "en.wikipedia.org (parse) semiconductor memory\n",
      "en.wikipedia.org (parse) recording medium\n",
      "en.wikipedia.org (parse) semiconductor memory\n"
     ]
    },
    {
     "name": "stdout",
     "output_type": "stream",
     "text": [
      "recording medium ⬅️ semiconductor memory :  ✅\n"
     ]
    },
    {
     "name": "stderr",
     "output_type": "stream",
     "text": [
      "en.wikipedia.org (parse) moving images\n",
      "en.wikipedia.org (parse) digital camera\n",
      "en.wikipedia.org (parse) moving images\n",
      "en.wikipedia.org (parse) digital camera\n"
     ]
    },
    {
     "name": "stdout",
     "output_type": "stream",
     "text": [
      "moving images ⬅️ digital camera :  ❌\n"
     ]
    },
    {
     "name": "stderr",
     "output_type": "stream",
     "text": [
      "en.wikipedia.org (parse) moving images\n",
      "en.wikipedia.org (parse) digital camcorder\n",
      "en.wikipedia.org (parse) moving images\n",
      "en.wikipedia.org (parse) digital camcorder\n"
     ]
    },
    {
     "name": "stdout",
     "output_type": "stream",
     "text": [
      "moving images ⬅️ digital camcorder :  ❌\n"
     ]
    },
    {
     "name": "stderr",
     "output_type": "stream",
     "text": [
      "en.wikipedia.org (parse) light source\n",
      "en.wikipedia.org (parse) laser diode\n",
      "en.wikipedia.org (imageinfo) File:Diode laser.jpg\n",
      "en.wikipedia.org (parse) light source\n",
      "en.wikipedia.org (parse) laser diode\n",
      "en.wikipedia.org (imageinfo) File:Diode laser.jpg\n"
     ]
    },
    {
     "name": "stdout",
     "output_type": "stream",
     "text": [
      "light source ⬅️ laser diode :  ❌\n"
     ]
    },
    {
     "name": "stderr",
     "output_type": "stream",
     "text": [
      "en.wikipedia.org (parse) optical system\n",
      "en.wikipedia.org (parse) plane mirror\n",
      "en.wikipedia.org (parse) optical system\n",
      "en.wikipedia.org (parse) plane mirror\n"
     ]
    },
    {
     "name": "stdout",
     "output_type": "stream",
     "text": [
      "optical system ⬅️ plane mirror :  ❌\n"
     ]
    },
    {
     "name": "stderr",
     "output_type": "stream",
     "text": [
      "en.wikipedia.org (parse) computer readable\n",
      "en.wikipedia.org (parse) optical disk\n",
      "en.wikipedia.org (parse) computer readable\n",
      "en.wikipedia.org (parse) optical disk\n"
     ]
    },
    {
     "name": "stdout",
     "output_type": "stream",
     "text": [
      "computer readable ⬅️ optical disk :  ✅\n"
     ]
    },
    {
     "name": "stderr",
     "output_type": "stream",
     "text": [
      "en.wikipedia.org (parse) computer readable\n",
      "en.wikipedia.org (parse) magnetic disk\n",
      "en.wikipedia.org (parse) computer readable\n",
      "en.wikipedia.org (parse) magnetic disk\n"
     ]
    },
    {
     "name": "stdout",
     "output_type": "stream",
     "text": [
      "computer readable ⬅️ magnetic disk :  ✅\n"
     ]
    },
    {
     "name": "stderr",
     "output_type": "stream",
     "text": [
      "en.wikipedia.org (parse) personal computer\n",
      "en.wikipedia.org (parse) laptop computer\n",
      "en.wikipedia.org (parse) personal computer\n",
      "en.wikipedia.org (parse) laptop computer\n"
     ]
    },
    {
     "name": "stdout",
     "output_type": "stream",
     "text": [
      "personal computer ⬅️ laptop computer :  ✅\n"
     ]
    },
    {
     "name": "stderr",
     "output_type": "stream",
     "text": [
      "en.wikipedia.org (parse) personal computer\n",
      "en.wikipedia.org (parse) desktop computer\n",
      "en.wikipedia.org (parse) personal computer\n",
      "en.wikipedia.org (parse) desktop computer\n"
     ]
    },
    {
     "name": "stdout",
     "output_type": "stream",
     "text": [
      "personal computer ⬅️ desktop computer :  ✅\n"
     ]
    },
    {
     "name": "stderr",
     "output_type": "stream",
     "text": [
      "en.wikipedia.org (parse) flash memory\n",
      "en.wikipedia.org (parse) USB memory\n",
      "en.wikipedia.org (parse) flash memory\n",
      "en.wikipedia.org (parse) USB memory\n"
     ]
    },
    {
     "name": "stdout",
     "output_type": "stream",
     "text": [
      "flash memory ⬅️ USB memory :  ✅\n"
     ]
    },
    {
     "name": "stderr",
     "output_type": "stream",
     "text": [
      "en.wikipedia.org (parse) magnetic media\n",
      "en.wikipedia.org (parse) hard disks\n",
      "en.wikipedia.org (imageinfo) File:IBM 350 RAMAC.jpg\n",
      "en.wikipedia.org (parse) magnetic media\n",
      "en.wikipedia.org (parse) hard disks\n",
      "en.wikipedia.org (imageinfo) File:IBM 350 RAMAC.jpg\n"
     ]
    },
    {
     "name": "stdout",
     "output_type": "stream",
     "text": [
      "magnetic media ⬅️ hard disks :  ❌\n"
     ]
    },
    {
     "name": "stderr",
     "output_type": "stream",
     "text": [
      "en.wikipedia.org (parse) machine learning\n",
      "en.wikipedia.org (parse) deep learning\n",
      "en.wikipedia.org (parse) machine learning\n",
      "en.wikipedia.org (parse) deep learning\n"
     ]
    },
    {
     "name": "stdout",
     "output_type": "stream",
     "text": [
      "machine learning ⬅️ deep learning :  ✅\n"
     ]
    },
    {
     "name": "stderr",
     "output_type": "stream",
     "text": [
      "en.wikipedia.org (parse) machine learning\n",
      "en.wikipedia.org (parse) artificial intelligence\n",
      "en.wikipedia.org (parse) machine learning\n",
      "en.wikipedia.org (parse) artificial intelligence\n"
     ]
    },
    {
     "name": "stdout",
     "output_type": "stream",
     "text": [
      "machine learning ⬅️ artificial intelligence :  ❌\n"
     ]
    },
    {
     "name": "stderr",
     "output_type": "stream",
     "text": [
      "en.wikipedia.org (parse) artificial intelligence\n",
      "en.wikipedia.org (parse) Deep learning\n",
      "en.wikipedia.org (parse) artificial intelligence\n",
      "en.wikipedia.org (parse) Deep learning\n"
     ]
    },
    {
     "name": "stdout",
     "output_type": "stream",
     "text": [
      "artificial intelligence ⬅️ Deep learning :  ✅\n"
     ]
    },
    {
     "name": "stderr",
     "output_type": "stream",
     "text": [
      "en.wikipedia.org (parse) artificial intelligence\n",
      "en.wikipedia.org (parse) Deep learning\n",
      "en.wikipedia.org (parse) artificial intelligence\n",
      "en.wikipedia.org (parse) Deep learning\n"
     ]
    },
    {
     "name": "stdout",
     "output_type": "stream",
     "text": [
      "artificial intelligence ⬅️ Deep learning :  ✅\n"
     ]
    },
    {
     "name": "stderr",
     "output_type": "stream",
     "text": [
      "en.wikipedia.org (parse) deep learning\n",
      "en.wikipedia.org (parse) Convolutional Neural Network\n",
      "en.wikipedia.org (parse) deep learning\n",
      "en.wikipedia.org (parse) Convolutional Neural Network\n"
     ]
    },
    {
     "name": "stdout",
     "output_type": "stream",
     "text": [
      "deep learning ⬅️ Convolutional Neural Network :  ❌\n"
     ]
    },
    {
     "name": "stderr",
     "output_type": "stream",
     "text": [
      "en.wikipedia.org (parse) home appliance\n",
      "en.wikipedia.org (imageinfo) File:Breville.jpg\n",
      "en.wikipedia.org (parse) mobile robot\n",
      "en.wikipedia.org (parse) home appliance\n",
      "en.wikipedia.org (imageinfo) File:Breville.jpg\n",
      "en.wikipedia.org (parse) mobile robot\n"
     ]
    },
    {
     "name": "stdout",
     "output_type": "stream",
     "text": [
      "home appliance ⬅️ mobile robot :  ❌\n"
     ]
    },
    {
     "name": "stderr",
     "output_type": "stream",
     "text": [
      "en.wikipedia.org (parse) home appliance\n",
      "en.wikipedia.org (imageinfo) File:Breville.jpg\n",
      "en.wikipedia.org (parse) mobile robot\n",
      "en.wikipedia.org (parse) home appliance\n",
      "en.wikipedia.org (imageinfo) File:Breville.jpg\n",
      "en.wikipedia.org (parse) mobile robot\n"
     ]
    },
    {
     "name": "stdout",
     "output_type": "stream",
     "text": [
      "home appliance ⬅️ mobile robot :  ❌\n"
     ]
    },
    {
     "name": "stderr",
     "output_type": "stream",
     "text": [
      "en.wikipedia.org (parse) home appliance\n",
      "en.wikipedia.org (imageinfo) File:Breville.jpg\n",
      "en.wikipedia.org (parse) mobile robot\n",
      "en.wikipedia.org (parse) home appliance\n",
      "en.wikipedia.org (imageinfo) File:Breville.jpg\n",
      "en.wikipedia.org (parse) mobile robot\n"
     ]
    },
    {
     "name": "stdout",
     "output_type": "stream",
     "text": [
      "home appliance ⬅️ mobile robot :  ❌\n"
     ]
    },
    {
     "name": "stderr",
     "output_type": "stream",
     "text": [
      "en.wikipedia.org (parse) home appliance\n",
      "en.wikipedia.org (imageinfo) File:Breville.jpg\n",
      "en.wikipedia.org (parse) mobile robot\n",
      "en.wikipedia.org (parse) home appliance\n",
      "en.wikipedia.org (imageinfo) File:Breville.jpg\n",
      "en.wikipedia.org (parse) mobile robot\n"
     ]
    },
    {
     "name": "stdout",
     "output_type": "stream",
     "text": [
      "home appliance ⬅️ mobile robot :  ❌\n"
     ]
    },
    {
     "name": "stderr",
     "output_type": "stream",
     "text": [
      "en.wikipedia.org (parse) home appliance\n",
      "en.wikipedia.org (imageinfo) File:Breville.jpg\n",
      "en.wikipedia.org (parse) mobile robot\n",
      "en.wikipedia.org (parse) home appliance\n",
      "en.wikipedia.org (imageinfo) File:Breville.jpg\n",
      "en.wikipedia.org (parse) mobile robot\n"
     ]
    },
    {
     "name": "stdout",
     "output_type": "stream",
     "text": [
      "home appliance ⬅️ mobile robot :  ❌\n"
     ]
    },
    {
     "name": "stderr",
     "output_type": "stream",
     "text": [
      "en.wikipedia.org (parse) machine learning\n",
      "en.wikipedia.org (parse) deep learning\n",
      "en.wikipedia.org (parse) machine learning\n",
      "en.wikipedia.org (parse) deep learning\n"
     ]
    },
    {
     "name": "stdout",
     "output_type": "stream",
     "text": [
      "machine learning ⬅️ deep learning :  ✅\n"
     ]
    },
    {
     "name": "stderr",
     "output_type": "stream",
     "text": [
      "en.wikipedia.org (parse) machine learning\n",
      "en.wikipedia.org (parse) artificial intelligence\n",
      "en.wikipedia.org (parse) machine learning\n",
      "en.wikipedia.org (parse) artificial intelligence\n"
     ]
    },
    {
     "name": "stdout",
     "output_type": "stream",
     "text": [
      "machine learning ⬅️ artificial intelligence :  ❌\n"
     ]
    },
    {
     "name": "stderr",
     "output_type": "stream",
     "text": [
      "en.wikipedia.org (parse) artificial intelligence\n",
      "en.wikipedia.org (parse) Deep learning\n",
      "en.wikipedia.org (parse) artificial intelligence\n",
      "en.wikipedia.org (parse) Deep learning\n"
     ]
    },
    {
     "name": "stdout",
     "output_type": "stream",
     "text": [
      "artificial intelligence ⬅️ Deep learning :  ✅\n"
     ]
    },
    {
     "name": "stderr",
     "output_type": "stream",
     "text": [
      "en.wikipedia.org (parse) artificial intelligence\n",
      "en.wikipedia.org (parse) Deep learning\n",
      "en.wikipedia.org (parse) artificial intelligence\n",
      "en.wikipedia.org (parse) Deep learning\n"
     ]
    },
    {
     "name": "stdout",
     "output_type": "stream",
     "text": [
      "artificial intelligence ⬅️ Deep learning :  ✅\n"
     ]
    },
    {
     "name": "stderr",
     "output_type": "stream",
     "text": [
      "en.wikipedia.org (parse) deep learning\n",
      "en.wikipedia.org (parse) Convolutional Neural Network\n",
      "en.wikipedia.org (parse) deep learning\n",
      "en.wikipedia.org (parse) Convolutional Neural Network\n"
     ]
    },
    {
     "name": "stdout",
     "output_type": "stream",
     "text": [
      "deep learning ⬅️ Convolutional Neural Network :  ❌\n"
     ]
    },
    {
     "name": "stderr",
     "output_type": "stream",
     "text": [
      "en.wikipedia.org (parse) home appliance\n",
      "en.wikipedia.org (imageinfo) File:Breville.jpg\n",
      "en.wikipedia.org (parse) mobile robot\n",
      "en.wikipedia.org (parse) home appliance\n",
      "en.wikipedia.org (imageinfo) File:Breville.jpg\n",
      "en.wikipedia.org (parse) mobile robot\n"
     ]
    },
    {
     "name": "stdout",
     "output_type": "stream",
     "text": [
      "home appliance ⬅️ mobile robot :  ❌\n"
     ]
    },
    {
     "name": "stderr",
     "output_type": "stream",
     "text": [
      "en.wikipedia.org (parse) home appliance\n",
      "en.wikipedia.org (imageinfo) File:Breville.jpg\n",
      "en.wikipedia.org (parse) mobile robot\n",
      "en.wikipedia.org (parse) home appliance\n",
      "en.wikipedia.org (imageinfo) File:Breville.jpg\n",
      "en.wikipedia.org (parse) mobile robot\n"
     ]
    },
    {
     "name": "stdout",
     "output_type": "stream",
     "text": [
      "home appliance ⬅️ mobile robot :  ❌\n"
     ]
    },
    {
     "name": "stderr",
     "output_type": "stream",
     "text": [
      "en.wikipedia.org (parse) home appliance\n",
      "en.wikipedia.org (imageinfo) File:Breville.jpg\n",
      "en.wikipedia.org (parse) mobile robot\n",
      "en.wikipedia.org (parse) home appliance\n",
      "en.wikipedia.org (imageinfo) File:Breville.jpg\n",
      "en.wikipedia.org (parse) mobile robot\n"
     ]
    },
    {
     "name": "stdout",
     "output_type": "stream",
     "text": [
      "home appliance ⬅️ mobile robot :  ❌\n"
     ]
    },
    {
     "name": "stderr",
     "output_type": "stream",
     "text": [
      "en.wikipedia.org (parse) home appliance\n",
      "en.wikipedia.org (imageinfo) File:Breville.jpg\n",
      "en.wikipedia.org (parse) mobile robot\n",
      "en.wikipedia.org (parse) home appliance\n",
      "en.wikipedia.org (imageinfo) File:Breville.jpg\n",
      "en.wikipedia.org (parse) mobile robot\n"
     ]
    },
    {
     "name": "stdout",
     "output_type": "stream",
     "text": [
      "home appliance ⬅️ mobile robot :  ❌\n"
     ]
    },
    {
     "name": "stderr",
     "output_type": "stream",
     "text": [
      "en.wikipedia.org (parse) home appliance\n",
      "en.wikipedia.org (imageinfo) File:Breville.jpg\n",
      "en.wikipedia.org (parse) mobile robot\n",
      "en.wikipedia.org (parse) home appliance\n",
      "en.wikipedia.org (imageinfo) File:Breville.jpg\n",
      "en.wikipedia.org (parse) mobile robot\n"
     ]
    },
    {
     "name": "stdout",
     "output_type": "stream",
     "text": [
      "home appliance ⬅️ mobile robot :  ❌\n"
     ]
    },
    {
     "name": "stderr",
     "output_type": "stream",
     "text": [
      "en.wikipedia.org (parse) machine learning\n",
      "en.wikipedia.org (parse) deep learning\n",
      "en.wikipedia.org (parse) machine learning\n",
      "en.wikipedia.org (parse) deep learning\n"
     ]
    },
    {
     "name": "stdout",
     "output_type": "stream",
     "text": [
      "machine learning ⬅️ deep learning :  ✅\n"
     ]
    },
    {
     "name": "stderr",
     "output_type": "stream",
     "text": [
      "en.wikipedia.org (parse) machine learning\n",
      "en.wikipedia.org (parse) artificial intelligence\n",
      "en.wikipedia.org (parse) machine learning\n",
      "en.wikipedia.org (parse) artificial intelligence\n"
     ]
    },
    {
     "name": "stdout",
     "output_type": "stream",
     "text": [
      "machine learning ⬅️ artificial intelligence :  ❌\n"
     ]
    },
    {
     "name": "stderr",
     "output_type": "stream",
     "text": [
      "en.wikipedia.org (parse) artificial intelligence\n",
      "en.wikipedia.org (parse) Deep learning\n",
      "en.wikipedia.org (parse) artificial intelligence\n",
      "en.wikipedia.org (parse) Deep learning\n"
     ]
    },
    {
     "name": "stdout",
     "output_type": "stream",
     "text": [
      "artificial intelligence ⬅️ Deep learning :  ✅\n"
     ]
    },
    {
     "name": "stderr",
     "output_type": "stream",
     "text": [
      "en.wikipedia.org (parse) artificial intelligence\n",
      "en.wikipedia.org (parse) Deep learning\n",
      "en.wikipedia.org (parse) artificial intelligence\n",
      "en.wikipedia.org (parse) Deep learning\n"
     ]
    },
    {
     "name": "stdout",
     "output_type": "stream",
     "text": [
      "artificial intelligence ⬅️ Deep learning :  ✅\n"
     ]
    },
    {
     "name": "stderr",
     "output_type": "stream",
     "text": [
      "en.wikipedia.org (parse) deep learning\n",
      "en.wikipedia.org (parse) Convolutional Neural Network\n",
      "en.wikipedia.org (parse) deep learning\n",
      "en.wikipedia.org (parse) Convolutional Neural Network\n"
     ]
    },
    {
     "name": "stdout",
     "output_type": "stream",
     "text": [
      "deep learning ⬅️ Convolutional Neural Network :  ❌\n"
     ]
    },
    {
     "name": "stderr",
     "output_type": "stream",
     "text": [
      "en.wikipedia.org (parse) home appliance\n",
      "en.wikipedia.org (imageinfo) File:Breville.jpg\n",
      "en.wikipedia.org (parse) mobile robot\n",
      "en.wikipedia.org (parse) home appliance\n",
      "en.wikipedia.org (imageinfo) File:Breville.jpg\n",
      "en.wikipedia.org (parse) mobile robot\n"
     ]
    },
    {
     "name": "stdout",
     "output_type": "stream",
     "text": [
      "home appliance ⬅️ mobile robot :  ❌\n"
     ]
    },
    {
     "name": "stderr",
     "output_type": "stream",
     "text": [
      "en.wikipedia.org (parse) home appliance\n",
      "en.wikipedia.org (imageinfo) File:Breville.jpg\n",
      "en.wikipedia.org (parse) mobile robot\n",
      "en.wikipedia.org (parse) home appliance\n",
      "en.wikipedia.org (imageinfo) File:Breville.jpg\n",
      "en.wikipedia.org (parse) mobile robot\n"
     ]
    },
    {
     "name": "stdout",
     "output_type": "stream",
     "text": [
      "home appliance ⬅️ mobile robot :  ❌\n"
     ]
    },
    {
     "name": "stderr",
     "output_type": "stream",
     "text": [
      "en.wikipedia.org (parse) home appliance\n",
      "en.wikipedia.org (imageinfo) File:Breville.jpg\n",
      "en.wikipedia.org (parse) mobile robot\n",
      "en.wikipedia.org (parse) home appliance\n",
      "en.wikipedia.org (imageinfo) File:Breville.jpg\n",
      "en.wikipedia.org (parse) mobile robot\n"
     ]
    },
    {
     "name": "stdout",
     "output_type": "stream",
     "text": [
      "home appliance ⬅️ mobile robot :  ❌\n"
     ]
    },
    {
     "name": "stderr",
     "output_type": "stream",
     "text": [
      "en.wikipedia.org (parse) home appliance\n",
      "en.wikipedia.org (imageinfo) File:Breville.jpg\n",
      "en.wikipedia.org (parse) mobile robot\n",
      "en.wikipedia.org (parse) home appliance\n",
      "en.wikipedia.org (imageinfo) File:Breville.jpg\n",
      "en.wikipedia.org (parse) mobile robot\n"
     ]
    },
    {
     "name": "stdout",
     "output_type": "stream",
     "text": [
      "home appliance ⬅️ mobile robot :  ❌\n"
     ]
    },
    {
     "name": "stderr",
     "output_type": "stream",
     "text": [
      "en.wikipedia.org (parse) home appliance\n",
      "en.wikipedia.org (imageinfo) File:Breville.jpg\n",
      "en.wikipedia.org (parse) mobile robot\n",
      "en.wikipedia.org (parse) home appliance\n",
      "en.wikipedia.org (imageinfo) File:Breville.jpg\n",
      "en.wikipedia.org (parse) mobile robot\n"
     ]
    },
    {
     "name": "stdout",
     "output_type": "stream",
     "text": [
      "home appliance ⬅️ mobile robot :  ❌\n"
     ]
    },
    {
     "name": "stderr",
     "output_type": "stream",
     "text": [
      "en.wikipedia.org (parse) artificial light\n",
      "en.wikipedia.org (parse) fluorescent light\n",
      "en.wikipedia.org (parse) artificial light\n",
      "en.wikipedia.org (parse) fluorescent light\n"
     ]
    },
    {
     "name": "stdout",
     "output_type": "stream",
     "text": [
      "artificial light ⬅️ fluorescent light :  ✅\n"
     ]
    },
    {
     "name": "stderr",
     "output_type": "stream",
     "text": [
      "en.wikipedia.org (parse) environmental conditions\n",
      "API error: {'code': 'missingtitle', 'info': \"The page you specified doesn't exist.\", 'docref': 'See https://en.wikipedia.org/w/api.php for API usage. Subscribe to the mediawiki-api-announce mailing list at &lt;https://lists.wikimedia.org/postorius/lists/mediawiki-api-announce.lists.wikimedia.org/&gt; for notice of API deprecations and breaking changes.'}\n",
      "en.wikipedia.org (parse) environmental conditions\n"
     ]
    },
    {
     "name": "stdout",
     "output_type": "stream",
     "text": [
      "Could not find Wikidata item for `environmental conditions`\n"
     ]
    },
    {
     "name": "stderr",
     "output_type": "stream",
     "text": [
      "API error: {'code': 'missingtitle', 'info': \"The page you specified doesn't exist.\", 'docref': 'See https://en.wikipedia.org/w/api.php for API usage. Subscribe to the mediawiki-api-announce mailing list at &lt;https://lists.wikimedia.org/postorius/lists/mediawiki-api-announce.lists.wikimedia.org/&gt; for notice of API deprecations and breaking changes.'}\n",
      "en.wikipedia.org (parse) environmental conditions\n"
     ]
    },
    {
     "name": "stdout",
     "output_type": "stream",
     "text": [
      "Could not find Wikidata item for `environmental conditions`\n",
      "environmental conditions ⬅️ carbon dioxide :  ⚠️\n"
     ]
    },
    {
     "name": "stderr",
     "output_type": "stream",
     "text": [
      "API error: {'code': 'missingtitle', 'info': \"The page you specified doesn't exist.\", 'docref': 'See https://en.wikipedia.org/w/api.php for API usage. Subscribe to the mediawiki-api-announce mailing list at &lt;https://lists.wikimedia.org/postorius/lists/mediawiki-api-announce.lists.wikimedia.org/&gt; for notice of API deprecations and breaking changes.'}\n",
      "en.wikipedia.org (parse) environmental conditions\n"
     ]
    },
    {
     "name": "stdout",
     "output_type": "stream",
     "text": [
      "Could not find Wikidata item for `environmental conditions`\n"
     ]
    },
    {
     "name": "stderr",
     "output_type": "stream",
     "text": [
      "API error: {'code': 'missingtitle', 'info': \"The page you specified doesn't exist.\", 'docref': 'See https://en.wikipedia.org/w/api.php for API usage. Subscribe to the mediawiki-api-announce mailing list at &lt;https://lists.wikimedia.org/postorius/lists/mediawiki-api-announce.lists.wikimedia.org/&gt; for notice of API deprecations and breaking changes.'}\n",
      "en.wikipedia.org (parse) convolutional neural network\n"
     ]
    },
    {
     "name": "stdout",
     "output_type": "stream",
     "text": [
      "Could not find Wikidata item for `environmental conditions`\n",
      "environmental conditions ⬅️ carbon dioxide :  ⚠️\n"
     ]
    },
    {
     "name": "stderr",
     "output_type": "stream",
     "text": [
      "en.wikipedia.org (parse) neural network\n",
      "en.wikipedia.org (parse) convolutional neural network\n",
      "en.wikipedia.org (parse) neural network\n"
     ]
    },
    {
     "name": "stdout",
     "output_type": "stream",
     "text": [
      "convolutional neural network ⬅️ neural network :  ❌\n"
     ]
    },
    {
     "name": "stderr",
     "output_type": "stream",
     "text": [
      "en.wikipedia.org (parse) convolutional neural network\n",
      "en.wikipedia.org (parse) neural network\n",
      "en.wikipedia.org (parse) convolutional neural network\n",
      "en.wikipedia.org (parse) neural network\n"
     ]
    },
    {
     "name": "stdout",
     "output_type": "stream",
     "text": [
      "convolutional neural network ⬅️ neural network :  ❌\n"
     ]
    },
    {
     "name": "stderr",
     "output_type": "stream",
     "text": [
      "en.wikipedia.org (parse) machine learning method\n",
      "en.wikipedia.org (parse) logistic regression\n",
      "en.wikipedia.org (parse) machine learning method\n",
      "en.wikipedia.org (parse) logistic regression\n"
     ]
    },
    {
     "name": "stdout",
     "output_type": "stream",
     "text": [
      "machine learning method ⬅️ logistic regression :  ❌\n"
     ]
    },
    {
     "name": "stderr",
     "output_type": "stream",
     "text": [
      "en.wikipedia.org (parse) machine learning method\n",
      "en.wikipedia.org (parse) logistic regression\n",
      "en.wikipedia.org (parse) machine learning method\n",
      "en.wikipedia.org (parse) logistic regression\n"
     ]
    },
    {
     "name": "stdout",
     "output_type": "stream",
     "text": [
      "machine learning method ⬅️ logistic regression :  ❌\n"
     ]
    },
    {
     "name": "stderr",
     "output_type": "stream",
     "text": [
      "en.wikipedia.org (parse) storage medium\n",
      "en.wikipedia.org (parse) Volatile memory\n",
      "en.wikipedia.org (parse) storage medium\n",
      "en.wikipedia.org (parse) Volatile memory\n"
     ]
    },
    {
     "name": "stdout",
     "output_type": "stream",
     "text": [
      "storage medium ⬅️ Volatile memory :  ✅\n"
     ]
    },
    {
     "name": "stderr",
     "output_type": "stream",
     "text": [
      "en.wikipedia.org (parse) volatile memory\n",
      "en.wikipedia.org (parse) high density\n",
      "API error: {'code': 'missingtitle', 'info': \"The page you specified doesn't exist.\", 'docref': 'See https://en.wikipedia.org/w/api.php for API usage. Subscribe to the mediawiki-api-announce mailing list at &lt;https://lists.wikimedia.org/postorius/lists/mediawiki-api-announce.lists.wikimedia.org/&gt; for notice of API deprecations and breaking changes.'}\n",
      "en.wikipedia.org (parse) volatile memory\n"
     ]
    },
    {
     "name": "stdout",
     "output_type": "stream",
     "text": [
      "Could not find Wikidata item for `high density`\n"
     ]
    },
    {
     "name": "stderr",
     "output_type": "stream",
     "text": [
      "en.wikipedia.org (parse) high density\n",
      "API error: {'code': 'missingtitle', 'info': \"The page you specified doesn't exist.\", 'docref': 'See https://en.wikipedia.org/w/api.php for API usage. Subscribe to the mediawiki-api-announce mailing list at &lt;https://lists.wikimedia.org/postorius/lists/mediawiki-api-announce.lists.wikimedia.org/&gt; for notice of API deprecations and breaking changes.'}\n",
      "en.wikipedia.org (parse) programmable memory\n"
     ]
    },
    {
     "name": "stdout",
     "output_type": "stream",
     "text": [
      "Could not find Wikidata item for `high density`\n",
      "volatile memory ⬅️ high density :  ⚠️\n"
     ]
    },
    {
     "name": "stderr",
     "output_type": "stream",
     "text": [
      "API error: {'code': 'missingtitle', 'info': \"The page you specified doesn't exist.\", 'docref': 'See https://en.wikipedia.org/w/api.php for API usage. Subscribe to the mediawiki-api-announce mailing list at &lt;https://lists.wikimedia.org/postorius/lists/mediawiki-api-announce.lists.wikimedia.org/&gt; for notice of API deprecations and breaking changes.'}\n",
      "en.wikipedia.org (parse) programmable memory\n"
     ]
    },
    {
     "name": "stdout",
     "output_type": "stream",
     "text": [
      "Could not find Wikidata item for `programmable memory`\n"
     ]
    },
    {
     "name": "stderr",
     "output_type": "stream",
     "text": [
      "API error: {'code': 'missingtitle', 'info': \"The page you specified doesn't exist.\", 'docref': 'See https://en.wikipedia.org/w/api.php for API usage. Subscribe to the mediawiki-api-announce mailing list at &lt;https://lists.wikimedia.org/postorius/lists/mediawiki-api-announce.lists.wikimedia.org/&gt; for notice of API deprecations and breaking changes.'}\n",
      "en.wikipedia.org (parse) storage medium\n"
     ]
    },
    {
     "name": "stdout",
     "output_type": "stream",
     "text": [
      "Could not find Wikidata item for `programmable memory`\n",
      "programmable memory ⬅️ household appliances :  ⚠️\n"
     ]
    },
    {
     "name": "stderr",
     "output_type": "stream",
     "text": [
      "en.wikipedia.org (parse) optical disk\n",
      "en.wikipedia.org (parse) storage medium\n",
      "en.wikipedia.org (parse) optical disk\n"
     ]
    },
    {
     "name": "stdout",
     "output_type": "stream",
     "text": [
      "storage medium ⬅️ optical disk :  ✅\n"
     ]
    },
    {
     "name": "stderr",
     "output_type": "stream",
     "text": [
      "en.wikipedia.org (parse) storage medium\n",
      "en.wikipedia.org (parse) non-volatile memory\n",
      "en.wikipedia.org (parse) storage medium\n",
      "en.wikipedia.org (parse) non-volatile memory\n"
     ]
    },
    {
     "name": "stdout",
     "output_type": "stream",
     "text": [
      "storage medium ⬅️ non-volatile memory :  ✅\n"
     ]
    },
    {
     "name": "stderr",
     "output_type": "stream",
     "text": [
      "en.wikipedia.org (parse) storage medium\n",
      "en.wikipedia.org (parse) magnetic disk\n",
      "en.wikipedia.org (parse) storage medium\n",
      "en.wikipedia.org (parse) magnetic disk\n"
     ]
    },
    {
     "name": "stdout",
     "output_type": "stream",
     "text": [
      "storage medium ⬅️ magnetic disk :  ✅\n"
     ]
    },
    {
     "name": "stderr",
     "output_type": "stream",
     "text": [
      "en.wikipedia.org (parse) storage medium\n",
      "en.wikipedia.org (parse) optical disk\n",
      "en.wikipedia.org (parse) storage medium\n",
      "en.wikipedia.org (parse) optical disk\n"
     ]
    },
    {
     "name": "stdout",
     "output_type": "stream",
     "text": [
      "storage medium ⬅️ optical disk :  ✅\n"
     ]
    },
    {
     "name": "stderr",
     "output_type": "stream",
     "text": [
      "en.wikipedia.org (parse) storage medium\n",
      "en.wikipedia.org (parse) magnetic disk\n",
      "en.wikipedia.org (parse) storage medium\n",
      "en.wikipedia.org (parse) magnetic disk\n"
     ]
    },
    {
     "name": "stdout",
     "output_type": "stream",
     "text": [
      "storage medium ⬅️ magnetic disk :  ✅\n"
     ]
    },
    {
     "name": "stderr",
     "output_type": "stream",
     "text": [
      "en.wikipedia.org (parse) storage medium\n",
      "en.wikipedia.org (parse) non-volatile memory\n",
      "en.wikipedia.org (parse) storage medium\n",
      "en.wikipedia.org (parse) non-volatile memory\n"
     ]
    },
    {
     "name": "stdout",
     "output_type": "stream",
     "text": [
      "storage medium ⬅️ non-volatile memory :  ✅\n"
     ]
    },
    {
     "name": "stderr",
     "output_type": "stream",
     "text": [
      "en.wikipedia.org (parse) mobile phone\n",
      "en.wikipedia.org (parse) information processing system\n",
      "en.wikipedia.org (parse) mobile phone\n",
      "en.wikipedia.org (parse) information processing system\n"
     ]
    },
    {
     "name": "stdout",
     "output_type": "stream",
     "text": [
      "mobile phone ⬅️ information processing system :  ❌\n"
     ]
    },
    {
     "name": "stderr",
     "output_type": "stream",
     "text": [
      "en.wikipedia.org (parse) mobile device\n",
      "en.wikipedia.org (parse) tablet PC\n",
      "en.wikipedia.org (parse) mobile device\n",
      "en.wikipedia.org (parse) tablet PC\n"
     ]
    },
    {
     "name": "stdout",
     "output_type": "stream",
     "text": [
      "mobile device ⬅️ tablet PC :  ✅\n"
     ]
    },
    {
     "name": "stderr",
     "output_type": "stream",
     "text": [
      "en.wikipedia.org (parse) mobile device\n",
      "en.wikipedia.org (parse) laptop computer\n",
      "en.wikipedia.org (parse) mobile device\n",
      "en.wikipedia.org (parse) laptop computer\n"
     ]
    },
    {
     "name": "stdout",
     "output_type": "stream",
     "text": [
      "mobile device ⬅️ laptop computer :  ✅\n"
     ]
    },
    {
     "name": "stderr",
     "output_type": "stream",
     "text": [
      "en.wikipedia.org (parse) mobile device\n",
      "en.wikipedia.org (parse) smart phone\n"
     ]
    },
    {
     "name": "stdout",
     "output_type": "stream",
     "text": [
      "Could not find Wikidata item for `smart phone`\n"
     ]
    },
    {
     "name": "stderr",
     "output_type": "stream",
     "text": [
      "en.wikipedia.org (parse) mobile device\n",
      "en.wikipedia.org (parse) smart phone\n"
     ]
    },
    {
     "name": "stdout",
     "output_type": "stream",
     "text": [
      "Could not find Wikidata item for `smart phone`\n",
      "mobile device ⬅️ smart phone :  ⚠️\n"
     ]
    },
    {
     "name": "stderr",
     "output_type": "stream",
     "text": [
      "en.wikipedia.org (parse) the triangle\n",
      "API error: {'code': 'missingtitle', 'info': \"The page you specified doesn't exist.\", 'docref': 'See https://en.wikipedia.org/w/api.php for API usage. Subscribe to the mediawiki-api-announce mailing list at &lt;https://lists.wikimedia.org/postorius/lists/mediawiki-api-announce.lists.wikimedia.org/&gt; for notice of API deprecations and breaking changes.'}\n",
      "en.wikipedia.org (parse) the triangle\n"
     ]
    },
    {
     "name": "stdout",
     "output_type": "stream",
     "text": [
      "Could not find Wikidata item for `the triangle`\n"
     ]
    },
    {
     "name": "stderr",
     "output_type": "stream",
     "text": [
      "API error: {'code': 'missingtitle', 'info': \"The page you specified doesn't exist.\", 'docref': 'See https://en.wikipedia.org/w/api.php for API usage. Subscribe to the mediawiki-api-announce mailing list at &lt;https://lists.wikimedia.org/postorius/lists/mediawiki-api-announce.lists.wikimedia.org/&gt; for notice of API deprecations and breaking changes.'}\n",
      "en.wikipedia.org (parse) semiconductor memory\n"
     ]
    },
    {
     "name": "stdout",
     "output_type": "stream",
     "text": [
      "Could not find Wikidata item for `the triangle`\n",
      "the triangle ⬅️ number of :  ⚠️\n"
     ]
    },
    {
     "name": "stderr",
     "output_type": "stream",
     "text": [
      "en.wikipedia.org (parse) flash memory\n",
      "en.wikipedia.org (parse) semiconductor memory\n",
      "en.wikipedia.org (parse) flash memory\n"
     ]
    },
    {
     "name": "stdout",
     "output_type": "stream",
     "text": [
      "semiconductor memory ⬅️ flash memory :  ❌\n"
     ]
    },
    {
     "name": "stderr",
     "output_type": "stream",
     "text": [
      "en.wikipedia.org (parse) communication network\n",
      "en.wikipedia.org (parse) local area network\n",
      "en.wikipedia.org (parse) communication network\n",
      "en.wikipedia.org (parse) local area network\n"
     ]
    },
    {
     "name": "stdout",
     "output_type": "stream",
     "text": [
      "communication network ⬅️ local area network :  ✅\n"
     ]
    },
    {
     "name": "stderr",
     "output_type": "stream",
     "text": [
      "en.wikipedia.org (parse) communication network\n",
      "en.wikipedia.org (parse) wide area network\n",
      "en.wikipedia.org (parse) communication network\n",
      "en.wikipedia.org (parse) wide area network\n"
     ]
    },
    {
     "name": "stdout",
     "output_type": "stream",
     "text": [
      "communication network ⬅️ wide area network :  ✅\n"
     ]
    },
    {
     "name": "stderr",
     "output_type": "stream",
     "text": [
      "en.wikipedia.org (parse) storage media\n",
      "en.wikipedia.org (parse) solid-state drive\n",
      "en.wikipedia.org (parse) storage media\n",
      "en.wikipedia.org (parse) solid-state drive\n"
     ]
    },
    {
     "name": "stdout",
     "output_type": "stream",
     "text": [
      "storage media ⬅️ solid-state drive :  ❌\n"
     ]
    },
    {
     "name": "stderr",
     "output_type": "stream",
     "text": [
      "en.wikipedia.org (parse) non-volatile memory\n",
      "en.wikipedia.org (parse) hard disk\n",
      "en.wikipedia.org (imageinfo) File:IBM 350 RAMAC.jpg\n",
      "en.wikipedia.org (parse) non-volatile memory\n",
      "en.wikipedia.org (parse) hard disk\n",
      "en.wikipedia.org (imageinfo) File:IBM 350 RAMAC.jpg\n"
     ]
    },
    {
     "name": "stdout",
     "output_type": "stream",
     "text": [
      "non-volatile memory ⬅️ hard disk :  ❌\n"
     ]
    },
    {
     "name": "stderr",
     "output_type": "stream",
     "text": [
      "en.wikipedia.org (parse) output device\n",
      "en.wikipedia.org (parse) liquid crystal\n",
      "en.wikipedia.org (parse) output device\n",
      "en.wikipedia.org (parse) liquid crystal\n"
     ]
    },
    {
     "name": "stdout",
     "output_type": "stream",
     "text": [
      "output device ⬅️ liquid crystal :  ❌\n"
     ]
    },
    {
     "name": "stderr",
     "output_type": "stream",
     "text": [
      "en.wikipedia.org (parse) storage media\n",
      "en.wikipedia.org (parse) main memory\n",
      "en.wikipedia.org (parse) storage media\n",
      "en.wikipedia.org (parse) main memory\n"
     ]
    },
    {
     "name": "stdout",
     "output_type": "stream",
     "text": [
      "storage media ⬅️ main memory :  ✅\n"
     ]
    },
    {
     "name": "stderr",
     "output_type": "stream",
     "text": [
      "en.wikipedia.org (parse) display device\n",
      "en.wikipedia.org (parse) liquid crystal display\n",
      "en.wikipedia.org (parse) display device\n",
      "en.wikipedia.org (parse) liquid crystal display\n"
     ]
    },
    {
     "name": "stdout",
     "output_type": "stream",
     "text": [
      "display device ⬅️ liquid crystal display :  ✅\n"
     ]
    },
    {
     "name": "stderr",
     "output_type": "stream",
     "text": [
      "en.wikipedia.org (parse) computer network\n",
      "en.wikipedia.org (parse) the Internet\n",
      "en.wikipedia.org (parse) computer network\n",
      "en.wikipedia.org (parse) the Internet\n"
     ]
    },
    {
     "name": "stdout",
     "output_type": "stream",
     "text": [
      "computer network ⬅️ the Internet :  ❌\n"
     ]
    },
    {
     "name": "stderr",
     "output_type": "stream",
     "text": [
      "en.wikipedia.org (parse) computer network\n",
      "en.wikipedia.org (parse) the Internet\n",
      "en.wikipedia.org (parse) computer network\n",
      "en.wikipedia.org (parse) the Internet\n"
     ]
    },
    {
     "name": "stdout",
     "output_type": "stream",
     "text": [
      "computer network ⬅️ the Internet :  ❌\n"
     ]
    },
    {
     "name": "stderr",
     "output_type": "stream",
     "text": [
      "en.wikipedia.org (parse) computer network\n",
      "en.wikipedia.org (parse) the Internet\n",
      "en.wikipedia.org (parse) computer network\n",
      "en.wikipedia.org (parse) the Internet\n"
     ]
    },
    {
     "name": "stdout",
     "output_type": "stream",
     "text": [
      "computer network ⬅️ the Internet :  ❌\n"
     ]
    },
    {
     "name": "stderr",
     "output_type": "stream",
     "text": [
      "en.wikipedia.org (parse) main memory\n",
      "en.wikipedia.org (parse) volatile memory\n",
      "en.wikipedia.org (parse) main memory\n",
      "en.wikipedia.org (parse) volatile memory\n"
     ]
    },
    {
     "name": "stdout",
     "output_type": "stream",
     "text": [
      "main memory ⬅️ volatile memory :  ❌\n"
     ]
    },
    {
     "name": "stderr",
     "output_type": "stream",
     "text": [
      "en.wikipedia.org (parse) main memory\n",
      "en.wikipedia.org (parse) volatile memory\n",
      "en.wikipedia.org (parse) main memory\n",
      "en.wikipedia.org (parse) volatile memory\n"
     ]
    },
    {
     "name": "stdout",
     "output_type": "stream",
     "text": [
      "main memory ⬅️ volatile memory :  ❌\n"
     ]
    },
    {
     "name": "stderr",
     "output_type": "stream",
     "text": [
      "en.wikipedia.org (parse) stochastic gradient descent\n",
      "en.wikipedia.org (parse) optimization algorithm\n",
      "en.wikipedia.org (parse) stochastic gradient descent\n",
      "en.wikipedia.org (parse) optimization algorithm\n"
     ]
    },
    {
     "name": "stdout",
     "output_type": "stream",
     "text": [
      "stochastic gradient descent ⬅️ optimization algorithm :  ❌\n"
     ]
    },
    {
     "name": "stderr",
     "output_type": "stream",
     "text": [
      "en.wikipedia.org (parse) mass memory device\n",
      "API error: {'code': 'missingtitle', 'info': \"The page you specified doesn't exist.\", 'docref': 'See https://en.wikipedia.org/w/api.php for API usage. Subscribe to the mediawiki-api-announce mailing list at &lt;https://lists.wikimedia.org/postorius/lists/mediawiki-api-announce.lists.wikimedia.org/&gt; for notice of API deprecations and breaking changes.'}\n",
      "en.wikipedia.org (parse) mass memory device\n"
     ]
    },
    {
     "name": "stdout",
     "output_type": "stream",
     "text": [
      "Could not find Wikidata item for `mass memory device`\n"
     ]
    },
    {
     "name": "stderr",
     "output_type": "stream",
     "text": [
      "API error: {'code': 'missingtitle', 'info': \"The page you specified doesn't exist.\", 'docref': 'See https://en.wikipedia.org/w/api.php for API usage. Subscribe to the mediawiki-api-announce mailing list at &lt;https://lists.wikimedia.org/postorius/lists/mediawiki-api-announce.lists.wikimedia.org/&gt; for notice of API deprecations and breaking changes.'}\n",
      "en.wikipedia.org (parse) stochastic gradient descent\n"
     ]
    },
    {
     "name": "stdout",
     "output_type": "stream",
     "text": [
      "Could not find Wikidata item for `mass memory device`\n",
      "mass memory device ⬅️ hard drive :  ⚠️\n"
     ]
    },
    {
     "name": "stderr",
     "output_type": "stream",
     "text": [
      "en.wikipedia.org (parse) optimization algorithm\n",
      "en.wikipedia.org (parse) stochastic gradient descent\n",
      "en.wikipedia.org (parse) optimization algorithm\n"
     ]
    },
    {
     "name": "stdout",
     "output_type": "stream",
     "text": [
      "stochastic gradient descent ⬅️ optimization algorithm :  ❌\n"
     ]
    },
    {
     "name": "stderr",
     "output_type": "stream",
     "text": [
      "en.wikipedia.org (parse) computer network\n",
      "en.wikipedia.org (parse) the Internet\n",
      "en.wikipedia.org (parse) computer network\n",
      "en.wikipedia.org (parse) the Internet\n"
     ]
    },
    {
     "name": "stdout",
     "output_type": "stream",
     "text": [
      "computer network ⬅️ the Internet :  ❌\n"
     ]
    },
    {
     "name": "stderr",
     "output_type": "stream",
     "text": [
      "en.wikipedia.org (parse) point cloud data\n",
      "en.wikipedia.org (parse) Iterative Closest Point\n",
      "en.wikipedia.org (parse) point cloud data\n",
      "en.wikipedia.org (parse) Iterative Closest Point\n"
     ]
    },
    {
     "name": "stdout",
     "output_type": "stream",
     "text": [
      "point cloud data ⬅️ Iterative Closest Point :  ❌\n"
     ]
    },
    {
     "name": "stderr",
     "output_type": "stream",
     "text": [
      "en.wikipedia.org (parse) computer network\n",
      "en.wikipedia.org (parse) the Internet\n",
      "en.wikipedia.org (parse) computer network\n",
      "en.wikipedia.org (parse) the Internet\n"
     ]
    },
    {
     "name": "stdout",
     "output_type": "stream",
     "text": [
      "computer network ⬅️ the Internet :  ❌\n"
     ]
    },
    {
     "name": "stderr",
     "output_type": "stream",
     "text": [
      "en.wikipedia.org (parse) programming languages\n",
      "en.wikipedia.org (parse) object oriented programming languages\n",
      "API error: {'code': 'missingtitle', 'info': \"The page you specified doesn't exist.\", 'docref': 'See https://en.wikipedia.org/w/api.php for API usage. Subscribe to the mediawiki-api-announce mailing list at &lt;https://lists.wikimedia.org/postorius/lists/mediawiki-api-announce.lists.wikimedia.org/&gt; for notice of API deprecations and breaking changes.'}\n",
      "en.wikipedia.org (parse) programming languages\n"
     ]
    },
    {
     "name": "stdout",
     "output_type": "stream",
     "text": [
      "Could not find Wikidata item for `object oriented programming languages`\n"
     ]
    },
    {
     "name": "stderr",
     "output_type": "stream",
     "text": [
      "en.wikipedia.org (parse) object oriented programming languages\n",
      "API error: {'code': 'missingtitle', 'info': \"The page you specified doesn't exist.\", 'docref': 'See https://en.wikipedia.org/w/api.php for API usage. Subscribe to the mediawiki-api-announce mailing list at &lt;https://lists.wikimedia.org/postorius/lists/mediawiki-api-announce.lists.wikimedia.org/&gt; for notice of API deprecations and breaking changes.'}\n",
      "en.wikipedia.org (parse) first position\n"
     ]
    },
    {
     "name": "stdout",
     "output_type": "stream",
     "text": [
      "Could not find Wikidata item for `object oriented programming languages`\n",
      "programming languages ⬅️ object oriented programming languages :  ⚠️\n"
     ]
    },
    {
     "name": "stderr",
     "output_type": "stream",
     "text": [
      "en.wikipedia.org (parse) point cloud data\n",
      "en.wikipedia.org (parse) first position\n",
      "en.wikipedia.org (parse) point cloud data\n"
     ]
    },
    {
     "name": "stdout",
     "output_type": "stream",
     "text": [
      "first position ⬅️ point cloud data :  ❌\n"
     ]
    },
    {
     "name": "stderr",
     "output_type": "stream",
     "text": [
      "en.wikipedia.org (parse) computer network\n",
      "en.wikipedia.org (parse) the Internet\n",
      "en.wikipedia.org (parse) computer network\n",
      "en.wikipedia.org (parse) the Internet\n"
     ]
    },
    {
     "name": "stdout",
     "output_type": "stream",
     "text": [
      "computer network ⬅️ the Internet :  ❌\n"
     ]
    },
    {
     "name": "stderr",
     "output_type": "stream",
     "text": [
      "en.wikipedia.org (parse) computer network\n",
      "en.wikipedia.org (parse) the Internet\n",
      "en.wikipedia.org (parse) computer network\n",
      "en.wikipedia.org (parse) the Internet\n"
     ]
    },
    {
     "name": "stdout",
     "output_type": "stream",
     "text": [
      "computer network ⬅️ the Internet :  ❌\n"
     ]
    },
    {
     "name": "stderr",
     "output_type": "stream",
     "text": [
      "en.wikipedia.org (parse) lane line\n",
      "en.wikipedia.org (parse) speed limit\n",
      "en.wikipedia.org (parse) lane line\n",
      "en.wikipedia.org (parse) speed limit\n"
     ]
    },
    {
     "name": "stdout",
     "output_type": "stream",
     "text": [
      "lane line ⬅️ speed limit :  ❌\n"
     ]
    },
    {
     "name": "stderr",
     "output_type": "stream",
     "text": [
      "en.wikipedia.org (parse) a vehicle\n",
      "API error: {'code': 'missingtitle', 'info': \"The page you specified doesn't exist.\", 'docref': 'See https://en.wikipedia.org/w/api.php for API usage. Subscribe to the mediawiki-api-announce mailing list at &lt;https://lists.wikimedia.org/postorius/lists/mediawiki-api-announce.lists.wikimedia.org/&gt; for notice of API deprecations and breaking changes.'}\n",
      "en.wikipedia.org (parse) a vehicle\n"
     ]
    },
    {
     "name": "stdout",
     "output_type": "stream",
     "text": [
      "Could not find Wikidata item for `a vehicle`\n"
     ]
    },
    {
     "name": "stderr",
     "output_type": "stream",
     "text": [
      "API error: {'code': 'missingtitle', 'info': \"The page you specified doesn't exist.\", 'docref': 'See https://en.wikipedia.org/w/api.php for API usage. Subscribe to the mediawiki-api-announce mailing list at &lt;https://lists.wikimedia.org/postorius/lists/mediawiki-api-announce.lists.wikimedia.org/&gt; for notice of API deprecations and breaking changes.'}\n",
      "en.wikipedia.org (parse) a vehicle\n"
     ]
    },
    {
     "name": "stdout",
     "output_type": "stream",
     "text": [
      "Could not find Wikidata item for `a vehicle`\n",
      "a vehicle ⬅️ digital camera :  ⚠️\n"
     ]
    },
    {
     "name": "stderr",
     "output_type": "stream",
     "text": [
      "API error: {'code': 'missingtitle', 'info': \"The page you specified doesn't exist.\", 'docref': 'See https://en.wikipedia.org/w/api.php for API usage. Subscribe to the mediawiki-api-announce mailing list at &lt;https://lists.wikimedia.org/postorius/lists/mediawiki-api-announce.lists.wikimedia.org/&gt; for notice of API deprecations and breaking changes.'}\n",
      "en.wikipedia.org (parse) a vehicle\n"
     ]
    },
    {
     "name": "stdout",
     "output_type": "stream",
     "text": [
      "Could not find Wikidata item for `a vehicle`\n"
     ]
    },
    {
     "name": "stderr",
     "output_type": "stream",
     "text": [
      "API error: {'code': 'missingtitle', 'info': \"The page you specified doesn't exist.\", 'docref': 'See https://en.wikipedia.org/w/api.php for API usage. Subscribe to the mediawiki-api-announce mailing list at &lt;https://lists.wikimedia.org/postorius/lists/mediawiki-api-announce.lists.wikimedia.org/&gt; for notice of API deprecations and breaking changes.'}\n",
      "en.wikipedia.org (parse) a vehicle\n"
     ]
    },
    {
     "name": "stdout",
     "output_type": "stream",
     "text": [
      "Could not find Wikidata item for `a vehicle`\n",
      "a vehicle ⬅️ tablet computer :  ⚠️\n"
     ]
    },
    {
     "name": "stderr",
     "output_type": "stream",
     "text": [
      "API error: {'code': 'missingtitle', 'info': \"The page you specified doesn't exist.\", 'docref': 'See https://en.wikipedia.org/w/api.php for API usage. Subscribe to the mediawiki-api-announce mailing list at &lt;https://lists.wikimedia.org/postorius/lists/mediawiki-api-announce.lists.wikimedia.org/&gt; for notice of API deprecations and breaking changes.'}\n",
      "en.wikipedia.org (parse) a vehicle\n"
     ]
    },
    {
     "name": "stdout",
     "output_type": "stream",
     "text": [
      "Could not find Wikidata item for `a vehicle`\n"
     ]
    },
    {
     "name": "stderr",
     "output_type": "stream",
     "text": [
      "API error: {'code': 'missingtitle', 'info': \"The page you specified doesn't exist.\", 'docref': 'See https://en.wikipedia.org/w/api.php for API usage. Subscribe to the mediawiki-api-announce mailing list at &lt;https://lists.wikimedia.org/postorius/lists/mediawiki-api-announce.lists.wikimedia.org/&gt; for notice of API deprecations and breaking changes.'}\n",
      "en.wikipedia.org (parse) a vehicle\n"
     ]
    },
    {
     "name": "stdout",
     "output_type": "stream",
     "text": [
      "Could not find Wikidata item for `a vehicle`\n",
      "a vehicle ⬅️ mobile phone :  ⚠️\n"
     ]
    },
    {
     "name": "stderr",
     "output_type": "stream",
     "text": [
      "API error: {'code': 'missingtitle', 'info': \"The page you specified doesn't exist.\", 'docref': 'See https://en.wikipedia.org/w/api.php for API usage. Subscribe to the mediawiki-api-announce mailing list at &lt;https://lists.wikimedia.org/postorius/lists/mediawiki-api-announce.lists.wikimedia.org/&gt; for notice of API deprecations and breaking changes.'}\n",
      "en.wikipedia.org (parse) a vehicle\n"
     ]
    },
    {
     "name": "stdout",
     "output_type": "stream",
     "text": [
      "Could not find Wikidata item for `a vehicle`\n"
     ]
    },
    {
     "name": "stderr",
     "output_type": "stream",
     "text": [
      "API error: {'code': 'missingtitle', 'info': \"The page you specified doesn't exist.\", 'docref': 'See https://en.wikipedia.org/w/api.php for API usage. Subscribe to the mediawiki-api-announce mailing list at &lt;https://lists.wikimedia.org/postorius/lists/mediawiki-api-announce.lists.wikimedia.org/&gt; for notice of API deprecations and breaking changes.'}\n",
      "en.wikipedia.org (parse) computer network\n"
     ]
    },
    {
     "name": "stdout",
     "output_type": "stream",
     "text": [
      "Could not find Wikidata item for `a vehicle`\n",
      "a vehicle ⬅️ laptop computer :  ⚠️\n"
     ]
    },
    {
     "name": "stderr",
     "output_type": "stream",
     "text": [
      "en.wikipedia.org (parse) the Internet\n",
      "en.wikipedia.org (parse) computer network\n",
      "en.wikipedia.org (parse) the Internet\n"
     ]
    },
    {
     "name": "stdout",
     "output_type": "stream",
     "text": [
      "computer network ⬅️ the Internet :  ❌\n"
     ]
    },
    {
     "name": "stderr",
     "output_type": "stream",
     "text": [
      "en.wikipedia.org (parse) computer network\n",
      "en.wikipedia.org (parse) the Internet\n",
      "en.wikipedia.org (parse) computer network\n",
      "en.wikipedia.org (parse) the Internet\n"
     ]
    },
    {
     "name": "stdout",
     "output_type": "stream",
     "text": [
      "computer network ⬅️ the Internet :  ❌\n"
     ]
    },
    {
     "name": "stderr",
     "output_type": "stream",
     "text": [
      "en.wikipedia.org (parse) computer network\n",
      "en.wikipedia.org (parse) the Internet\n",
      "en.wikipedia.org (parse) computer network\n",
      "en.wikipedia.org (parse) the Internet\n"
     ]
    },
    {
     "name": "stdout",
     "output_type": "stream",
     "text": [
      "computer network ⬅️ the Internet :  ❌\n"
     ]
    },
    {
     "name": "stderr",
     "output_type": "stream",
     "text": [
      "en.wikipedia.org (parse) surgical device\n",
      "en.wikipedia.org (parse) surgical instrument\n",
      "en.wikipedia.org (parse) surgical device\n",
      "en.wikipedia.org (parse) surgical instrument\n"
     ]
    },
    {
     "name": "stdout",
     "output_type": "stream",
     "text": [
      "surgical device ⬅️ surgical instrument :  ✅\n"
     ]
    },
    {
     "name": "stderr",
     "output_type": "stream",
     "text": [
      "en.wikipedia.org (parse) optical disc drive\n",
      "en.wikipedia.org (parse) compact disc\n",
      "en.wikipedia.org (imageinfo) File:OD Compact disc.svg\n",
      "en.wikipedia.org (parse) optical disc drive\n",
      "en.wikipedia.org (parse) compact disc\n",
      "en.wikipedia.org (imageinfo) File:OD Compact disc.svg\n"
     ]
    },
    {
     "name": "stdout",
     "output_type": "stream",
     "text": [
      "optical disc drive ⬅️ compact disc :  ❌\n"
     ]
    },
    {
     "name": "stderr",
     "output_type": "stream",
     "text": [
      "en.wikipedia.org (parse) non-volatile memory\n",
      "en.wikipedia.org (parse) magnetic storage\n",
      "en.wikipedia.org (parse) non-volatile memory\n",
      "en.wikipedia.org (parse) magnetic storage\n"
     ]
    },
    {
     "name": "stdout",
     "output_type": "stream",
     "text": [
      "non-volatile memory ⬅️ magnetic storage :  ❌\n"
     ]
    },
    {
     "name": "stderr",
     "output_type": "stream",
     "text": [
      "en.wikipedia.org (parse) volatile memory\n",
      "en.wikipedia.org (parse) random-access memory\n",
      "en.wikipedia.org (parse) volatile memory\n",
      "en.wikipedia.org (parse) random-access memory\n"
     ]
    },
    {
     "name": "stdout",
     "output_type": "stream",
     "text": [
      "volatile memory ⬅️ random-access memory :  ❌\n"
     ]
    },
    {
     "name": "stderr",
     "output_type": "stream",
     "text": [
      "en.wikipedia.org (parse) storage medium\n",
      "en.wikipedia.org (parse) Electrically Erasable and Programmable ROM\n",
      "API error: {'code': 'missingtitle', 'info': \"The page you specified doesn't exist.\", 'docref': 'See https://en.wikipedia.org/w/api.php for API usage. Subscribe to the mediawiki-api-announce mailing list at &lt;https://lists.wikimedia.org/postorius/lists/mediawiki-api-announce.lists.wikimedia.org/&gt; for notice of API deprecations and breaking changes.'}\n",
      "en.wikipedia.org (parse) storage medium\n"
     ]
    },
    {
     "name": "stdout",
     "output_type": "stream",
     "text": [
      "Could not find Wikidata item for `Electrically Erasable and Programmable ROM`\n"
     ]
    },
    {
     "name": "stderr",
     "output_type": "stream",
     "text": [
      "en.wikipedia.org (parse) Electrically Erasable and Programmable ROM\n",
      "API error: {'code': 'missingtitle', 'info': \"The page you specified doesn't exist.\", 'docref': 'See https://en.wikipedia.org/w/api.php for API usage. Subscribe to the mediawiki-api-announce mailing list at &lt;https://lists.wikimedia.org/postorius/lists/mediawiki-api-announce.lists.wikimedia.org/&gt; for notice of API deprecations and breaking changes.'}\n",
      "en.wikipedia.org (parse) visible light spectrum\n"
     ]
    },
    {
     "name": "stdout",
     "output_type": "stream",
     "text": [
      "Could not find Wikidata item for `Electrically Erasable and Programmable ROM`\n",
      "storage medium ⬅️ Electrically Erasable and Programmable ROM :  ⚠️\n"
     ]
    },
    {
     "name": "stderr",
     "output_type": "stream",
     "text": [
      "en.wikipedia.org (parse) near-infrared light\n",
      "en.wikipedia.org (parse) visible light spectrum\n",
      "en.wikipedia.org (parse) near-infrared light\n"
     ]
    },
    {
     "name": "stdout",
     "output_type": "stream",
     "text": [
      "visible light spectrum ⬅️ near-infrared light :  ❌\n"
     ]
    },
    {
     "name": "stderr",
     "output_type": "stream",
     "text": [
      "en.wikipedia.org (parse) storage medium\n",
      "en.wikipedia.org (parse) magnetic disk\n",
      "en.wikipedia.org (parse) storage medium\n",
      "en.wikipedia.org (parse) magnetic disk\n"
     ]
    },
    {
     "name": "stdout",
     "output_type": "stream",
     "text": [
      "storage medium ⬅️ magnetic disk :  ✅\n"
     ]
    },
    {
     "name": "stderr",
     "output_type": "stream",
     "text": [
      "en.wikipedia.org (parse) storage medium\n",
      "en.wikipedia.org (parse) flexible disk\n",
      "en.wikipedia.org (parse) storage medium\n",
      "en.wikipedia.org (parse) flexible disk\n"
     ]
    },
    {
     "name": "stdout",
     "output_type": "stream",
     "text": [
      "storage medium ⬅️ flexible disk :  ✅\n"
     ]
    },
    {
     "name": "stderr",
     "output_type": "stream",
     "text": [
      "en.wikipedia.org (parse) storage medium\n",
      "en.wikipedia.org (parse) hard disk\n",
      "en.wikipedia.org (imageinfo) File:IBM 350 RAMAC.jpg\n",
      "en.wikipedia.org (parse) storage medium\n",
      "en.wikipedia.org (parse) hard disk\n",
      "en.wikipedia.org (imageinfo) File:IBM 350 RAMAC.jpg\n"
     ]
    },
    {
     "name": "stdout",
     "output_type": "stream",
     "text": [
      "storage medium ⬅️ hard disk :  ✅\n"
     ]
    },
    {
     "name": "stderr",
     "output_type": "stream",
     "text": [
      "en.wikipedia.org (parse) storage device\n",
      "en.wikipedia.org (parse) hard disk\n",
      "en.wikipedia.org (imageinfo) File:IBM 350 RAMAC.jpg\n",
      "en.wikipedia.org (parse) storage device\n",
      "en.wikipedia.org (parse) hard disk\n",
      "en.wikipedia.org (imageinfo) File:IBM 350 RAMAC.jpg\n"
     ]
    },
    {
     "name": "stdout",
     "output_type": "stream",
     "text": [
      "storage device ⬅️ hard disk :  ❌\n"
     ]
    },
    {
     "name": "stderr",
     "output_type": "stream",
     "text": [
      "en.wikipedia.org (parse) storage device\n",
      "en.wikipedia.org (parse) hard disk\n",
      "en.wikipedia.org (imageinfo) File:IBM 350 RAMAC.jpg\n",
      "en.wikipedia.org (parse) storage device\n",
      "en.wikipedia.org (parse) hard disk\n",
      "en.wikipedia.org (imageinfo) File:IBM 350 RAMAC.jpg\n"
     ]
    },
    {
     "name": "stdout",
     "output_type": "stream",
     "text": [
      "storage device ⬅️ hard disk :  ❌\n"
     ]
    },
    {
     "name": "stderr",
     "output_type": "stream",
     "text": [
      "en.wikipedia.org (parse) brain waves\n",
      "en.wikipedia.org (parse) pulse rate\n",
      "en.wikipedia.org (imageinfo) File:Hand-book of physiology (1892) ...\n",
      "en.wikipedia.org (parse) brain waves\n",
      "en.wikipedia.org (parse) pulse rate\n",
      "en.wikipedia.org (imageinfo) File:Hand-book of physiology (1892) ...\n"
     ]
    },
    {
     "name": "stdout",
     "output_type": "stream",
     "text": [
      "brain waves ⬅️ pulse rate :  ❌\n"
     ]
    },
    {
     "name": "stderr",
     "output_type": "stream",
     "text": [
      "en.wikipedia.org (parse) brain waves\n",
      "en.wikipedia.org (parse) blood flow\n",
      "en.wikipedia.org (parse) brain waves\n",
      "en.wikipedia.org (parse) blood flow\n"
     ]
    },
    {
     "name": "stdout",
     "output_type": "stream",
     "text": [
      "brain waves ⬅️ blood flow :  ❌\n"
     ]
    },
    {
     "name": "stderr",
     "output_type": "stream",
     "text": [
      "en.wikipedia.org (parse) electronic pen\n",
      "en.wikipedia.org (parse) the height\n",
      "API error: {'code': 'missingtitle', 'info': \"The page you specified doesn't exist.\", 'docref': 'See https://en.wikipedia.org/w/api.php for API usage. Subscribe to the mediawiki-api-announce mailing list at &lt;https://lists.wikimedia.org/postorius/lists/mediawiki-api-announce.lists.wikimedia.org/&gt; for notice of API deprecations and breaking changes.'}\n",
      "en.wikipedia.org (parse) electronic pen\n"
     ]
    },
    {
     "name": "stdout",
     "output_type": "stream",
     "text": [
      "Could not find Wikidata item for `the height`\n"
     ]
    },
    {
     "name": "stderr",
     "output_type": "stream",
     "text": [
      "en.wikipedia.org (parse) the height\n",
      "API error: {'code': 'missingtitle', 'info': \"The page you specified doesn't exist.\", 'docref': 'See https://en.wikipedia.org/w/api.php for API usage. Subscribe to the mediawiki-api-announce mailing list at &lt;https://lists.wikimedia.org/postorius/lists/mediawiki-api-announce.lists.wikimedia.org/&gt; for notice of API deprecations and breaking changes.'}\n",
      "en.wikipedia.org (parse) brain waves\n"
     ]
    },
    {
     "name": "stdout",
     "output_type": "stream",
     "text": [
      "Could not find Wikidata item for `the height`\n",
      "electronic pen ⬅️ the height :  ⚠️\n"
     ]
    },
    {
     "name": "stderr",
     "output_type": "stream",
     "text": [
      "en.wikipedia.org (parse) blood flow\n",
      "en.wikipedia.org (parse) brain waves\n",
      "en.wikipedia.org (parse) blood flow\n"
     ]
    },
    {
     "name": "stdout",
     "output_type": "stream",
     "text": [
      "brain waves ⬅️ blood flow :  ❌\n"
     ]
    },
    {
     "name": "stderr",
     "output_type": "stream",
     "text": [
      "en.wikipedia.org (parse) brain waves\n",
      "en.wikipedia.org (parse) pulse rate\n",
      "en.wikipedia.org (imageinfo) File:Hand-book of physiology (1892) ...\n",
      "en.wikipedia.org (parse) brain waves\n",
      "en.wikipedia.org (parse) pulse rate\n",
      "en.wikipedia.org (imageinfo) File:Hand-book of physiology (1892) ...\n"
     ]
    },
    {
     "name": "stdout",
     "output_type": "stream",
     "text": [
      "brain waves ⬅️ pulse rate :  ❌\n"
     ]
    },
    {
     "name": "stderr",
     "output_type": "stream",
     "text": [
      "en.wikipedia.org (parse) state estimation\n",
      "en.wikipedia.org (parse) brain wave\n",
      "en.wikipedia.org (parse) state estimation\n",
      "en.wikipedia.org (parse) brain wave\n"
     ]
    },
    {
     "name": "stdout",
     "output_type": "stream",
     "text": [
      "state estimation ⬅️ brain wave :  ❌\n"
     ]
    },
    {
     "name": "stderr",
     "output_type": "stream",
     "text": [
      "en.wikipedia.org (parse) semiconductor memory\n",
      "en.wikipedia.org (parse) flash memory\n",
      "en.wikipedia.org (parse) semiconductor memory\n",
      "en.wikipedia.org (parse) flash memory\n"
     ]
    },
    {
     "name": "stdout",
     "output_type": "stream",
     "text": [
      "semiconductor memory ⬅️ flash memory :  ❌\n"
     ]
    },
    {
     "name": "stderr",
     "output_type": "stream",
     "text": [
      "en.wikipedia.org (parse) wide-angle lens\n",
      "en.wikipedia.org (parse) fisheye lens\n",
      "en.wikipedia.org (parse) wide-angle lens\n",
      "en.wikipedia.org (parse) fisheye lens\n"
     ]
    },
    {
     "name": "stdout",
     "output_type": "stream",
     "text": [
      "wide-angle lens ⬅️ fisheye lens :  ❌\n"
     ]
    },
    {
     "name": "stderr",
     "output_type": "stream",
     "text": [
      "en.wikipedia.org (parse) moving images\n",
      "en.wikipedia.org (parse) digital camera\n",
      "en.wikipedia.org (parse) moving images\n",
      "en.wikipedia.org (parse) digital camera\n"
     ]
    },
    {
     "name": "stdout",
     "output_type": "stream",
     "text": [
      "moving images ⬅️ digital camera :  ❌\n"
     ]
    },
    {
     "name": "stderr",
     "output_type": "stream",
     "text": [
      "en.wikipedia.org (parse) moving images\n",
      "en.wikipedia.org (parse) digital camcorder\n",
      "en.wikipedia.org (parse) moving images\n",
      "en.wikipedia.org (parse) digital camcorder\n"
     ]
    },
    {
     "name": "stdout",
     "output_type": "stream",
     "text": [
      "moving images ⬅️ digital camcorder :  ❌\n"
     ]
    },
    {
     "name": "stderr",
     "output_type": "stream",
     "text": [
      "en.wikipedia.org (parse) electronic device\n",
      "en.wikipedia.org (parse) electronic component\n",
      "en.wikipedia.org (parse) electronic device\n",
      "en.wikipedia.org (parse) electronic component\n"
     ]
    },
    {
     "name": "stdout",
     "output_type": "stream",
     "text": [
      "electronic device ⬅️ electronic component :  ❌\n"
     ]
    },
    {
     "name": "stderr",
     "output_type": "stream",
     "text": [
      "en.wikipedia.org (parse) electronic device\n",
      "en.wikipedia.org (parse) electronic component\n",
      "en.wikipedia.org (parse) electronic device\n",
      "en.wikipedia.org (parse) electronic component\n"
     ]
    },
    {
     "name": "stdout",
     "output_type": "stream",
     "text": [
      "electronic device ⬅️ electronic component :  ❌\n"
     ]
    },
    {
     "name": "stderr",
     "output_type": "stream",
     "text": [
      "en.wikipedia.org (parse) electronic device\n",
      "en.wikipedia.org (parse) electronic component\n",
      "en.wikipedia.org (parse) electronic device\n",
      "en.wikipedia.org (parse) electronic component\n"
     ]
    },
    {
     "name": "stdout",
     "output_type": "stream",
     "text": [
      "electronic device ⬅️ electronic component :  ❌\n"
     ]
    },
    {
     "name": "stderr",
     "output_type": "stream",
     "text": [
      "en.wikipedia.org (parse) electronic device\n",
      "en.wikipedia.org (parse) electronic component\n",
      "en.wikipedia.org (parse) electronic device\n",
      "en.wikipedia.org (parse) electronic component\n"
     ]
    },
    {
     "name": "stdout",
     "output_type": "stream",
     "text": [
      "electronic device ⬅️ electronic component :  ❌\n"
     ]
    },
    {
     "name": "stderr",
     "output_type": "stream",
     "text": [
      "en.wikipedia.org (parse) storage device\n",
      "en.wikipedia.org (parse) main memory\n",
      "en.wikipedia.org (parse) storage device\n",
      "en.wikipedia.org (parse) main memory\n"
     ]
    },
    {
     "name": "stdout",
     "output_type": "stream",
     "text": [
      "storage device ⬅️ main memory :  ❌\n"
     ]
    },
    {
     "name": "stderr",
     "output_type": "stream",
     "text": [
      "en.wikipedia.org (parse) storage device\n",
      "en.wikipedia.org (parse) input device\n",
      "en.wikipedia.org (parse) storage device\n",
      "en.wikipedia.org (parse) input device\n"
     ]
    },
    {
     "name": "stdout",
     "output_type": "stream",
     "text": [
      "storage device ⬅️ input device :  ❌\n"
     ]
    },
    {
     "name": "stderr",
     "output_type": "stream",
     "text": [
      "en.wikipedia.org (parse) storage device\n",
      "en.wikipedia.org (parse) hard disk\n",
      "en.wikipedia.org (imageinfo) File:IBM 350 RAMAC.jpg\n",
      "en.wikipedia.org (parse) storage device\n",
      "en.wikipedia.org (parse) hard disk\n",
      "en.wikipedia.org (imageinfo) File:IBM 350 RAMAC.jpg\n"
     ]
    },
    {
     "name": "stdout",
     "output_type": "stream",
     "text": [
      "storage device ⬅️ hard disk :  ❌\n"
     ]
    },
    {
     "name": "stderr",
     "output_type": "stream",
     "text": [
      "en.wikipedia.org (parse) storage device\n",
      "en.wikipedia.org (parse) wireless communication\n",
      "en.wikipedia.org (parse) storage device\n",
      "en.wikipedia.org (parse) wireless communication\n"
     ]
    },
    {
     "name": "stdout",
     "output_type": "stream",
     "text": [
      "storage device ⬅️ wireless communication :  ❌\n"
     ]
    },
    {
     "name": "stderr",
     "output_type": "stream",
     "text": [
      "en.wikipedia.org (parse) storage device\n",
      "en.wikipedia.org (parse) input device\n",
      "en.wikipedia.org (parse) storage device\n",
      "en.wikipedia.org (parse) input device\n"
     ]
    },
    {
     "name": "stdout",
     "output_type": "stream",
     "text": [
      "storage device ⬅️ input device :  ❌\n"
     ]
    },
    {
     "name": "stderr",
     "output_type": "stream",
     "text": [
      "en.wikipedia.org (parse) storage device\n",
      "en.wikipedia.org (parse) hard disk\n",
      "en.wikipedia.org (imageinfo) File:IBM 350 RAMAC.jpg\n",
      "en.wikipedia.org (parse) storage device\n",
      "en.wikipedia.org (parse) hard disk\n",
      "en.wikipedia.org (imageinfo) File:IBM 350 RAMAC.jpg\n"
     ]
    },
    {
     "name": "stdout",
     "output_type": "stream",
     "text": [
      "storage device ⬅️ hard disk :  ❌\n"
     ]
    },
    {
     "name": "stderr",
     "output_type": "stream",
     "text": [
      "en.wikipedia.org (parse) storage device\n",
      "en.wikipedia.org (parse) wireless communication\n",
      "en.wikipedia.org (parse) storage device\n",
      "en.wikipedia.org (parse) wireless communication\n"
     ]
    },
    {
     "name": "stdout",
     "output_type": "stream",
     "text": [
      "storage device ⬅️ wireless communication :  ❌\n"
     ]
    },
    {
     "name": "stderr",
     "output_type": "stream",
     "text": [
      "en.wikipedia.org (parse) storage device\n",
      "en.wikipedia.org (parse) main memory\n",
      "en.wikipedia.org (parse) storage device\n",
      "en.wikipedia.org (parse) main memory\n"
     ]
    },
    {
     "name": "stdout",
     "output_type": "stream",
     "text": [
      "storage device ⬅️ main memory :  ❌\n"
     ]
    },
    {
     "name": "stderr",
     "output_type": "stream",
     "text": [
      "en.wikipedia.org (parse) neural network\n",
      "en.wikipedia.org (parse) convolutional neural network\n",
      "en.wikipedia.org (parse) neural network\n",
      "en.wikipedia.org (parse) convolutional neural network\n"
     ]
    },
    {
     "name": "stdout",
     "output_type": "stream",
     "text": [
      "neural network ⬅️ convolutional neural network :  ✅\n"
     ]
    },
    {
     "name": "stderr",
     "output_type": "stream",
     "text": [
      "en.wikipedia.org (parse) electronic devices\n",
      "en.wikipedia.org (parse) mobile phone\n",
      "en.wikipedia.org (parse) electronic devices\n",
      "en.wikipedia.org (parse) mobile phone\n"
     ]
    },
    {
     "name": "stdout",
     "output_type": "stream",
     "text": [
      "electronic devices ⬅️ mobile phone :  ❌\n"
     ]
    },
    {
     "name": "stderr",
     "output_type": "stream",
     "text": [
      "en.wikipedia.org (parse) storage media\n",
      "en.wikipedia.org (parse) hard drives\n",
      "en.wikipedia.org (imageinfo) File:IBM 350 RAMAC.jpg\n",
      "en.wikipedia.org (parse) storage media\n",
      "en.wikipedia.org (parse) hard drives\n",
      "en.wikipedia.org (imageinfo) File:IBM 350 RAMAC.jpg\n"
     ]
    },
    {
     "name": "stdout",
     "output_type": "stream",
     "text": [
      "storage media ⬅️ hard drives :  ✅\n"
     ]
    },
    {
     "name": "stderr",
     "output_type": "stream",
     "text": [
      "en.wikipedia.org (parse) the environment\n",
      "en.wikipedia.org (parse) foot traffic\n"
     ]
    },
    {
     "name": "stdout",
     "output_type": "stream",
     "text": [
      "Could not find Wikidata item for `foot traffic`\n"
     ]
    },
    {
     "name": "stderr",
     "output_type": "stream",
     "text": [
      "en.wikipedia.org (parse) the environment\n",
      "en.wikipedia.org (parse) foot traffic\n"
     ]
    },
    {
     "name": "stdout",
     "output_type": "stream",
     "text": [
      "Could not find Wikidata item for `foot traffic`\n",
      "the environment ⬅️ foot traffic :  ⚠️\n"
     ]
    },
    {
     "name": "stderr",
     "output_type": "stream",
     "text": [
      "en.wikipedia.org (parse) mobile phone\n",
      "en.wikipedia.org (parse) mobile device\n",
      "en.wikipedia.org (parse) mobile phone\n",
      "en.wikipedia.org (parse) mobile device\n"
     ]
    },
    {
     "name": "stdout",
     "output_type": "stream",
     "text": [
      "mobile phone ⬅️ mobile device :  ❌\n"
     ]
    },
    {
     "name": "stderr",
     "output_type": "stream",
     "text": [
      "en.wikipedia.org (parse) mobile device\n",
      "en.wikipedia.org (parse) tablet computer\n",
      "en.wikipedia.org (parse) mobile device\n",
      "en.wikipedia.org (parse) tablet computer\n"
     ]
    },
    {
     "name": "stdout",
     "output_type": "stream",
     "text": [
      "mobile device ⬅️ tablet computer :  ✅\n"
     ]
    },
    {
     "name": "stderr",
     "output_type": "stream",
     "text": [
      "en.wikipedia.org (parse) mobile device\n",
      "en.wikipedia.org (parse) mobile phone\n",
      "en.wikipedia.org (parse) mobile device\n",
      "en.wikipedia.org (parse) mobile phone\n"
     ]
    },
    {
     "name": "stdout",
     "output_type": "stream",
     "text": [
      "mobile device ⬅️ mobile phone :  ✅\n"
     ]
    },
    {
     "name": "stderr",
     "output_type": "stream",
     "text": [
      "en.wikipedia.org (parse) the environment\n",
      "en.wikipedia.org (parse) foot traffic\n"
     ]
    },
    {
     "name": "stdout",
     "output_type": "stream",
     "text": [
      "Could not find Wikidata item for `foot traffic`\n"
     ]
    },
    {
     "name": "stderr",
     "output_type": "stream",
     "text": [
      "en.wikipedia.org (parse) the environment\n",
      "en.wikipedia.org (parse) foot traffic\n"
     ]
    },
    {
     "name": "stdout",
     "output_type": "stream",
     "text": [
      "Could not find Wikidata item for `foot traffic`\n",
      "the environment ⬅️ foot traffic :  ⚠️\n"
     ]
    },
    {
     "name": "stderr",
     "output_type": "stream",
     "text": [
      "en.wikipedia.org (parse) electronic devices\n",
      "en.wikipedia.org (parse) mobile phone\n",
      "en.wikipedia.org (parse) electronic devices\n",
      "en.wikipedia.org (parse) mobile phone\n"
     ]
    },
    {
     "name": "stdout",
     "output_type": "stream",
     "text": [
      "electronic devices ⬅️ mobile phone :  ❌\n"
     ]
    },
    {
     "name": "stderr",
     "output_type": "stream",
     "text": [
      "en.wikipedia.org (parse) storage media\n",
      "en.wikipedia.org (parse) hard drives\n",
      "en.wikipedia.org (imageinfo) File:IBM 350 RAMAC.jpg\n",
      "en.wikipedia.org (parse) storage media\n",
      "en.wikipedia.org (parse) hard drives\n",
      "en.wikipedia.org (imageinfo) File:IBM 350 RAMAC.jpg\n"
     ]
    },
    {
     "name": "stdout",
     "output_type": "stream",
     "text": [
      "storage media ⬅️ hard drives :  ✅\n"
     ]
    },
    {
     "name": "stderr",
     "output_type": "stream",
     "text": [
      "en.wikipedia.org (parse) living room\n",
      "en.wikipedia.org (parse) occupancy grid\n",
      "en.wikipedia.org (parse) living room\n",
      "en.wikipedia.org (parse) occupancy grid\n"
     ]
    },
    {
     "name": "stdout",
     "output_type": "stream",
     "text": [
      "living room ⬅️ occupancy grid :  ❌\n"
     ]
    },
    {
     "name": "stderr",
     "output_type": "stream",
     "text": [
      "en.wikipedia.org (parse) the environment\n",
      "en.wikipedia.org (parse) foot traffic\n"
     ]
    },
    {
     "name": "stdout",
     "output_type": "stream",
     "text": [
      "Could not find Wikidata item for `foot traffic`\n"
     ]
    },
    {
     "name": "stderr",
     "output_type": "stream",
     "text": [
      "en.wikipedia.org (parse) the environment\n",
      "en.wikipedia.org (parse) foot traffic\n"
     ]
    },
    {
     "name": "stdout",
     "output_type": "stream",
     "text": [
      "Could not find Wikidata item for `foot traffic`\n",
      "the environment ⬅️ foot traffic :  ⚠️\n"
     ]
    },
    {
     "name": "stderr",
     "output_type": "stream",
     "text": [
      "en.wikipedia.org (parse) electronic devices\n",
      "en.wikipedia.org (parse) mobile phone\n",
      "en.wikipedia.org (parse) electronic devices\n",
      "en.wikipedia.org (parse) mobile phone\n"
     ]
    },
    {
     "name": "stdout",
     "output_type": "stream",
     "text": [
      "electronic devices ⬅️ mobile phone :  ❌\n"
     ]
    },
    {
     "name": "stderr",
     "output_type": "stream",
     "text": [
      "en.wikipedia.org (parse) storage media\n",
      "en.wikipedia.org (parse) hard drives\n",
      "en.wikipedia.org (imageinfo) File:IBM 350 RAMAC.jpg\n",
      "en.wikipedia.org (parse) storage media\n",
      "en.wikipedia.org (parse) hard drives\n",
      "en.wikipedia.org (imageinfo) File:IBM 350 RAMAC.jpg\n"
     ]
    },
    {
     "name": "stdout",
     "output_type": "stream",
     "text": [
      "storage media ⬅️ hard drives :  ✅\n"
     ]
    },
    {
     "name": "stderr",
     "output_type": "stream",
     "text": [
      "en.wikipedia.org (parse) loss function\n",
      "en.wikipedia.org (parse) objective function\n",
      "en.wikipedia.org (parse) loss function\n",
      "en.wikipedia.org (parse) objective function\n"
     ]
    },
    {
     "name": "stdout",
     "output_type": "stream",
     "text": [
      "loss function ⬅️ objective function :  ✅\n"
     ]
    },
    {
     "name": "stderr",
     "output_type": "stream",
     "text": [
      "en.wikipedia.org (parse) facial expression\n",
      "en.wikipedia.org (parse) facial expression\n",
      "en.wikipedia.org (parse) facial expression\n",
      "en.wikipedia.org (parse) facial expression\n"
     ]
    },
    {
     "name": "stdout",
     "output_type": "stream",
     "text": [
      "facial expression ⬅️ facial expression :  ✅\n"
     ]
    },
    {
     "name": "stderr",
     "output_type": "stream",
     "text": [
      "en.wikipedia.org (parse) peripheral bus\n",
      "en.wikipedia.org (parse) Peripheral Component Interconnect\n",
      "en.wikipedia.org (imageinfo) File:PCI Slots Digon3.JPG\n",
      "en.wikipedia.org (parse) peripheral bus\n",
      "en.wikipedia.org (parse) Peripheral Component Interconnect\n",
      "en.wikipedia.org (imageinfo) File:PCI Slots Digon3.JPG\n"
     ]
    },
    {
     "name": "stdout",
     "output_type": "stream",
     "text": [
      "peripheral bus ⬅️ Peripheral Component Interconnect :  ❌\n"
     ]
    },
    {
     "name": "stderr",
     "output_type": "stream",
     "text": [
      "en.wikipedia.org (parse) display device\n",
      "en.wikipedia.org (parse) virtual reality\n",
      "en.wikipedia.org (parse) display device\n",
      "en.wikipedia.org (parse) virtual reality\n"
     ]
    },
    {
     "name": "stdout",
     "output_type": "stream",
     "text": [
      "display device ⬅️ virtual reality :  ❌\n"
     ]
    },
    {
     "name": "stderr",
     "output_type": "stream",
     "text": [
      "en.wikipedia.org (parse) display device\n",
      "en.wikipedia.org (parse) display device\n",
      "en.wikipedia.org (parse) display device\n",
      "en.wikipedia.org (parse) display device\n"
     ]
    },
    {
     "name": "stdout",
     "output_type": "stream",
     "text": [
      "display device ⬅️ display device :  ✅\n"
     ]
    },
    {
     "name": "stderr",
     "output_type": "stream",
     "text": [
      "en.wikipedia.org (parse) display device\n",
      "en.wikipedia.org (parse) augmented reality\n",
      "en.wikipedia.org (parse) display device\n",
      "en.wikipedia.org (parse) augmented reality\n"
     ]
    },
    {
     "name": "stdout",
     "output_type": "stream",
     "text": [
      "display device ⬅️ augmented reality :  ❌\n"
     ]
    },
    {
     "name": "stderr",
     "output_type": "stream",
     "text": [
      "en.wikipedia.org (parse) high-level shader language\n",
      "en.wikipedia.org (parse) High Level Shader Language\n",
      "en.wikipedia.org (parse) high-level shader language\n",
      "en.wikipedia.org (parse) High Level Shader Language\n"
     ]
    },
    {
     "name": "stdout",
     "output_type": "stream",
     "text": [
      "high-level shader language ⬅️ High Level Shader Language :  ✅\n"
     ]
    },
    {
     "name": "stderr",
     "output_type": "stream",
     "text": [
      "en.wikipedia.org (parse) neural network\n",
      "en.wikipedia.org (parse) machine learning algorithm\n",
      "en.wikipedia.org (parse) neural network\n",
      "en.wikipedia.org (parse) machine learning algorithm\n"
     ]
    },
    {
     "name": "stdout",
     "output_type": "stream",
     "text": [
      "neural network ⬅️ machine learning algorithm :  ❌\n"
     ]
    },
    {
     "name": "stderr",
     "output_type": "stream",
     "text": [
      "en.wikipedia.org (parse) Convolutional Neural Network\n",
      "en.wikipedia.org (parse) neural network\n",
      "en.wikipedia.org (parse) Convolutional Neural Network\n",
      "en.wikipedia.org (parse) neural network\n"
     ]
    },
    {
     "name": "stdout",
     "output_type": "stream",
     "text": [
      "Convolutional Neural Network ⬅️ neural network :  ❌\n"
     ]
    },
    {
     "name": "stderr",
     "output_type": "stream",
     "text": [
      "en.wikipedia.org (parse) embedded devices\n",
      "en.wikipedia.org (parse) tablet computers\n",
      "en.wikipedia.org (parse) embedded devices\n",
      "en.wikipedia.org (parse) tablet computers\n"
     ]
    },
    {
     "name": "stdout",
     "output_type": "stream",
     "text": [
      "embedded devices ⬅️ tablet computers :  ❌\n"
     ]
    },
    {
     "name": "stderr",
     "output_type": "stream",
     "text": [
      "en.wikipedia.org (parse) computing device\n",
      "en.wikipedia.org (parse) computing device\n",
      "en.wikipedia.org (parse) computing device\n",
      "en.wikipedia.org (parse) computing device\n"
     ]
    },
    {
     "name": "stdout",
     "output_type": "stream",
     "text": [
      "computing device ⬅️ computing device :  ✅\n"
     ]
    },
    {
     "name": "stderr",
     "output_type": "stream",
     "text": [
      "en.wikipedia.org (parse) point light source\n",
      "en.wikipedia.org (parse) light source\n",
      "en.wikipedia.org (parse) point light source\n",
      "en.wikipedia.org (parse) light source\n"
     ]
    },
    {
     "name": "stdout",
     "output_type": "stream",
     "text": [
      "point light source ⬅️ light source :  ❌\n"
     ]
    },
    {
     "name": "stderr",
     "output_type": "stream",
     "text": [
      "en.wikipedia.org (parse) point light source\n",
      "en.wikipedia.org (parse) light source\n",
      "en.wikipedia.org (parse) point light source\n",
      "en.wikipedia.org (parse) light source\n"
     ]
    },
    {
     "name": "stdout",
     "output_type": "stream",
     "text": [
      "point light source ⬅️ light source :  ❌\n"
     ]
    },
    {
     "name": "stderr",
     "output_type": "stream",
     "text": [
      "en.wikipedia.org (parse) point light source\n",
      "en.wikipedia.org (parse) light source\n",
      "en.wikipedia.org (parse) point light source\n",
      "en.wikipedia.org (parse) light source\n"
     ]
    },
    {
     "name": "stdout",
     "output_type": "stream",
     "text": [
      "point light source ⬅️ light source :  ❌\n"
     ]
    },
    {
     "name": "stderr",
     "output_type": "stream",
     "text": [
      "en.wikipedia.org (parse) point light source\n",
      "en.wikipedia.org (parse) light source\n",
      "en.wikipedia.org (parse) point light source\n",
      "en.wikipedia.org (parse) light source\n"
     ]
    },
    {
     "name": "stdout",
     "output_type": "stream",
     "text": [
      "point light source ⬅️ light source :  ❌\n"
     ]
    },
    {
     "name": "stderr",
     "output_type": "stream",
     "text": [
      "en.wikipedia.org (parse) storage device\n",
      "en.wikipedia.org (parse) Hard Disk Drive\n",
      "en.wikipedia.org (imageinfo) File:IBM 350 RAMAC.jpg\n",
      "en.wikipedia.org (parse) storage device\n",
      "en.wikipedia.org (parse) Hard Disk Drive\n",
      "en.wikipedia.org (imageinfo) File:IBM 350 RAMAC.jpg\n"
     ]
    },
    {
     "name": "stdout",
     "output_type": "stream",
     "text": [
      "storage device ⬅️ Hard Disk Drive :  ❌\n"
     ]
    },
    {
     "name": "stderr",
     "output_type": "stream",
     "text": [
      "en.wikipedia.org (parse) storage medium\n",
      "en.wikipedia.org (parse) magnetic material\n",
      "en.wikipedia.org (parse) storage medium\n",
      "en.wikipedia.org (parse) magnetic material\n"
     ]
    },
    {
     "name": "stdout",
     "output_type": "stream",
     "text": [
      "storage medium ⬅️ magnetic material :  ❌\n"
     ]
    },
    {
     "name": "stderr",
     "output_type": "stream",
     "text": [
      "en.wikipedia.org (parse) light sensor\n",
      "en.wikipedia.org (parse) Complementary Metal Oxide Semiconductor\n",
      "en.wikipedia.org (parse) light sensor\n",
      "en.wikipedia.org (parse) Complementary Metal Oxide Semiconductor\n"
     ]
    },
    {
     "name": "stdout",
     "output_type": "stream",
     "text": [
      "light sensor ⬅️ Complementary Metal Oxide Semiconductor :  ❌\n"
     ]
    },
    {
     "name": "stderr",
     "output_type": "stream",
     "text": [
      "en.wikipedia.org (parse) wireless network\n",
      "en.wikipedia.org (parse) Wireless Fidelity\n",
      "en.wikipedia.org (imageinfo) File:Wi-fi alliance logo.png\n",
      "en.wikipedia.org (parse) wireless network\n",
      "en.wikipedia.org (parse) Wireless Fidelity\n",
      "en.wikipedia.org (imageinfo) File:Wi-fi alliance logo.png\n"
     ]
    },
    {
     "name": "stdout",
     "output_type": "stream",
     "text": [
      "wireless network ⬅️ Wireless Fidelity :  ✅\n"
     ]
    },
    {
     "name": "stderr",
     "output_type": "stream",
     "text": [
      "en.wikipedia.org (parse) machine learning\n",
      "en.wikipedia.org (parse) neural networks\n",
      "en.wikipedia.org (parse) machine learning\n",
      "en.wikipedia.org (parse) neural networks\n"
     ]
    },
    {
     "name": "stdout",
     "output_type": "stream",
     "text": [
      "machine learning ⬅️ neural networks :  ❌\n"
     ]
    },
    {
     "name": "stderr",
     "output_type": "stream",
     "text": [
      "en.wikipedia.org (parse) Convolutional neural network\n",
      "en.wikipedia.org (parse) neural network\n",
      "en.wikipedia.org (parse) Convolutional neural network\n",
      "en.wikipedia.org (parse) neural network\n"
     ]
    },
    {
     "name": "stdout",
     "output_type": "stream",
     "text": [
      "Convolutional neural network ⬅️ neural network :  ❌\n"
     ]
    },
    {
     "name": "stderr",
     "output_type": "stream",
     "text": [
      "en.wikipedia.org (parse) load sensor\n",
      "API error: {'code': 'missingtitle', 'info': \"The page you specified doesn't exist.\", 'docref': 'See https://en.wikipedia.org/w/api.php for API usage. Subscribe to the mediawiki-api-announce mailing list at &lt;https://lists.wikimedia.org/postorius/lists/mediawiki-api-announce.lists.wikimedia.org/&gt; for notice of API deprecations and breaking changes.'}\n",
      "en.wikipedia.org (parse) load sensor\n"
     ]
    },
    {
     "name": "stdout",
     "output_type": "stream",
     "text": [
      "Could not find Wikidata item for `load sensor`\n"
     ]
    },
    {
     "name": "stderr",
     "output_type": "stream",
     "text": [
      "API error: {'code': 'missingtitle', 'info': \"The page you specified doesn't exist.\", 'docref': 'See https://en.wikipedia.org/w/api.php for API usage. Subscribe to the mediawiki-api-announce mailing list at &lt;https://lists.wikimedia.org/postorius/lists/mediawiki-api-announce.lists.wikimedia.org/&gt; for notice of API deprecations and breaking changes.'}\n",
      "en.wikipedia.org (parse) storage media\n"
     ]
    },
    {
     "name": "stdout",
     "output_type": "stream",
     "text": [
      "Could not find Wikidata item for `load sensor`\n",
      "load sensor ⬅️ load sensor :  ⚠️\n"
     ]
    },
    {
     "name": "stderr",
     "output_type": "stream",
     "text": [
      "en.wikipedia.org (parse) flash memory\n",
      "en.wikipedia.org (parse) storage media\n",
      "en.wikipedia.org (parse) flash memory\n"
     ]
    },
    {
     "name": "stdout",
     "output_type": "stream",
     "text": [
      "storage media ⬅️ flash memory :  ✅\n"
     ]
    },
    {
     "name": "stderr",
     "output_type": "stream",
     "text": [
      "en.wikipedia.org (parse) active identifier\n",
      "API error: {'code': 'missingtitle', 'info': \"The page you specified doesn't exist.\", 'docref': 'See https://en.wikipedia.org/w/api.php for API usage. Subscribe to the mediawiki-api-announce mailing list at &lt;https://lists.wikimedia.org/postorius/lists/mediawiki-api-announce.lists.wikimedia.org/&gt; for notice of API deprecations and breaking changes.'}\n",
      "en.wikipedia.org (parse) active identifier\n"
     ]
    },
    {
     "name": "stdout",
     "output_type": "stream",
     "text": [
      "Could not find Wikidata item for `active identifier`\n"
     ]
    },
    {
     "name": "stderr",
     "output_type": "stream",
     "text": [
      "API error: {'code': 'missingtitle', 'info': \"The page you specified doesn't exist.\", 'docref': 'See https://en.wikipedia.org/w/api.php for API usage. Subscribe to the mediawiki-api-announce mailing list at &lt;https://lists.wikimedia.org/postorius/lists/mediawiki-api-announce.lists.wikimedia.org/&gt; for notice of API deprecations and breaking changes.'}\n",
      "en.wikipedia.org (parse) remote system\n"
     ]
    },
    {
     "name": "stdout",
     "output_type": "stream",
     "text": [
      "Could not find Wikidata item for `active identifier`\n",
      "active identifier ⬅️ radio frequency identification :  ⚠️\n"
     ]
    },
    {
     "name": "stderr",
     "output_type": "stream",
     "text": [
      "en.wikipedia.org (parse) the service\n",
      "en.wikipedia.org (parse) remote system\n",
      "en.wikipedia.org (parse) the service\n"
     ]
    },
    {
     "name": "stdout",
     "output_type": "stream",
     "text": [
      "remote system ⬅️ the service :  ❌\n"
     ]
    },
    {
     "name": "stderr",
     "output_type": "stream",
     "text": [
      "en.wikipedia.org (parse) Computer components\n",
      "en.wikipedia.org (parse) web services\n",
      "en.wikipedia.org (parse) Computer components\n",
      "en.wikipedia.org (parse) web services\n"
     ]
    },
    {
     "name": "stdout",
     "output_type": "stream",
     "text": [
      "Computer components ⬅️ web services :  ❌\n"
     ]
    },
    {
     "name": "stderr",
     "output_type": "stream",
     "text": [
      "en.wikipedia.org (parse) contact image sensor\n",
      "en.wikipedia.org (parse) optical sensor\n",
      "en.wikipedia.org (parse) contact image sensor\n",
      "en.wikipedia.org (parse) optical sensor\n"
     ]
    },
    {
     "name": "stdout",
     "output_type": "stream",
     "text": [
      "contact image sensor ⬅️ optical sensor :  ❌\n"
     ]
    },
    {
     "name": "stderr",
     "output_type": "stream",
     "text": [
      "en.wikipedia.org (parse) label printer\n",
      "en.wikipedia.org (parse) optical system\n",
      "en.wikipedia.org (parse) label printer\n",
      "en.wikipedia.org (parse) optical system\n"
     ]
    },
    {
     "name": "stdout",
     "output_type": "stream",
     "text": [
      "label printer ⬅️ optical system :  ❌\n"
     ]
    },
    {
     "name": "stderr",
     "output_type": "stream",
     "text": [
      "en.wikipedia.org (parse) computing device\n",
      "en.wikipedia.org (parse) smart phone\n"
     ]
    },
    {
     "name": "stdout",
     "output_type": "stream",
     "text": [
      "Could not find Wikidata item for `smart phone`\n"
     ]
    },
    {
     "name": "stderr",
     "output_type": "stream",
     "text": [
      "en.wikipedia.org (parse) computing device\n",
      "en.wikipedia.org (parse) smart phone\n"
     ]
    },
    {
     "name": "stdout",
     "output_type": "stream",
     "text": [
      "Could not find Wikidata item for `smart phone`\n",
      "computing device ⬅️ smart phone :  ⚠️\n"
     ]
    },
    {
     "name": "stderr",
     "output_type": "stream",
     "text": [
      "en.wikipedia.org (parse) reference table\n",
      "en.wikipedia.org (parse) effective aperture\n",
      "en.wikipedia.org (parse) reference table\n",
      "en.wikipedia.org (parse) effective aperture\n"
     ]
    },
    {
     "name": "stdout",
     "output_type": "stream",
     "text": [
      "reference table ⬅️ effective aperture :  ❌\n"
     ]
    },
    {
     "name": "stderr",
     "output_type": "stream",
     "text": [
      "en.wikipedia.org (parse) print media\n",
      "en.wikipedia.org (parse) print media\n",
      "en.wikipedia.org (parse) print media\n",
      "en.wikipedia.org (parse) print media\n"
     ]
    },
    {
     "name": "stdout",
     "output_type": "stream",
     "text": [
      "print media ⬅️ print media :  ✅\n"
     ]
    },
    {
     "name": "stderr",
     "output_type": "stream",
     "text": [
      "en.wikipedia.org (parse) test pattern\n",
      "en.wikipedia.org (parse) test pattern\n",
      "en.wikipedia.org (parse) test pattern\n",
      "en.wikipedia.org (parse) test pattern\n"
     ]
    },
    {
     "name": "stdout",
     "output_type": "stream",
     "text": [
      "test pattern ⬅️ test pattern :  ✅\n"
     ]
    },
    {
     "name": "stderr",
     "output_type": "stream",
     "text": [
      "en.wikipedia.org (parse) test pattern\n",
      "en.wikipedia.org (parse) test pattern\n",
      "en.wikipedia.org (parse) test pattern\n",
      "en.wikipedia.org (parse) test pattern\n"
     ]
    },
    {
     "name": "stdout",
     "output_type": "stream",
     "text": [
      "test pattern ⬅️ test pattern :  ✅\n"
     ]
    },
    {
     "name": "stderr",
     "output_type": "stream",
     "text": [
      "en.wikipedia.org (parse) optical system\n",
      "en.wikipedia.org (parse) optical system\n",
      "en.wikipedia.org (parse) optical system\n",
      "en.wikipedia.org (parse) optical system\n"
     ]
    },
    {
     "name": "stdout",
     "output_type": "stream",
     "text": [
      "optical system ⬅️ optical system :  ✅\n"
     ]
    },
    {
     "name": "stderr",
     "output_type": "stream",
     "text": [
      "en.wikipedia.org (parse) optical system\n",
      "en.wikipedia.org (parse) optical system\n",
      "en.wikipedia.org (parse) optical system\n",
      "en.wikipedia.org (parse) optical system\n"
     ]
    },
    {
     "name": "stdout",
     "output_type": "stream",
     "text": [
      "optical system ⬅️ optical system :  ✅\n"
     ]
    },
    {
     "name": "stderr",
     "output_type": "stream",
     "text": [
      "en.wikipedia.org (parse) test pattern\n",
      "en.wikipedia.org (parse) test pattern\n",
      "en.wikipedia.org (parse) test pattern\n",
      "en.wikipedia.org (parse) test pattern\n"
     ]
    },
    {
     "name": "stdout",
     "output_type": "stream",
     "text": [
      "test pattern ⬅️ test pattern :  ✅\n"
     ]
    },
    {
     "name": "stderr",
     "output_type": "stream",
     "text": [
      "en.wikipedia.org (parse) optical system\n",
      "en.wikipedia.org (parse) optical system\n",
      "en.wikipedia.org (parse) optical system\n",
      "en.wikipedia.org (parse) optical system\n"
     ]
    },
    {
     "name": "stdout",
     "output_type": "stream",
     "text": [
      "optical system ⬅️ optical system :  ✅\n"
     ]
    },
    {
     "name": "stderr",
     "output_type": "stream",
     "text": [
      "en.wikipedia.org (parse) color schemes\n",
      "en.wikipedia.org (parse) color scheme\n",
      "en.wikipedia.org (parse) color schemes\n",
      "en.wikipedia.org (parse) color scheme\n"
     ]
    },
    {
     "name": "stdout",
     "output_type": "stream",
     "text": [
      "color schemes ⬅️ color scheme :  ✅\n"
     ]
    },
    {
     "name": "stderr",
     "output_type": "stream",
     "text": [
      "en.wikipedia.org (parse) digital image\n",
      "en.wikipedia.org (parse) the computer\n",
      "en.wikipedia.org (parse) digital image\n",
      "en.wikipedia.org (parse) the computer\n"
     ]
    },
    {
     "name": "stdout",
     "output_type": "stream",
     "text": [
      "digital image ⬅️ the computer :  ❌\n"
     ]
    },
    {
     "name": "stderr",
     "output_type": "stream",
     "text": [
      "en.wikipedia.org (parse) digital image\n",
      "en.wikipedia.org (parse) the computer\n",
      "en.wikipedia.org (parse) digital image\n",
      "en.wikipedia.org (parse) the computer\n"
     ]
    },
    {
     "name": "stdout",
     "output_type": "stream",
     "text": [
      "Could not find Wikidata item for `the computer`\n",
      "digital image ⬅️ the computer :  ⚠️\n"
     ]
    },
    {
     "name": "stderr",
     "output_type": "stream",
     "text": [
      "en.wikipedia.org (parse) image sensor\n",
      "en.wikipedia.org (parse) complementary metal oxide semiconductor\n",
      "en.wikipedia.org (parse) image sensor\n",
      "en.wikipedia.org (parse) complementary metal oxide semiconductor\n"
     ]
    },
    {
     "name": "stdout",
     "output_type": "stream",
     "text": [
      "image sensor ⬅️ complementary metal oxide semiconductor :  ❌\n"
     ]
    },
    {
     "name": "stderr",
     "output_type": "stream",
     "text": [
      "en.wikipedia.org (parse) text processing\n",
      "en.wikipedia.org (parse) optical character recognition\n",
      "en.wikipedia.org (parse) text processing\n",
      "en.wikipedia.org (parse) optical character recognition\n"
     ]
    },
    {
     "name": "stdout",
     "output_type": "stream",
     "text": [
      "text processing ⬅️ optical character recognition :  ❌\n"
     ]
    },
    {
     "name": "stderr",
     "output_type": "stream",
     "text": [
      "en.wikipedia.org (parse) text field\n",
      "en.wikipedia.org (parse) text field\n",
      "en.wikipedia.org (parse) text field\n",
      "en.wikipedia.org (parse) text field\n"
     ]
    },
    {
     "name": "stdout",
     "output_type": "stream",
     "text": [
      "text field ⬅️ text field :  ✅\n"
     ]
    }
   ],
   "source": [
    "# iterate throw homonyms_df\n",
    "wikidata_results = []\n",
    "for index, row in tqdm(homonyms_df.iterrows()):\n",
    "    if row[\"label\"] == -1:\n",
    "        parent = row['word1']\n",
    "        subclass = row['word2']\n",
    "    else:\n",
    "        parent = row['word2']\n",
    "        subclass = row['word1']\n",
    "\n",
    "    res = wikidata_is_subclass(parent, subclass)\n",
    "    wikidata_results.append(res)\n",
    "    print(parent, \"⬅️\", subclass, \": \",wikidata_is_subclass(parent, subclass))\n"
   ]
  },
  {
   "cell_type": "markdown",
   "id": "e8b9e9fe",
   "metadata": {},
   "source": [
    "Add results to the dataframe"
   ]
  },
  {
   "cell_type": "code",
   "execution_count": null,
   "id": "acb34a26",
   "metadata": {},
   "outputs": [],
   "source": [
    "homonyms_df['wikidata_is_subclass'] = wikidata_results"
   ]
  },
  {
   "cell_type": "code",
   "execution_count": null,
   "id": "ef0c48d4",
   "metadata": {},
   "outputs": [],
   "source": [
    "homonyms_df"
   ]
  },
  {
   "cell_type": "markdown",
   "id": "0b2d0ab0",
   "metadata": {},
   "source": [
    "#### Process table"
   ]
  },
  {
   "cell_type": "code",
   "execution_count": null,
   "id": "512d17c4",
   "metadata": {},
   "outputs": [],
   "source": [
    "# create columns wordnet_is_subclass, fill with \"⚠️\" if not 0 or np.nan, otherwise fill with \"✅\" if wordnet_distance > 0.7, otherwise fill with \"❌\"\n",
    "homonyms_df['wordnet_is_subclass'] = homonyms_df['wordnet_distance'].apply(lambda x: \"⚠️\" if x == 0 or np.isnan(x) else \"✅\" if x > 0.7 else \"❌\")\n",
    "\n",
    "# do the same for spacy\n",
    "homonyms_df['spacy_is_subclass'] = homonyms_df['spacy_distance'].apply(lambda x: \"⚠️\" if x == 0 or np.isnan(x) else \"✅\" if x > 0.3 else \"❌\")\n",
    "\n",
    "\n",
    "homonyms_df"
   ]
  },
  {
   "cell_type": "code",
   "execution_count": null,
   "id": "a40bf4cc",
   "metadata": {},
   "outputs": [],
   "source": [
    "homonyms_df[[ \"label\", \"word1\", \"word2\", \"wordnet_is_subclass\", \"spacy_is_subclass\", \"wikidata_is_subclass\"]].to_csv(\"./homonyms_results.csv\", index=False)"
   ]
  },
  {
   "cell_type": "code",
   "execution_count": null,
   "id": "a7d553a1",
   "metadata": {},
   "outputs": [],
   "source": [
    "homonyms_df[[\"label\", \"word1\", \"word2\",  \"wordnet_distance\", \"spacy_distance\", \"wordnet_is_subclass\", \"spacy_is_subclass\", \"wikidata_is_subclass\"]].to_csv(\"./homonyms_results_detailed.csv\", index=False)"
   ]
  },
  {
   "cell_type": "code",
   "execution_count": null,
   "id": "f1985d06",
   "metadata": {},
   "outputs": [],
   "source": []
  }
 ],
 "metadata": {
  "interpreter": {
   "hash": "699871839e1c28f0580e7fc2e38fa027ae9eff10cc3ccb1dbb0c1a4aca421727"
  },
  "kernelspec": {
   "display_name": "uni-env",
   "language": "python",
   "name": "python3"
  },
  "language_info": {
   "codemirror_mode": {
    "name": "ipython",
    "version": 3
   },
   "file_extension": ".py",
   "mimetype": "text/x-python",
   "name": "python",
   "nbconvert_exporter": "python",
   "pygments_lexer": "ipython3",
   "version": "3.9.12"
  }
 },
 "nbformat": 4,
 "nbformat_minor": 5
}
