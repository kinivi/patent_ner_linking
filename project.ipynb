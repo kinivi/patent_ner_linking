{
 "cells": [
  {
   "cell_type": "markdown",
   "id": "604a1483-2ecb-444d-8ffc-802648c34911",
   "metadata": {},
   "source": [
    "# Information Retrieval project 2022"
   ]
  },
  {
   "cell_type": "markdown",
   "id": "f8ec106c",
   "metadata": {},
   "source": [
    "## 🧑‍🎓 Names\n",
    "+ Mashra Marwan\n",
    "+ Kiselov Nikita\n",
    "+ Serré Gaëtan"
   ]
  },
  {
   "cell_type": "markdown",
   "id": "1072fe45",
   "metadata": {},
   "source": [
    "## Imports"
   ]
  },
  {
   "cell_type": "code",
   "execution_count": 25,
   "id": "c48f9c4b-cdb4-4eab-aae2-3f4c6f81793f",
   "metadata": {},
   "outputs": [
    {
     "name": "stderr",
     "output_type": "stream",
     "text": [
      "[nltk_data] Downloading package wordnet to /Users/nkise/nltk_data...\n",
      "[nltk_data]   Package wordnet is already up-to-date!\n",
      "[nltk_data] Downloading package omw-1.4 to /Users/nkise/nltk_data...\n",
      "[nltk_data]   Package omw-1.4 is already up-to-date!\n"
     ]
    },
    {
     "data": {
      "text/plain": [
       "'3.2.4'"
      ]
     },
     "execution_count": 25,
     "metadata": {},
     "output_type": "execute_result"
    }
   ],
   "source": [
    "import sys\n",
    "import time\n",
    "import json\n",
    "import pprint\n",
    "import numpy as np\n",
    "import pandas as pd\n",
    "from tqdm.notebook import tqdm\n",
    "from sklearn.model_selection import train_test_split\n",
    "from sklearn.feature_extraction.text import CountVectorizer\n",
    "import spacy\n",
    "from spacy.matcher import PhraseMatcher, Matcher\n",
    "from spacy.util import filter_spans\n",
    "from spacy import displacy\n",
    "from spacy.tokens import DocBin\n",
    "from spacy.tokens import Span\n",
    "from collections import Counter\n",
    "from nltk.tokenize import MWETokenizer\n",
    "from nltk.util import Trie\n",
    "import nltk\n",
    "from nltk.corpus import wordnet as wn\n",
    "nltk.download('wordnet')\n",
    "nltk.download('omw-1.4')\n",
    "tqdm.pandas()\n",
    "spacy.__version__\n"
   ]
  },
  {
   "cell_type": "markdown",
   "id": "d4f564de",
   "metadata": {},
   "source": [
    "Our first goal here is to create a model capable of recognizing the term in our patents. For that, we will be using a Named Entity Recognition model given by `spacy`."
   ]
  },
  {
   "cell_type": "markdown",
   "id": "8632e188",
   "metadata": {},
   "source": [
    "## 🗃️ Read and preprocess data"
   ]
  },
  {
   "cell_type": "code",
   "execution_count": 26,
   "id": "fb325a64-2f8b-4f2f-aae8-be361087e045",
   "metadata": {},
   "outputs": [],
   "source": [
    "# if you've already unzipped the file\n",
    "patent_data = open('G06K.txt').read().strip()\n",
    "\n",
    "# split into patents texts | 1 entry = 1 patent\n",
    "patent_texts = patent_data.split('\\n\\n')\n",
    "\n",
    "# split each patent into lines\n",
    "patent_lines = patent_data.split('\\n')\n"
   ]
  },
  {
   "cell_type": "markdown",
   "id": "81139208",
   "metadata": {},
   "source": [
    "## 👀 Extract features"
   ]
  },
  {
   "cell_type": "code",
   "execution_count": 27,
   "id": "e9f35b92",
   "metadata": {},
   "outputs": [
    {
     "name": "stdout",
     "output_type": "stream",
     "text": [
      "['antonio superchi', 'antonio tarver', 'antonio torres jurado', 'antonio valdes', 'antonio valdes y fernandez bazan', 'antonio valdez', 'antonio valdés y bazán', 'antonio valdés y fernández bazán', 'antonio valente', 'antonio vitali', 'antonio vivaldi', 'antonio xavier machado e cerveira']\n",
      "743274 mwes\n"
     ]
    }
   ],
   "source": [
    "# here are the potential terms\n",
    "mwes = open('manyterms.lower.txt').read().lower().strip().split('\\n')\n",
    "print(mwes[44444:44456])\n",
    "print(len(mwes), 'mwes')\n"
   ]
  },
  {
   "cell_type": "markdown",
   "id": "c8543e66",
   "metadata": {},
   "source": [
    "### We extract the terms from our patents using manyterms"
   ]
  },
  {
   "cell_type": "code",
   "execution_count": 4,
   "id": "8db03d6b",
   "metadata": {},
   "outputs": [
    {
     "name": "stderr",
     "output_type": "stream",
     "text": [
      "/Users/nkise/miniforge3/envs/uni-env/lib/python3.9/site-packages/sklearn/feature_extraction/text.py:1322: UserWarning: Upper case characters found in vocabulary while 'lowercase' is True. These entries will not be matched with any documents\n",
      "  warnings.warn(\n",
      "/Users/nkise/miniforge3/envs/uni-env/lib/python3.9/site-packages/sklearn/utils/deprecation.py:87: FutureWarning: Function get_feature_names is deprecated; get_feature_names is deprecated in 1.0 and will be removed in 1.2. Please use get_feature_names_out instead.\n",
      "  warnings.warn(msg, category=FutureWarning)\n"
     ]
    },
    {
     "data": {
      "text/html": [
       "<div>\n",
       "<style scoped>\n",
       "    .dataframe tbody tr th:only-of-type {\n",
       "        vertical-align: middle;\n",
       "    }\n",
       "\n",
       "    .dataframe tbody tr th {\n",
       "        vertical-align: top;\n",
       "    }\n",
       "\n",
       "    .dataframe thead th {\n",
       "        text-align: right;\n",
       "    }\n",
       "</style>\n",
       "<table border=\"1\" class=\"dataframe\">\n",
       "  <thead>\n",
       "    <tr style=\"text-align: right;\">\n",
       "      <th></th>\n",
       "      <th>0</th>\n",
       "    </tr>\n",
       "  </thead>\n",
       "  <tbody>\n",
       "    <tr>\n",
       "      <th>electronic device</th>\n",
       "      <td>16280</td>\n",
       "    </tr>\n",
       "    <tr>\n",
       "      <th>image processing</th>\n",
       "      <td>12224</td>\n",
       "    </tr>\n",
       "    <tr>\n",
       "      <th>control unit</th>\n",
       "      <td>9263</td>\n",
       "    </tr>\n",
       "    <tr>\n",
       "      <th>mobile terminal</th>\n",
       "      <td>9165</td>\n",
       "    </tr>\n",
       "    <tr>\n",
       "      <th>information processing</th>\n",
       "      <td>7732</td>\n",
       "    </tr>\n",
       "    <tr>\n",
       "      <th>neural network</th>\n",
       "      <td>6734</td>\n",
       "    </tr>\n",
       "    <tr>\n",
       "      <th>user interface</th>\n",
       "      <td>6177</td>\n",
       "    </tr>\n",
       "    <tr>\n",
       "      <th>computer readable</th>\n",
       "      <td>6103</td>\n",
       "    </tr>\n",
       "    <tr>\n",
       "      <th>fingerprint sensor</th>\n",
       "      <td>5980</td>\n",
       "    </tr>\n",
       "    <tr>\n",
       "      <th>display device</th>\n",
       "      <td>5666</td>\n",
       "    </tr>\n",
       "    <tr>\n",
       "      <th>light source</th>\n",
       "      <td>5014</td>\n",
       "    </tr>\n",
       "    <tr>\n",
       "      <th>block diagram</th>\n",
       "      <td>4597</td>\n",
       "    </tr>\n",
       "    <tr>\n",
       "      <th>image sensor</th>\n",
       "      <td>4421</td>\n",
       "    </tr>\n",
       "    <tr>\n",
       "      <th>computing device</th>\n",
       "      <td>4407</td>\n",
       "    </tr>\n",
       "    <tr>\n",
       "      <th>road surface</th>\n",
       "      <td>4398</td>\n",
       "    </tr>\n",
       "    <tr>\n",
       "      <th>storage medium</th>\n",
       "      <td>4377</td>\n",
       "    </tr>\n",
       "    <tr>\n",
       "      <th>fingerprint recognition</th>\n",
       "      <td>3848</td>\n",
       "    </tr>\n",
       "    <tr>\n",
       "      <th>machine learning</th>\n",
       "      <td>3778</td>\n",
       "    </tr>\n",
       "    <tr>\n",
       "      <th>control device</th>\n",
       "      <td>3714</td>\n",
       "    </tr>\n",
       "    <tr>\n",
       "      <th>point cloud</th>\n",
       "      <td>3713</td>\n",
       "    </tr>\n",
       "    <tr>\n",
       "      <th>threshold value</th>\n",
       "      <td>3705</td>\n",
       "    </tr>\n",
       "    <tr>\n",
       "      <th>data processing</th>\n",
       "      <td>3366</td>\n",
       "    </tr>\n",
       "    <tr>\n",
       "      <th>real time</th>\n",
       "      <td>3353</td>\n",
       "    </tr>\n",
       "    <tr>\n",
       "      <th>wireless communication</th>\n",
       "      <td>3338</td>\n",
       "    </tr>\n",
       "    <tr>\n",
       "      <th>computer program</th>\n",
       "      <td>3206</td>\n",
       "    </tr>\n",
       "  </tbody>\n",
       "</table>\n",
       "</div>"
      ],
      "text/plain": [
       "                             0\n",
       "electronic device        16280\n",
       "image processing         12224\n",
       "control unit              9263\n",
       "mobile terminal           9165\n",
       "information processing    7732\n",
       "neural network            6734\n",
       "user interface            6177\n",
       "computer readable         6103\n",
       "fingerprint sensor        5980\n",
       "display device            5666\n",
       "light source              5014\n",
       "block diagram             4597\n",
       "image sensor              4421\n",
       "computing device          4407\n",
       "road surface              4398\n",
       "storage medium            4377\n",
       "fingerprint recognition   3848\n",
       "machine learning          3778\n",
       "control device            3714\n",
       "point cloud               3713\n",
       "threshold value           3705\n",
       "data processing           3366\n",
       "real time                 3353\n",
       "wireless communication    3338\n",
       "computer program          3206"
      ]
     },
     "execution_count": 4,
     "metadata": {},
     "output_type": "execute_result"
    }
   ],
   "source": [
    "# Here lowercase=False option is used to keep the original case of the terms, since we possibly could have term abbreviations. Like API, CAT, etc.\n",
    "cvectorizer = CountVectorizer(ngram_range=(\n",
    "    1, 4), stop_words=\"english\", vocabulary=mwes, lowercase=True)\n",
    "X = cvectorizer.fit_transform(patent_texts)\n",
    "\n",
    "# Show top-25 most frequent terms\n",
    "termdf_cv = pd.DataFrame(np.sum(X, axis=0), columns=cvectorizer.get_feature_names(\n",
    ")).T.sort_values(by=0, ascending=False)\n",
    "termdf_cv.head(25)\n"
   ]
  },
  {
   "cell_type": "markdown",
   "id": "865bc096",
   "metadata": {},
   "source": [
    "## 🪄 SpaCy NER"
   ]
  },
  {
   "cell_type": "markdown",
   "id": "040a3849",
   "metadata": {},
   "source": [
    "Let's start from understanding. Here is an example of showing part of text on one patent with default NER."
   ]
  },
  {
   "cell_type": "code",
   "execution_count": 5,
   "id": "094a3dd9",
   "metadata": {},
   "outputs": [
    {
     "data": {
      "text/html": [
       "<span class=\"tex2jax_ignore\"><div class=\"entities\" style=\"line-height: 2.5; direction: ltr\"> PC \n",
       "<mark class=\"entity\" style=\"background: #e4e7d2; padding: 0.45em 0.6em; margin: 0 0.25em; line-height: 1; border-radius: 0.35em;\">\n",
       "    503\n",
       "    <span style=\"font-size: 0.8em; font-weight: bold; line-height: 1; border-radius: 0.35em; vertical-align: middle; margin-left: 0.5rem\">CARDINAL</span>\n",
       "</mark>\n",
       " are \n",
       "<mark class=\"entity\" style=\"background: #e4e7d2; padding: 0.45em 0.6em; margin: 0 0.25em; line-height: 1; border-radius: 0.35em;\">\n",
       "    one\n",
       "    <span style=\"font-size: 0.8em; font-weight: bold; line-height: 1; border-radius: 0.35em; vertical-align: middle; margin-left: 0.5rem\">CARDINAL</span>\n",
       "</mark>\n",
       " example of the communication device and may also be other various devices such as, for example, a smart phone, a camera, a digital television set, various digital consumer electronics, and a wearable device.</br>It should be noted that the setting device is \n",
       "<mark class=\"entity\" style=\"background: #e4e7d2; padding: 0.45em 0.6em; margin: 0 0.25em; line-height: 1; border-radius: 0.35em;\">\n",
       "    one\n",
       "    <span style=\"font-size: 0.8em; font-weight: bold; line-height: 1; border-radius: 0.35em; vertical-align: middle; margin-left: 0.5rem\">CARDINAL</span>\n",
       "</mark>\n",
       " type of the communication device, but according to the present embodiment, a communication device provided with a function for obtaining a public key of another communication device by a specific obtaining method that does not use the wireless \n",
       "<mark class=\"entity\" style=\"background: #7aecec; padding: 0.45em 0.6em; margin: 0 0.25em; line-height: 1; border-radius: 0.35em;\">\n",
       "    LAN\n",
       "    <span style=\"font-size: 0.8em; font-weight: bold; line-height: 1; border-radius: 0.35em; vertical-align: middle; margin-left: 0.5rem\">ORG</span>\n",
       "</mark>\n",
       " will be referred to as a setting device to be distinguished from the communication device that is not provided with such a function. On the other hand, a communication device that is not provided with such a function will be simply referred to as a communication device. As described above, according to the present embodiment, the smart phone \n",
       "<mark class=\"entity\" style=\"background: #e4e7d2; padding: 0.45em 0.6em; margin: 0 0.25em; line-height: 1; border-radius: 0.35em;\">\n",
       "    501\n",
       "    <span style=\"font-size: 0.8em; font-weight: bold; line-height: 1; border-radius: 0.35em; vertical-align: middle; margin-left: 0.5rem\">CARDINAL</span>\n",
       "</mark>\n",
       " is \n",
       "<mark class=\"entity\" style=\"background: #e4e7d2; padding: 0.45em 0.6em; margin: 0 0.25em; line-height: 1; border-radius: 0.35em;\">\n",
       "    one\n",
       "    <span style=\"font-size: 0.8em; font-weight: bold; line-height: 1; border-radius: 0.35em; vertical-align: middle; margin-left: 0.5rem\">CARDINAL</span>\n",
       "</mark>\n",
       " example of the setting device, and the printer \n",
       "<mark class=\"entity\" style=\"background: #e4e7d2; padding: 0.45em 0.6em; margin: 0 0.25em; line-height: 1; border-radius: 0.35em;\">\n",
       "    502\n",
       "    <span style=\"font-size: 0.8em; font-weight: bold; line-height: 1; border-radius: 0.35em; vertical-align: middle; margin-left: 0.5rem\">CARDINAL</span>\n",
       "</mark>\n",
       " and the laptop PC \n",
       "<mark class=\"entity\" style=\"background: #e4e7d2; padding: 0.45em 0.6em; margin: 0 0.25em; line-height: 1; border-radius: 0.35em;\">\n",
       "    503\n",
       "    <span style=\"font-size: 0.8em; font-weight: bold; line-height: 1; border-radius: 0.35em; vertical-align: middle; margin-left: 0.5rem\">CARDINAL</span>\n",
       "</mark>\n",
       " are \n",
       "<mark class=\"entity\" style=\"background: #e4e7d2; padding: 0.45em 0.6em; margin: 0 0.25em; line-height: 1; border-radius: 0.35em;\">\n",
       "    one\n",
       "    <span style=\"font-size: 0.8em; font-weight: bold; line-height: 1; border-radius: 0.35em; vertical-align: middle; margin-left: 0.5rem\">CARDINAL</span>\n",
       "</mark>\n",
       " example of the communication device. In addition, according to the present embodiment, the public key obtaining method using the QR code is an example of the above-described particular obtaining method. In this case, a function for reading the QR code is an example of a function for obtaining the public key of the other communication device by the particular obtaining method. Other examples of the particular obtaining method may also be \n",
       "<mark class=\"entity\" style=\"background: #7aecec; padding: 0.45em 0.6em; margin: 0 0.25em; line-height: 1; border-radius: 0.35em;\">\n",
       "    NFC\n",
       "    <span style=\"font-size: 0.8em; font-weight: bold; line-height: 1; border-radius: 0.35em; vertical-align: middle; margin-left: 0.5rem\">ORG</span>\n",
       "</mark>\n",
       ", \n",
       "<mark class=\"entity\" style=\"background: #7aecec; padding: 0.45em 0.6em; margin: 0 0.25em; line-height: 1; border-radius: 0.35em;\">\n",
       "    Bluetooth\n",
       "    <span style=\"font-size: 0.8em; font-weight: bold; line-height: 1; border-radius: 0.35em; vertical-align: middle; margin-left: 0.5rem\">ORG</span>\n",
       "</mark>\n",
       " (registered trademark), or a wireless communication other than the wireless \n",
       "<mark class=\"entity\" style=\"background: #7aecec; padding: 0.45em 0.6em; margin: 0 0.25em; line-height: 1; border-radius: 0.35em;\">\n",
       "    LAN\n",
       "    <span style=\"font-size: 0.8em; font-weight: bold; line-height: 1; border-radius: 0.35em; vertical-align: middle; margin-left: 0.5rem\">ORG</span>\n",
       "</mark>\n",
       ". In this case, an example of the function for obtaining the public key of the other communication device by the particular obtaining method includes an \n",
       "<mark class=\"entity\" style=\"background: #7aecec; padding: 0.45em 0.6em; margin: 0 0.25em; line-height: 1; border-radius: 0.35em;\">\n",
       "    NFC\n",
       "    <span style=\"font-size: 0.8em; font-weight: bold; line-height: 1; border-radius: 0.35em; vertical-align: middle; margin-left: 0.5rem\">ORG</span>\n",
       "</mark>\n",
       " reader/writer function.</br>According to the present embodiment, the smart phone \n",
       "<mark class=\"entity\" style=\"background: #e4e7d2; padding: 0.45em 0.6em; margin: 0 0.25em; line-height: 1; border-radius: 0.35em;\">\n",
       "    501\n",
       "    <span style=\"font-size: 0.8em; font-weight: bold; line-height: 1; border-radius: 0.35em; vertical-align: middle; margin-left: 0.5rem\">CARDINAL</span>\n",
       "</mark>\n",
       " serving as the setting device has the configuration of \n",
       "<mark class=\"entity\" style=\"background: #7aecec; padding: 0.45em 0.6em; margin: 0 0.25em; line-height: 1; border-radius: 0.35em;\">\n",
       "    Fig\n",
       "    <span style=\"font-size: 0.8em; font-weight: bold; line-height: 1; border-radius: 0.35em; vertical-align: middle; margin-left: 0.5rem\">ORG</span>\n",
       "</mark>\n",
       ". \n",
       "<mark class=\"entity\" style=\"background: #e4e7d2; padding: 0.45em 0.6em; margin: 0 0.25em; line-height: 1; border-radius: 0.35em;\">\n",
       "    1\n",
       "    <span style=\"font-size: 0.8em; font-weight: bold; line-height: 1; border-radius: 0.35em; vertical-align: middle; margin-left: 0.5rem\">CARDINAL</span>\n",
       "</mark>\n",
       " and \n",
       "<mark class=\"entity\" style=\"background: #7aecec; padding: 0.45em 0.6em; margin: 0 0.25em; line-height: 1; border-radius: 0.35em;\">\n",
       "    Fig\n",
       "    <span style=\"font-size: 0.8em; font-weight: bold; line-height: 1; border-radius: 0.35em; vertical-align: middle; margin-left: 0.5rem\">ORG</span>\n",
       "</mark>\n",
       ". \n",
       "<mark class=\"entity\" style=\"background: #e4e7d2; padding: 0.45em 0.6em; margin: 0 0.25em; line-height: 1; border-radius: 0.35em;\">\n",
       "    3\n",
       "    <span style=\"font-size: 0.8em; font-weight: bold; line-height: 1; border-radius: 0.35em; vertical-align: middle; margin-left: 0.5rem\">CARDINAL</span>\n",
       "</mark>\n",
       " described before. In addition, the printer \n",
       "<mark class=\"entity\" style=\"background: #e4e7d2; padding: 0.45em 0.6em; margin: 0 0.25em; line-height: 1; border-radius: 0.35em;\">\n",
       "    502\n",
       "    <span style=\"font-size: 0.8em; font-weight: bold; line-height: 1; border-radius: 0.35em; vertical-align: middle; margin-left: 0.5rem\">CARDINAL</span>\n",
       "</mark>\n",
       " and the laptop PC \n",
       "<mark class=\"entity\" style=\"background: #e4e7d2; padding: 0.45em 0.6em; margin: 0 0.25em; line-height: 1; border-radius: 0.35em;\">\n",
       "    503\n",
       "    <span style=\"font-size: 0.8em; font-weight: bold; line-height: 1; border-radius: 0.35em; vertical-align: middle; margin-left: 0.5rem\">CARDINAL</span>\n",
       "</mark>\n",
       " serving as the communication device have the configuration of \n",
       "<mark class=\"entity\" style=\"background: #7aecec; padding: 0.45em 0.6em; margin: 0 0.25em; line-height: 1; border-radius: 0.35em;\">\n",
       "    Fig\n",
       "    <span style=\"font-size: 0.8em; font-weight: bold; line-height: 1; border-radius: 0.35em; vertical-align: middle; margin-left: 0.5rem\">ORG</span>\n",
       "</mark>\n",
       ". \n",
       "<mark class=\"entity\" style=\"background: #e4e7d2; padding: 0.45em 0.6em; margin: 0 0.25em; line-height: 1; border-radius: 0.35em;\">\n",
       "    2\n",
       "    <span style=\"font-size: 0.8em; font-weight: bold; line-height: 1; border-radius: 0.35em; vertical-align: middle; margin-left: 0.5rem\">CARDINAL</span>\n",
       "</mark>\n",
       " and \n",
       "<mark class=\"entity\" style=\"background: #7aecec; padding: 0.45em 0.6em; margin: 0 0.25em; line-height: 1; border-radius: 0.35em;\">\n",
       "    Fig\n",
       "    <span style=\"font-size: 0.8em; font-weight: bold; line-height: 1; border-radius: 0.35em; vertical-align: middle; margin-left: 0.5rem\">ORG</span>\n",
       "</mark>\n",
       ". \n",
       "<mark class=\"entity\" style=\"background: #e4e7d2; padding: 0.45em 0.6em; margin: 0 0.25em; line-height: 1; border-radius: 0.35em;\">\n",
       "    4\n",
       "    <span style=\"font-size: 0.8em; font-weight: bold; line-height: 1; border-radius: 0.35em; vertical-align: middle; margin-left: 0.5rem\">CARDINAL</span>\n",
       "</mark>\n",
       " described before.</br>Fig. \n",
       "<mark class=\"entity\" style=\"background: #e4e7d2; padding: 0.45em 0.6em; margin: 0 0.25em; line-height: 1; border-radius: 0.35em;\">\n",
       "    6\n",
       "    <span style=\"font-size: 0.8em; font-weight: bold; line-height: 1; border-radius: 0.35em; vertical-align: middle; margin-left: 0.5rem\">CARDINAL</span>\n",
       "</mark>\n",
       " is a flow chart illust</div></span>"
      ],
      "text/plain": [
       "<IPython.core.display.HTML object>"
      ]
     },
     "metadata": {},
     "output_type": "display_data"
    }
   ],
   "source": [
    "nlp = spacy.load(\"en_core_web_lg\")\n",
    "doc = nlp(patent_texts[0][18000:20000])\n",
    "displacy.render(doc, style=\"ent\", jupyter=True)\n"
   ]
  },
  {
   "cell_type": "markdown",
   "id": "bedc4869",
   "metadata": {},
   "source": [
    "We want to create a such model capable of recognizing the terms that are in the context of our patents. For that, we need to create a dataset and we will be using `manyterms` as a terms database."
   ]
  },
  {
   "cell_type": "markdown",
   "id": "4a11a5c7",
   "metadata": {},
   "source": [
    "### Create DataSet"
   ]
  },
  {
   "cell_type": "markdown",
   "id": "d96e5ed8",
   "metadata": {},
   "source": [
    "We need to create propper dataset that is compatible with SpaCy 3.0 to train a NER model."
   ]
  },
  {
   "cell_type": "code",
   "execution_count": 6,
   "id": "03ee5a59",
   "metadata": {},
   "outputs": [],
   "source": [
    "matcher = PhraseMatcher(nlp.vocab, attr=\"LOWER\")\n",
    "patterns = [nlp.make_doc(text) for text in termdf_cv.index]\n",
    "matcher.add(\"Tech\", patterns)\n"
   ]
  },
  {
   "cell_type": "code",
   "execution_count": 7,
   "id": "03304083",
   "metadata": {},
   "outputs": [],
   "source": [
    "train_lines, test_lines = train_test_split(\n",
    "    patent_lines, test_size=0.3, random_state=42)\n"
   ]
  },
  {
   "cell_type": "markdown",
   "id": "425e8ccf",
   "metadata": {},
   "source": [
    "We are using PharsesMatcher to find entities similar to one from mayterms.txt  \n",
    "Then Span is labeled and saved into the binary `.spacy` format"
   ]
  },
  {
   "cell_type": "code",
   "execution_count": 8,
   "id": "466965e2",
   "metadata": {},
   "outputs": [],
   "source": [
    "def create_dataset(text, n_lines, filename, offset=0):\n",
    "    LABEL = \"TECH\"\n",
    "    doc_bin = DocBin()  # create a DocBin object\n",
    "\n",
    "    for training_example in tqdm(text[offset:offset+n_lines]):\n",
    "        doc = nlp.make_doc(training_example)\n",
    "        ents = []\n",
    "\n",
    "        for match_id, start, end in matcher(doc):\n",
    "            span = Span(doc, start, end, label=LABEL)\n",
    "            if span is None:\n",
    "                print(\"Skipping entity\")\n",
    "            else:\n",
    "                ents.append(span)\n",
    "\n",
    "        filtered_ents = filter_spans(ents)\n",
    "        doc.ents = filtered_ents\n",
    "        doc_bin.add(doc)\n",
    "    doc_bin.to_disk(filename)\n"
   ]
  },
  {
   "cell_type": "markdown",
   "id": "d8236397",
   "metadata": {},
   "source": [
    "Uncomment to re-save the dataset:"
   ]
  },
  {
   "cell_type": "code",
   "execution_count": 9,
   "id": "61472477",
   "metadata": {},
   "outputs": [
    {
     "data": {
      "application/vnd.jupyter.widget-view+json": {
       "model_id": "ed40583115c64e738e6de2441d1f4368",
       "version_major": 2,
       "version_minor": 0
      },
      "text/plain": [
       "  0%|          | 0/40000 [00:00<?, ?it/s]"
      ]
     },
     "metadata": {},
     "output_type": "display_data"
    },
    {
     "data": {
      "application/vnd.jupyter.widget-view+json": {
       "model_id": "4188f55ae26e42248df6ee7b10f5ba4c",
       "version_major": 2,
       "version_minor": 0
      },
      "text/plain": [
       "  0%|          | 0/12000 [00:00<?, ?it/s]"
      ]
     },
     "metadata": {},
     "output_type": "display_data"
    }
   ],
   "source": [
    "# create_dataset(train_lines, 40_000, \"training_data.spacy\")\n",
    "# create_dataset(test_lines, 12_000, \"valid_data.spacy\")"
   ]
  },
  {
   "cell_type": "markdown",
   "id": "382425f8",
   "metadata": {},
   "source": [
    "Now that our datasets are created, we can train a spacy NER model."
   ]
  },
  {
   "cell_type": "markdown",
   "id": "78cb93f6",
   "metadata": {},
   "source": [
    "### Train the model"
   ]
  },
  {
   "cell_type": "markdown",
   "id": "f5578e31",
   "metadata": {},
   "source": [
    "Donwnload __base_config.cfg__ for your system at https://spacy.io/usage/training#quickstart"
   ]
  },
  {
   "cell_type": "code",
   "execution_count": 10,
   "id": "e3cd8a81",
   "metadata": {},
   "outputs": [
    {
     "name": "stdout",
     "output_type": "stream",
     "text": [
      "\u001b[38;5;2m✔ Auto-filled config with all values\u001b[0m\n",
      "\u001b[38;5;2m✔ Saved config\u001b[0m\n",
      "config.cfg\n",
      "You can now add your data and train your pipeline:\n",
      "python -m spacy train config.cfg --paths.train ./train.spacy --paths.dev ./dev.spacy\n"
     ]
    }
   ],
   "source": [
    "# Run to generate full training config\n",
    "# !python -m spacy init fill-config base_config.cfg config.cfg\n"
   ]
  },
  {
   "cell_type": "markdown",
   "id": "aba2d3df",
   "metadata": {},
   "source": [
    "Run the training. The best and last model will be stored into __./spacy_output__  "
   ]
  },
  {
   "cell_type": "code",
   "execution_count": 11,
   "id": "9ae2949c",
   "metadata": {},
   "outputs": [],
   "source": [
    "# !python -m spacy train config.cfg --output ./spacy_output --paths.train ./training_data.spacy --paths.dev ./valid_data.spacy --gpu-id 0\n"
   ]
  },
  {
   "cell_type": "markdown",
   "id": "6df35c0b",
   "metadata": {},
   "source": [
    "### 💻 Load pre-trained model"
   ]
  },
  {
   "cell_type": "code",
   "execution_count": 13,
   "id": "f5e23c95",
   "metadata": {},
   "outputs": [
    {
     "name": "stdout",
     "output_type": "stream",
     "text": [
      "Updated git hooks.\n",
      "Git LFS initialized.\n",
      "fatal: destination path 'ner_patent_g06k' already exists and is not an empty directory.\n"
     ]
    }
   ],
   "source": [
    "!git lfs install\n",
    "!git clone https://huggingface.co/kinivi/ner_patent_g06k"
   ]
  },
  {
   "cell_type": "markdown",
   "id": "6df35c0b",
   "metadata": {},
   "source": [
    "### Test the model"
   ]
  },
  {
   "cell_type": "code",
   "execution_count": 5,
   "id": "d3374131",
   "metadata": {},
   "outputs": [
    {
     "name": "stderr",
     "output_type": "stream",
     "text": [
      "/Users/nkise/miniforge3/envs/uni-env/lib/python3.9/site-packages/numpy/core/_methods.py:179: RuntimeWarning: overflow encountered in reduce\n",
      "  ret = umr_sum(arr, axis, dtype, out, keepdims, where=where)\n",
      "/Users/nkise/miniforge3/envs/uni-env/lib/python3.9/site-packages/numpy/core/_methods.py:212: RuntimeWarning: overflow encountered in reduce\n",
      "  arrmean = umr_sum(arr, axis, dtype, keepdims=True, where=where)\n",
      "/Users/nkise/miniforge3/envs/uni-env/lib/python3.9/site-packages/numpy/core/_methods.py:235: RuntimeWarning: overflow encountered in multiply\n",
      "  x = um.multiply(x, x, out=x)\n",
      "/Users/nkise/miniforge3/envs/uni-env/lib/python3.9/site-packages/thinc/layers/layernorm.py:26: RuntimeWarning: invalid value encountered in multiply\n",
      "  Xhat = (X - mu) * var ** (-1.0 / 2.0)\n"
     ]
    },
    {
     "data": {
      "text/html": [
       "<span class=\"tex2jax_ignore\"><div class=\"entities\" style=\"line-height: 2.5; direction: ltr\">Wi-Fi Direct (registered trademark, which will be hereinafter referred to as WFD)            corresponding to a technology for directly performing a communication based on a            \n",
       "<mark class=\"entity\" style=\"background: #F67DE3; padding: 0.45em 0.6em; margin: 0 0.25em; line-height: 1; border-radius: 0.35em;\">\n",
       "    wireless LAN\n",
       "    <span style=\"font-size: 0.8em; font-weight: bold; line-height: 1; border-radius: 0.35em; vertical-align: middle; margin-left: 0.5rem\">TECH</span>\n",
       "</mark>\n",
       " between communication devices without intermediation of an access            point (hereinafter referred to as AP) is standardized in Wi-Fi Alliance serving            as a \n",
       "<mark class=\"entity\" style=\"background: #F67DE3; padding: 0.45em 0.6em; margin: 0 0.25em; line-height: 1; border-radius: 0.35em;\">\n",
       "    wireless LAN\n",
       "    <span style=\"font-size: 0.8em; font-weight: bold; line-height: 1; border-radius: 0.35em; vertical-align: middle; margin-left: 0.5rem\">TECH</span>\n",
       "</mark>\n",
       " industry group.</div></span>"
      ],
      "text/plain": [
       "<IPython.core.display.HTML object>"
      ]
     },
     "metadata": {},
     "output_type": "display_data"
    }
   ],
   "source": [
    "nlp = spacy.load(\"./ner_patent_g06k/spacy_output/model-best\")\n",
    "\n",
    "doc = nlp(\"Wi-Fi Direct (registered trademark, which will be hereinafter referred to as WFD) \\\n",
    "           corresponding to a technology for directly performing a communication based on a \\\n",
    "           wireless LAN between communication devices without intermediation of an access \\\n",
    "           point (hereinafter referred to as AP) is standardized in Wi-Fi Alliance serving \\\n",
    "           as a wireless LAN industry group.\")\n",
    "\n",
    "colors = {\"TECH\": \"#F67DE3\"}\n",
    "options = {\"colors\": colors}\n",
    "\n",
    "spacy.displacy.render(doc, style=\"ent\", options=options, jupyter=True)\n"
   ]
  },
  {
   "cell_type": "markdown",
   "id": "f70c4897",
   "metadata": {},
   "source": [
    "In our patents, a lot of terms are abbreviated.\n",
    "For example, `WI-FI Direct` is mentioned as `WFD`, or `P2P Group Owner` as `GO`.\n",
    "\n",
    "Our original model does not recognize these abbreviations and therefore a huge part of the terms are ignored.\n",
    "So we will fine-tune our model using prodigy"
   ]
  },
  {
   "cell_type": "markdown",
   "id": "91010601",
   "metadata": {},
   "source": [
    "## 🦄 Prodigy"
   ]
  },
  {
   "cell_type": "markdown",
   "id": "3dc0db74",
   "metadata": {},
   "source": [
    "We create a train dataset for fine-tuning our ner model."
   ]
  },
  {
   "cell_type": "code",
   "execution_count": null,
   "id": "6da3c3b7",
   "metadata": {},
   "outputs": [],
   "source": [
    "# !prodigy ner.correct fine_tune_g06k2 spacy_output/model-best G06K.txt --loader txt --label TECH\n"
   ]
  },
  {
   "cell_type": "markdown",
   "id": "1d85e743",
   "metadata": {},
   "source": [
    "<img src=img/annotations.png style=\"width: 40%; height:40%\"></img>"
   ]
  },
  {
   "cell_type": "markdown",
   "id": "52543ec3",
   "metadata": {},
   "source": [
    "Now let's fine-tune our model!"
   ]
  },
  {
   "cell_type": "code",
   "execution_count": null,
   "id": "62103584",
   "metadata": {},
   "outputs": [],
   "source": [
    "# !prodigy train ./prodigy_output/ --ner fine_tune_g06k --base-model spacy_output/model-best --gpu-id 0\n"
   ]
  },
  {
   "cell_type": "markdown",
   "id": "412acd95",
   "metadata": {},
   "source": [
    "Now our refined model should recognize better the abbreviations."
   ]
  },
  {
   "cell_type": "code",
   "execution_count": 13,
   "id": "5174e6b1",
   "metadata": {},
   "outputs": [
    {
     "data": {
      "text/html": [
       "<span class=\"tex2jax_ignore\"><div class=\"entities\" style=\"line-height: 2.5; direction: ltr\">According to the \n",
       "<mark class=\"entity\" style=\"background: #F67DE3; padding: 0.45em 0.6em; margin: 0 0.25em; line-height: 1; border-radius: 0.35em;\">\n",
       "    WFD\n",
       "    <span style=\"font-size: 0.8em; font-weight: bold; line-height: 1; border-radius: 0.35em; vertical-align: middle; margin-left: 0.5rem\">TECH</span>\n",
       "</mark>\n",
       ", the communication is performed when one of the            \n",
       "<mark class=\"entity\" style=\"background: #F67DE3; padding: 0.45em 0.6em; margin: 0 0.25em; line-height: 1; border-radius: 0.35em;\">\n",
       "    communication devices\n",
       "    <span style=\"font-size: 0.8em; font-weight: bold; line-height: 1; border-radius: 0.35em; vertical-align: middle; margin-left: 0.5rem\">TECH</span>\n",
       "</mark>\n",
       " that directly perform the \n",
       "<mark class=\"entity\" style=\"background: #F67DE3; padding: 0.45em 0.6em; margin: 0 0.25em; line-height: 1; border-radius: 0.35em;\">\n",
       "    wireless LAN\n",
       "    <span style=\"font-size: 0.8em; font-weight: bold; line-height: 1; border-radius: 0.35em; vertical-align: middle; margin-left: 0.5rem\">TECH</span>\n",
       "</mark>\n",
       " communication            operates as the \n",
       "<mark class=\"entity\" style=\"background: #F67DE3; padding: 0.45em 0.6em; margin: 0 0.25em; line-height: 1; border-radius: 0.35em;\">\n",
       "    AP\n",
       "    <span style=\"font-size: 0.8em; font-weight: bold; line-height: 1; border-radius: 0.35em; vertical-align: middle; margin-left: 0.5rem\">TECH</span>\n",
       "</mark>\n",
       ". According to the \n",
       "<mark class=\"entity\" style=\"background: #F67DE3; padding: 0.45em 0.6em; margin: 0 0.25em; line-height: 1; border-radius: 0.35em;\">\n",
       "    WFD\n",
       "    <span style=\"font-size: 0.8em; font-weight: bold; line-height: 1; border-radius: 0.35em; vertical-align: middle; margin-left: 0.5rem\">TECH</span>\n",
       "</mark>\n",
       ", a role of the device that operates            as the \n",
       "<mark class=\"entity\" style=\"background: #F67DE3; padding: 0.45em 0.6em; margin: 0 0.25em; line-height: 1; border-radius: 0.35em;\">\n",
       "    AP\n",
       "    <span style=\"font-size: 0.8em; font-weight: bold; line-height: 1; border-radius: 0.35em; vertical-align: middle; margin-left: 0.5rem\">TECH</span>\n",
       "</mark>\n",
       " will be referred to as \n",
       "<mark class=\"entity\" style=\"background: #F67DE3; padding: 0.45em 0.6em; margin: 0 0.25em; line-height: 1; border-radius: 0.35em;\">\n",
       "    P2P Group Owner\n",
       "    <span style=\"font-size: 0.8em; font-weight: bold; line-height: 1; border-radius: 0.35em; vertical-align: middle; margin-left: 0.5rem\">TECH</span>\n",
       "</mark>\n",
       " (hereinafter, referred to as \n",
       "<mark class=\"entity\" style=\"background: #F67DE3; padding: 0.45em 0.6em; margin: 0 0.25em; line-height: 1; border-radius: 0.35em;\">\n",
       "    GO\n",
       "    <span style=\"font-size: 0.8em; font-weight: bold; line-height: 1; border-radius: 0.35em; vertical-align: middle; margin-left: 0.5rem\">TECH</span>\n",
       "</mark>\n",
       ").            On the other hand, a role of the device that participates in a network generated by            the \n",
       "<mark class=\"entity\" style=\"background: #F67DE3; padding: 0.45em 0.6em; margin: 0 0.25em; line-height: 1; border-radius: 0.35em;\">\n",
       "    GO\n",
       "    <span style=\"font-size: 0.8em; font-weight: bold; line-height: 1; border-radius: 0.35em; vertical-align: middle; margin-left: 0.5rem\">TECH</span>\n",
       "</mark>\n",
       " will be referred to as \n",
       "<mark class=\"entity\" style=\"background: #F67DE3; padding: 0.45em 0.6em; margin: 0 0.25em; line-height: 1; border-radius: 0.35em;\">\n",
       "    P2P Client\n",
       "    <span style=\"font-size: 0.8em; font-weight: bold; line-height: 1; border-radius: 0.35em; vertical-align: middle; margin-left: 0.5rem\">TECH</span>\n",
       "</mark>\n",
       " (hereinafter, referred to as \n",
       "<mark class=\"entity\" style=\"background: #F67DE3; padding: 0.45em 0.6em; margin: 0 0.25em; line-height: 1; border-radius: 0.35em;\">\n",
       "    CL\n",
       "    <span style=\"font-size: 0.8em; font-weight: bold; line-height: 1; border-radius: 0.35em; vertical-align: middle; margin-left: 0.5rem\">TECH</span>\n",
       "</mark>\n",
       ").            According to the \n",
       "<mark class=\"entity\" style=\"background: #F67DE3; padding: 0.45em 0.6em; margin: 0 0.25em; line-height: 1; border-radius: 0.35em;\">\n",
       "    WFD\n",
       "    <span style=\"font-size: 0.8em; font-weight: bold; line-height: 1; border-radius: 0.35em; vertical-align: middle; margin-left: 0.5rem\">TECH</span>\n",
       "</mark>\n",
       ", a \n",
       "<mark class=\"entity\" style=\"background: #F67DE3; padding: 0.45em 0.6em; margin: 0 0.25em; line-height: 1; border-radius: 0.35em;\">\n",
       "    communication parameter\n",
       "    <span style=\"font-size: 0.8em; font-weight: bold; line-height: 1; border-radius: 0.35em; vertical-align: middle; margin-left: 0.5rem\">TECH</span>\n",
       "</mark>\n",
       " necessary for participating in            the network generated by the \n",
       "<mark class=\"entity\" style=\"background: #F67DE3; padding: 0.45em 0.6em; margin: 0 0.25em; line-height: 1; border-radius: 0.35em;\">\n",
       "    GO\n",
       "    <span style=\"font-size: 0.8em; font-weight: bold; line-height: 1; border-radius: 0.35em; vertical-align: middle; margin-left: 0.5rem\">TECH</span>\n",
       "</mark>\n",
       " is shared between the devices by transmitting the            \n",
       "<mark class=\"entity\" style=\"background: #F67DE3; padding: 0.45em 0.6em; margin: 0 0.25em; line-height: 1; border-radius: 0.35em;\">\n",
       "    communication parameter\n",
       "    <span style=\"font-size: 0.8em; font-weight: bold; line-height: 1; border-radius: 0.35em; vertical-align: middle; margin-left: 0.5rem\">TECH</span>\n",
       "</mark>\n",
       " from the \n",
       "<mark class=\"entity\" style=\"background: #F67DE3; padding: 0.45em 0.6em; margin: 0 0.25em; line-height: 1; border-radius: 0.35em;\">\n",
       "    GO\n",
       "    <span style=\"font-size: 0.8em; font-weight: bold; line-height: 1; border-radius: 0.35em; vertical-align: middle; margin-left: 0.5rem\">TECH</span>\n",
       "</mark>\n",
       " to the \n",
       "<mark class=\"entity\" style=\"background: #F67DE3; padding: 0.45em 0.6em; margin: 0 0.25em; line-height: 1; border-radius: 0.35em;\">\n",
       "    CL\n",
       "    <span style=\"font-size: 0.8em; font-weight: bold; line-height: 1; border-radius: 0.35em; vertical-align: middle; margin-left: 0.5rem\">TECH</span>\n",
       "</mark>\n",
       ", and thereafter, the wireless            communication according to the \n",
       "<mark class=\"entity\" style=\"background: #F67DE3; padding: 0.45em 0.6em; margin: 0 0.25em; line-height: 1; border-radius: 0.35em;\">\n",
       "    WFD\n",
       "    <span style=\"font-size: 0.8em; font-weight: bold; line-height: 1; border-radius: 0.35em; vertical-align: middle; margin-left: 0.5rem\">TECH</span>\n",
       "</mark>\n",
       " is executed on the basis of the shared \n",
       "<mark class=\"entity\" style=\"background: #F67DE3; padding: 0.45em 0.6em; margin: 0 0.25em; line-height: 1; border-radius: 0.35em;\">\n",
       "    communication parameter\n",
       "    <span style=\"font-size: 0.8em; font-weight: bold; line-height: 1; border-radius: 0.35em; vertical-align: middle; margin-left: 0.5rem\">TECH</span>\n",
       "</mark>\n",
       ".</div></span>"
      ],
      "text/plain": [
       "<IPython.core.display.HTML object>"
      ]
     },
     "metadata": {},
     "output_type": "display_data"
    }
   ],
   "source": [
    "nlp = spacy.load(\"./ner_patent_g06k/prodigy_output/model-best\")\n",
    "\n",
    "doc = nlp(\"According to the WFD, the communication is performed when one of the \\\n",
    "           communication devices that directly perform the wireless LAN communication \\\n",
    "           operates as the AP. According to the WFD, a role of the device that operates \\\n",
    "           as the AP will be referred to as P2P Group Owner (hereinafter, referred to as GO). \\\n",
    "           On the other hand, a role of the device that participates in a network generated by \\\n",
    "           the GO will be referred to as P2P Client (hereinafter, referred to as CL). \\\n",
    "           According to the WFD, a communication parameter necessary for participating in \\\n",
    "           the network generated by the GO is shared between the devices by transmitting the \\\n",
    "           communication parameter from the GO to the CL, and thereafter, the wireless \\\n",
    "           communication according to the WFD is executed on the basis of the shared communication parameter.\")\n",
    "\n",
    "colors = {\"TECH\": \"#F67DE3\"}\n",
    "options = {\"colors\": colors}\n",
    "\n",
    "spacy.displacy.render(doc, style=\"ent\", options=options, jupyter=True)\n"
   ]
  },
  {
   "cell_type": "markdown",
   "id": "eb9455da",
   "metadata": {},
   "source": [
    "This fine tuned model is more accurate than the first one. We will use it in our Hearst patterns recognition."
   ]
  },
  {
   "cell_type": "markdown",
   "id": "0dfa5ef8",
   "metadata": {},
   "source": [
    "## 🧬 Hearst Patterns"
   ]
  },
  {
   "cell_type": "code",
   "execution_count": 16,
   "id": "eef11613",
   "metadata": {},
   "outputs": [],
   "source": [
    "class Hearst_Patterns:\n",
    "    \"\"\" Extracts hearst patterns from a corpus\n",
    "    \"\"\"\n",
    "\n",
    "    def __init__(self, patterns_file=\"patterns.json\", model_path=\"spacy/model-new\", text_path=\"G06K.txt\"):\n",
    "        \"\"\" creates an instance of the class Hearst_Patterns\n",
    "\n",
    "        Args:\n",
    "            patterns_file (path, optional): the json file containing the patterns. Defaults to \"patterns.json\".\n",
    "            model_path (path, optional): the folder containing the NER model to use. Defaults to \"spacy/model-new\".\n",
    "            text_path (path, optional): the file containing the corpus analyse and extract patterns. Defaults to \"G06K.txt\".\n",
    "        \"\"\"\n",
    "\n",
    "        # read the text file\n",
    "        g06k = open(text_path).read().strip()\n",
    "        self.patent_lines = g06k.split('\\n')\n",
    "\n",
    "        # load the models\n",
    "        self.nlp = spacy.load(model_path)\n",
    "        self.en_nlp = spacy.load(\"en_core_web_lg\")\n",
    "        self.nlp.add_pipe(\"merge_entities\")\n",
    "        self.en_nlp.add_pipe('merge_noun_chunks')\n",
    "\n",
    "        self.matcher = Matcher(self.nlp.vocab)\n",
    "        self.patterns = self.load_patterns_from_json(patterns_file)\n",
    "        for name, pattern in self.patterns:\n",
    "            self.matcher.add(name, pattern)\n",
    "\n",
    "        # this list is used in the method get_matches\n",
    "        self.continue_words = [',', 'and', 'or', ';', 'also', 'as well']\n",
    "\n",
    "    def load_patterns_from_json(self, patterns_file):\n",
    "        \"\"\" read the json file and return the list of\n",
    "\n",
    "        Args:\n",
    "            patterns_file (path): the json file containing the patterns\n",
    "\n",
    "        Returns:\n",
    "            List: a list of the hearst patterns found in the json file  \n",
    "        \"\"\"\n",
    "        f = open(patterns_file)\n",
    "        data = json.load(f)\n",
    "        patterns = []\n",
    "        for name, pattern in data.items():\n",
    "            patterns.append((name, pattern))\n",
    "\n",
    "        return patterns\n",
    "\n",
    "    def extract_patterns(self, size=10, save_folder=\".\", start=0):\n",
    "        \"\"\" look for matches in a corpus (text file)\n",
    "\n",
    "        Args:\n",
    "            size (int, optional): the minimum number of matches to be found. Defaults to 10.\n",
    "            save_folder (path, optional): the folder in which save the resulted csv file. Defaults to \".\".\n",
    "            start (int, optional): the first line in which we start to look for matches (useful to continue where you stopped). Defaults to 0.\n",
    "        \"\"\"\n",
    "        extraced_patterns = []\n",
    "\n",
    "        # chose a start\n",
    "        line = start\n",
    "        count = 0\n",
    "\n",
    "        # for the output\n",
    "        print(f'{count} pattern extracted...', end='\\r')\n",
    "        sys.stdout.flush()\n",
    "\n",
    "        while count < size:\n",
    "            while True:  # we read line by line until finding a match, to keep track of the count\n",
    "                try:  # it bugs very rarely, don't know why XD\n",
    "\n",
    "                    # look for a match\n",
    "                    patterns = self.get_matches(self.patent_lines[line])\n",
    "                    if patterns:\n",
    "                        extraced_patterns += patterns\n",
    "                        break\n",
    "                    print(f'{count} patterns extracted...{line}', end='\\r')\n",
    "                    sys.stdout.flush()\n",
    "                except:\n",
    "                    print(\"An error has occurred\")\n",
    "\n",
    "                line += 1\n",
    "            count = len(extraced_patterns)\n",
    "            print(f'{count} patterns extracted...{line}', end='\\r')\n",
    "            sys.stdout.flush()\n",
    "\n",
    "        print(f'({count}) patterns extracted from lines ({start}-{line}))')\n",
    "        save_file = f\"{save_folder}/hearst_patterns.{len(extraced_patterns)}.csv\"\n",
    "        print(f'Patterns saved to {save_file}')\n",
    "        df = pd.DataFrame(extraced_patterns, columns=[\n",
    "                          'word1', 'word2', 'relation', 'label', 'text'])\n",
    "        df.to_csv(save_file)\n",
    "\n",
    "    def get_matches(self, text):\n",
    "        label = {\n",
    "            'rhyper': -1,\n",
    "            'hyper': 1,\n",
    "        }\n",
    "        # because patterns like < !(bla bla) X > don't work when X is in the beginning of the sentence\n",
    "        doc = self.nlp('. '+text)\n",
    "\n",
    "        matches = self.matcher(doc)\n",
    "        relations = []\n",
    "        for match_id, start, end in matches:\n",
    "\n",
    "            # get all entities indices in the doc\n",
    "            ent_indices = [i for i in range(start, end) if doc[i].text in [\n",
    "                ent.text for ent in doc[start:end].ents]]\n",
    "            if not ent_indices:  # no entity found\n",
    "                return []\n",
    "\n",
    "            # extract X...Y from a match ..X...Y.., so now we know that the first and the last token are the entities\n",
    "            span = doc[min(ent_indices):max(ent_indices)+1]\n",
    "\n",
    "            # Get string representation\n",
    "            match_info = self.nlp.vocab.strings[match_id]\n",
    "            match_name = match_info.split('-')[0]   # hyper or rhyper\n",
    "            match_type = match_info.split('-')[1]   # single or multi\n",
    "\n",
    "            np_0 = span[0]  # left term\n",
    "            np_1 = span[-1]  # right term (or first right term if multiple)\n",
    "\n",
    "            # all the right terms (ex. for Y...X1, X2, ...Xn) X1...Xn are the right terms\n",
    "            right_terms = [np_1.text]\n",
    "            if match_type == \"multi\":  # look for other terms (X2,X3..etc)\n",
    "\n",
    "                # we use the en_core_web_lg model to get the noun chunks\n",
    "                doc_en = self.en_nlp(doc[end:].text)\n",
    "                for d in doc_en:\n",
    "                    # look for entities inside the noun chunk\n",
    "                    matching_ents = [\n",
    "                        ent.text for ent in doc.ents if ent.text in d.text]\n",
    "                    if matching_ents:\n",
    "                        right_terms.append(matching_ents[0])\n",
    "                    elif d.text not in self.continue_words:  # stop when seeing a word that's not in the list\n",
    "                        break\n",
    "\n",
    "            for term in right_terms:\n",
    "                relations.append(\n",
    "                    (np_0.text, term, match_name, label[match_name], text))\n",
    "\n",
    "        relations = set(relations)\n",
    "        return list(relations)\n"
   ]
  },
  {
   "cell_type": "markdown",
   "id": "22f4000f",
   "metadata": {},
   "source": [
    "### ⛷️ start the extraction"
   ]
  },
  {
   "cell_type": "code",
   "execution_count": 20,
   "id": "02fe5b3d",
   "metadata": {},
   "outputs": [
    {
     "name": "stdout",
     "output_type": "stream",
     "text": [
      "0 patterns extracted...5902\r"
     ]
    },
    {
     "name": "stderr",
     "output_type": "stream",
     "text": [
      "/Users/nkise/miniforge3/envs/uni-env/lib/python3.9/site-packages/numpy/core/_methods.py:179: RuntimeWarning: overflow encountered in reduce\n",
      "  ret = umr_sum(arr, axis, dtype, out, keepdims, where=where)\n",
      "/Users/nkise/miniforge3/envs/uni-env/lib/python3.9/site-packages/numpy/core/_methods.py:212: RuntimeWarning: overflow encountered in reduce\n",
      "  arrmean = umr_sum(arr, axis, dtype, keepdims=True, where=where)\n",
      "/Users/nkise/miniforge3/envs/uni-env/lib/python3.9/site-packages/numpy/core/_methods.py:235: RuntimeWarning: overflow encountered in multiply\n",
      "  x = um.multiply(x, x, out=x)\n",
      "/Users/nkise/miniforge3/envs/uni-env/lib/python3.9/site-packages/thinc/layers/layernorm.py:26: RuntimeWarning: invalid value encountered in multiply\n",
      "  Xhat = (X - mu) * var ** (-1.0 / 2.0)\n"
     ]
    },
    {
     "name": "stdout",
     "output_type": "stream",
     "text": [
      "(51) patterns extracted from lines (5896-6148))\n",
      "Patterns saved to hearst_patterns//hearst_patterns.51.csv\n"
     ]
    }
   ],
   "source": [
    "hp = Hearst_Patterns(patterns_file=\"patterns.json\",\n",
    "                     model_path=\"./ner_patent_g06k/spacy_output/model-best\", text_path=\"./G06K.txt\")\n",
    "hp.extract_patterns(size=50, start=5896, save_folder=\"hearst_patterns/\")\n"
   ]
  },
  {
   "cell_type": "markdown",
   "id": "ebaa5f04",
   "metadata": {},
   "source": [
    "### ✨ Results"
   ]
  },
  {
   "cell_type": "markdown",
   "id": "54f035a2",
   "metadata": {},
   "source": [
    "in the first <b>26331</b>, we found <b>245</b> different matches, <b>155</b> unique relation. Here are some of the results:"
   ]
  },
  {
   "cell_type": "code",
   "execution_count": 4,
   "id": "76367a05",
   "metadata": {},
   "outputs": [
    {
     "data": {
      "text/html": [
       "<div>\n",
       "<style scoped>\n",
       "    .dataframe tbody tr th:only-of-type {\n",
       "        vertical-align: middle;\n",
       "    }\n",
       "\n",
       "    .dataframe tbody tr th {\n",
       "        vertical-align: top;\n",
       "    }\n",
       "\n",
       "    .dataframe thead th {\n",
       "        text-align: right;\n",
       "    }\n",
       "</style>\n",
       "<table border=\"1\" class=\"dataframe\">\n",
       "  <thead>\n",
       "    <tr style=\"text-align: right;\">\n",
       "      <th></th>\n",
       "      <th>Hypernym</th>\n",
       "      <th>Hyponym</th>\n",
       "      <th>Frequency</th>\n",
       "    </tr>\n",
       "  </thead>\n",
       "  <tbody>\n",
       "    <tr>\n",
       "      <th>0</th>\n",
       "      <td>home appliance</td>\n",
       "      <td>mobile robot</td>\n",
       "      <td>15</td>\n",
       "    </tr>\n",
       "    <tr>\n",
       "      <th>1</th>\n",
       "      <td>computer network</td>\n",
       "      <td>the Internet</td>\n",
       "      <td>10</td>\n",
       "    </tr>\n",
       "    <tr>\n",
       "      <th>2</th>\n",
       "      <td>artificial intelligence</td>\n",
       "      <td>Deep learning</td>\n",
       "      <td>6</td>\n",
       "    </tr>\n",
       "    <tr>\n",
       "      <th>3</th>\n",
       "      <td>electronic device</td>\n",
       "      <td>electronic component</td>\n",
       "      <td>4</td>\n",
       "    </tr>\n",
       "    <tr>\n",
       "      <th>4</th>\n",
       "      <td>storage device</td>\n",
       "      <td>hard disk</td>\n",
       "      <td>4</td>\n",
       "    </tr>\n",
       "    <tr>\n",
       "      <th>5</th>\n",
       "      <td>communication network</td>\n",
       "      <td>the Internet</td>\n",
       "      <td>4</td>\n",
       "    </tr>\n",
       "    <tr>\n",
       "      <th>6</th>\n",
       "      <td>point light source</td>\n",
       "      <td>light source</td>\n",
       "      <td>4</td>\n",
       "    </tr>\n",
       "    <tr>\n",
       "      <th>7</th>\n",
       "      <td>the environment</td>\n",
       "      <td>foot traffic</td>\n",
       "      <td>3</td>\n",
       "    </tr>\n",
       "    <tr>\n",
       "      <th>8</th>\n",
       "      <td>storage media</td>\n",
       "      <td>hard drives</td>\n",
       "      <td>3</td>\n",
       "    </tr>\n",
       "    <tr>\n",
       "      <th>9</th>\n",
       "      <td>laser projector</td>\n",
       "      <td>display device</td>\n",
       "      <td>3</td>\n",
       "    </tr>\n",
       "  </tbody>\n",
       "</table>\n",
       "</div>"
      ],
      "text/plain": [
       "                  Hypernym               Hyponym  Frequency\n",
       "0           home appliance          mobile robot         15\n",
       "1         computer network          the Internet         10\n",
       "2  artificial intelligence         Deep learning          6\n",
       "3        electronic device  electronic component          4\n",
       "4           storage device             hard disk          4\n",
       "5    communication network          the Internet          4\n",
       "6       point light source          light source          4\n",
       "7          the environment          foot traffic          3\n",
       "8            storage media           hard drives          3\n",
       "9          laser projector        display device          3"
      ]
     },
     "execution_count": 4,
     "metadata": {},
     "output_type": "execute_result"
    }
   ],
   "source": [
    "df_results = pd.read_csv(\"hearst_patterns/hearst_patterns.155.csv\", index_col=0)[:50]\n",
    "df_results[['Hypernym','Hyponym','Frequency']].head(10)"
   ]
  },
  {
   "cell_type": "markdown",
   "id": "51af0cf8",
   "metadata": {},
   "source": [
    "## 🏆 Evaluation"
   ]
  },
  {
   "cell_type": "markdown",
   "id": "36ffee99",
   "metadata": {},
   "source": [
    "#### Load model and data"
   ]
  },
  {
   "cell_type": "code",
   "execution_count": 28,
   "id": "d0b001c3",
   "metadata": {},
   "outputs": [
    {
     "data": {
      "text/html": [
       "<div>\n",
       "<style scoped>\n",
       "    .dataframe tbody tr th:only-of-type {\n",
       "        vertical-align: middle;\n",
       "    }\n",
       "\n",
       "    .dataframe tbody tr th {\n",
       "        vertical-align: top;\n",
       "    }\n",
       "\n",
       "    .dataframe thead th {\n",
       "        text-align: right;\n",
       "    }\n",
       "</style>\n",
       "<table border=\"1\" class=\"dataframe\">\n",
       "  <thead>\n",
       "    <tr style=\"text-align: right;\">\n",
       "      <th></th>\n",
       "      <th>Unnamed: 0</th>\n",
       "      <th>Hypernym</th>\n",
       "      <th>Hyponym</th>\n",
       "      <th>Frequency</th>\n",
       "      <th>word1</th>\n",
       "      <th>word2</th>\n",
       "      <th>relation</th>\n",
       "      <th>label</th>\n",
       "    </tr>\n",
       "  </thead>\n",
       "  <tbody>\n",
       "    <tr>\n",
       "      <th>0</th>\n",
       "      <td>0</td>\n",
       "      <td>home appliance</td>\n",
       "      <td>mobile robot</td>\n",
       "      <td>15</td>\n",
       "      <td>home appliance</td>\n",
       "      <td>mobile robot</td>\n",
       "      <td>rhyper</td>\n",
       "      <td>-1</td>\n",
       "    </tr>\n",
       "    <tr>\n",
       "      <th>1</th>\n",
       "      <td>1</td>\n",
       "      <td>computer network</td>\n",
       "      <td>the Internet</td>\n",
       "      <td>10</td>\n",
       "      <td>the Internet</td>\n",
       "      <td>computer network</td>\n",
       "      <td>hyper</td>\n",
       "      <td>1</td>\n",
       "    </tr>\n",
       "    <tr>\n",
       "      <th>2</th>\n",
       "      <td>2</td>\n",
       "      <td>artificial intelligence</td>\n",
       "      <td>Deep learning</td>\n",
       "      <td>6</td>\n",
       "      <td>artificial intelligence</td>\n",
       "      <td>Deep learning</td>\n",
       "      <td>rhyper</td>\n",
       "      <td>-1</td>\n",
       "    </tr>\n",
       "    <tr>\n",
       "      <th>3</th>\n",
       "      <td>3</td>\n",
       "      <td>electronic device</td>\n",
       "      <td>electronic component</td>\n",
       "      <td>4</td>\n",
       "      <td>electronic device</td>\n",
       "      <td>electronic component</td>\n",
       "      <td>rhyper</td>\n",
       "      <td>-1</td>\n",
       "    </tr>\n",
       "    <tr>\n",
       "      <th>4</th>\n",
       "      <td>4</td>\n",
       "      <td>storage device</td>\n",
       "      <td>hard disk</td>\n",
       "      <td>4</td>\n",
       "      <td>storage device</td>\n",
       "      <td>hard disk</td>\n",
       "      <td>rhyper</td>\n",
       "      <td>-1</td>\n",
       "    </tr>\n",
       "    <tr>\n",
       "      <th>...</th>\n",
       "      <td>...</td>\n",
       "      <td>...</td>\n",
       "      <td>...</td>\n",
       "      <td>...</td>\n",
       "      <td>...</td>\n",
       "      <td>...</td>\n",
       "      <td>...</td>\n",
       "      <td>...</td>\n",
       "    </tr>\n",
       "    <tr>\n",
       "      <th>150</th>\n",
       "      <td>150</td>\n",
       "      <td>computer readable</td>\n",
       "      <td>optical disk</td>\n",
       "      <td>1</td>\n",
       "      <td>computer readable</td>\n",
       "      <td>optical disk</td>\n",
       "      <td>rhyper</td>\n",
       "      <td>-1</td>\n",
       "    </tr>\n",
       "    <tr>\n",
       "      <th>151</th>\n",
       "      <td>151</td>\n",
       "      <td>optical system</td>\n",
       "      <td>plane mirror</td>\n",
       "      <td>1</td>\n",
       "      <td>plane mirror</td>\n",
       "      <td>optical system</td>\n",
       "      <td>hyper</td>\n",
       "      <td>1</td>\n",
       "    </tr>\n",
       "    <tr>\n",
       "      <th>152</th>\n",
       "      <td>152</td>\n",
       "      <td>light source</td>\n",
       "      <td>laser diode</td>\n",
       "      <td>1</td>\n",
       "      <td>laser diode</td>\n",
       "      <td>light source</td>\n",
       "      <td>hyper</td>\n",
       "      <td>1</td>\n",
       "    </tr>\n",
       "    <tr>\n",
       "      <th>153</th>\n",
       "      <td>153</td>\n",
       "      <td>recording medium</td>\n",
       "      <td>semiconductor memory</td>\n",
       "      <td>1</td>\n",
       "      <td>recording medium</td>\n",
       "      <td>semiconductor memory</td>\n",
       "      <td>rhyper</td>\n",
       "      <td>-1</td>\n",
       "    </tr>\n",
       "    <tr>\n",
       "      <th>154</th>\n",
       "      <td>154</td>\n",
       "      <td>text field</td>\n",
       "      <td>text field</td>\n",
       "      <td>1</td>\n",
       "      <td>text field</td>\n",
       "      <td>text field</td>\n",
       "      <td>hyper</td>\n",
       "      <td>1</td>\n",
       "    </tr>\n",
       "  </tbody>\n",
       "</table>\n",
       "<p>155 rows × 8 columns</p>\n",
       "</div>"
      ],
      "text/plain": [
       "     Unnamed: 0                 Hypernym               Hyponym  Frequency  \\\n",
       "0             0           home appliance          mobile robot         15   \n",
       "1             1         computer network          the Internet         10   \n",
       "2             2  artificial intelligence         Deep learning          6   \n",
       "3             3        electronic device  electronic component          4   \n",
       "4             4           storage device             hard disk          4   \n",
       "..          ...                      ...                   ...        ...   \n",
       "150         150        computer readable          optical disk          1   \n",
       "151         151           optical system          plane mirror          1   \n",
       "152         152             light source           laser diode          1   \n",
       "153         153         recording medium  semiconductor memory          1   \n",
       "154         154               text field            text field          1   \n",
       "\n",
       "                       word1                 word2 relation  label  \n",
       "0             home appliance          mobile robot   rhyper     -1  \n",
       "1               the Internet      computer network    hyper      1  \n",
       "2    artificial intelligence         Deep learning   rhyper     -1  \n",
       "3          electronic device  electronic component   rhyper     -1  \n",
       "4             storage device             hard disk   rhyper     -1  \n",
       "..                       ...                   ...      ...    ...  \n",
       "150        computer readable          optical disk   rhyper     -1  \n",
       "151             plane mirror        optical system    hyper      1  \n",
       "152              laser diode          light source    hyper      1  \n",
       "153         recording medium  semiconductor memory   rhyper     -1  \n",
       "154               text field            text field    hyper      1  \n",
       "\n",
       "[155 rows x 8 columns]"
      ]
     },
     "execution_count": 28,
     "metadata": {},
     "output_type": "execute_result"
    }
   ],
   "source": [
    "# load best model\n",
    "nlp_ner = spacy.load(\"./ner_patent_g06k/prodigy_output/model-best\")\n",
    "\n",
    "# load test lines\n",
    "with open('test_lines.txt', 'r') as f:\n",
    "    test_lines = f.readlines()\n",
    "f.close()\n",
    "\n",
    "# read homonym_list.txt with pairs of homonyms\n",
    "homonyms_df = pd.read_csv('./hearst_patterns/hearst_patterns.155.csv')\n",
    "homonyms_df\n"
   ]
  },
  {
   "cell_type": "markdown",
   "id": "2c6778b2",
   "metadata": {},
   "source": [
    "#### 🌐 Word-Net"
   ]
  },
  {
   "cell_type": "markdown",
   "id": "1dc70f19",
   "metadata": {},
   "source": [
    "Here we are evaluating extracted Hypernyms using WordNet. Here is an example how it works"
   ]
  },
  {
   "cell_type": "code",
   "execution_count": 29,
   "id": "32036e1b",
   "metadata": {},
   "outputs": [],
   "source": [
    "cd_rom = wn.synsets('CD-ROM', pos='n')\n",
    "computer = wn.synsets('computer', pos='n')\n"
   ]
  },
  {
   "cell_type": "code",
   "execution_count": 30,
   "id": "1523945b",
   "metadata": {},
   "outputs": [
    {
     "name": "stdout",
     "output_type": "stream",
     "text": [
      "Synset('cd-rom.n.01') Synset('computer.n.01')\n",
      "Score: 0.7\n",
      "Synset('cd-rom.n.01') Synset('calculator.n.01')\n",
      "Score: 0.4\n"
     ]
    }
   ],
   "source": [
    "for synset in cd_rom:\n",
    "    for synset2 in computer:\n",
    "        print(synset, synset2)\n",
    "        print(\"Score:\", synset.wup_similarity(synset2))\n"
   ]
  },
  {
   "cell_type": "code",
   "execution_count": 31,
   "id": "f18f53e9",
   "metadata": {},
   "outputs": [
    {
     "data": {
      "text/plain": [
       "6"
      ]
     },
     "execution_count": 31,
     "metadata": {},
     "output_type": "execute_result"
    }
   ],
   "source": [
    "cd_rom[0].shortest_path_distance(computer[0])\n"
   ]
  },
  {
   "cell_type": "markdown",
   "id": "1b5d8f00",
   "metadata": {},
   "source": [
    "Run on our list of hypernyms"
   ]
  },
  {
   "cell_type": "code",
   "execution_count": 32,
   "id": "b0a41b38",
   "metadata": {},
   "outputs": [],
   "source": [
    "def wordnet_distance(word1, word2):\n",
    "    parent = wn.synsets(word1.replace(' ', '_'))\n",
    "    subclass = wn.synsets(word2.replace(' ', '_'))\n",
    "    scores = [0]\n",
    "    try:\n",
    "        for synset in parent:\n",
    "            for synset2 in subclass:\n",
    "                scores.append(synset.wup_similarity(synset2))\n",
    "    except:\n",
    "        return np.nan\n",
    "\n",
    "    return np.round(max(scores), 2)\n"
   ]
  },
  {
   "cell_type": "code",
   "execution_count": 33,
   "id": "88a83633",
   "metadata": {},
   "outputs": [
    {
     "data": {
      "application/vnd.jupyter.widget-view+json": {
       "model_id": "ed4fb7bfacb34c6e99f78c44b5346822",
       "version_major": 2,
       "version_minor": 0
      },
      "text/plain": [
       "0it [00:00, ?it/s]"
      ]
     },
     "metadata": {},
     "output_type": "display_data"
    },
    {
     "name": "stdout",
     "output_type": "stream",
     "text": [
      "home appliance ⬅️ mobile robot :  0\n",
      "computer network ⬅️ the Internet :  0\n",
      "artificial intelligence ⬅️ Deep learning :  0\n",
      "electronic device ⬅️ electronic component :  0\n",
      "storage device ⬅️ hard disk :  0.89\n",
      "communication network ⬅️ the Internet :  0\n",
      "point light source ⬅️ light source :  0\n",
      "the environment ⬅️ foot traffic :  0\n",
      "storage media ⬅️ hard drives :  0\n",
      "laser projector ⬅️ display device :  0\n",
      "semiconductor memory ⬅️ flash memory :  0\n",
      "storage medium ⬅️ hard disk :  0.67\n",
      "storage medium ⬅️ magnetic disk :  0.71\n",
      "machine learning ⬅️ deep learning :  0\n",
      "electronic devices ⬅️ mobile phone :  0.63\n",
      "machine learning ⬅️ artificial intelligence :  0\n",
      "test pattern ⬅️ test pattern :  0\n",
      "deep learning ⬅️ Convolutional Neural Network :  0\n",
      "optical system ⬅️ optical system :  0\n",
      "environmental conditions ⬅️ carbon dioxide :  0.27\n",
      "flexible display ⬅️ display device :  0\n",
      "storage medium ⬅️ non-volatile memory :  0\n",
      "storage medium ⬅️ optical disk :  0.71\n",
      "storage device ⬅️ main memory :  0\n",
      "storage device ⬅️ input device :  0.67\n",
      "inclination angle ⬅️ inclination angle :  0\n",
      "convolutional neural network ⬅️ neural network :  0\n",
      "non-volatile RAM ⬅️ read-only memory :  0\n",
      "moving images ⬅️ digital camcorder :  0\n",
      "wireless communication ⬅️ inter-vehicle communication :  0\n",
      "electromagnetic waves ⬅️ millimeter waves :  0\n",
      "moving images ⬅️ digital camera :  0\n",
      "machine learning method ⬅️ logistic regression :  0\n",
      "storage device ⬅️ wireless communication :  0\n",
      "wireless communication ⬅️ wireless LAN :  0\n",
      "storage medium ⬅️ computer readable :  0.18\n",
      "stochastic gradient descent ⬅️ optimization algorithm :  0\n",
      "brain waves ⬅️ blood flow :  0\n",
      "brain waves ⬅️ pulse rate :  0.14\n",
      "magnetic media ⬅️ hard disks :  0\n",
      "mobile device ⬅️ mobile phone :  0\n",
      "neural network ⬅️ convolutional neural network :  0\n",
      "digital image ⬅️ the computer :  0\n",
      "storage medium ⬅️ semiconductor memory :  0\n",
      "mass memory device ⬅️ hard drive :  0\n",
      "geographical location data ⬅️ longitude and latitude :  0\n",
      "main memory ⬅️ volatile memory :  0\n",
      "a vehicle ⬅️ laptop computer :  0\n",
      "surgical device ⬅️ surgical instrument :  0\n",
      "optical disc drive ⬅️ compact disc :  0\n",
      "wide-angle lens ⬅️ fisheye lens :  1.0\n",
      "non-volatile memory ⬅️ magnetic storage :  0\n",
      "state estimation ⬅️ brain wave :  0\n",
      "volatile memory ⬅️ random-access memory :  0\n",
      "storage medium ⬅️ Electrically Erasable and Programmable ROM :  0\n",
      "visible light spectrum ⬅️ near-infrared light :  0\n",
      "storage medium ⬅️ flexible disk :  0\n",
      "electronic pen ⬅️ the height :  0\n",
      "display device ⬅️ augmented reality :  0\n",
      "mobile phone ⬅️ mobile device :  0\n",
      "contact image sensor ⬅️ optical sensor :  0\n",
      "Convolutional neural network ⬅️ neural network :  0\n",
      "load sensor ⬅️ load sensor :  0\n",
      "storage media ⬅️ flash memory :  0\n",
      "active identifier ⬅️ radio frequency identification :  0\n",
      "remote system ⬅️ the service :  0\n",
      "Computer components ⬅️ web services :  0\n",
      "label printer ⬅️ optical system :  0\n",
      "mobile device ⬅️ tablet computer :  0\n",
      "computing device ⬅️ smart phone :  0\n",
      "reference table ⬅️ effective aperture :  0\n",
      "print media ⬅️ print media :  1.0\n",
      "color schemes ⬅️ color scheme :  1.0\n",
      "image sensor ⬅️ complementary metal oxide semiconductor :  0\n",
      "text processing ⬅️ optical character recognition :  0\n",
      "machine learning ⬅️ neural networks :  0\n",
      "wireless network ⬅️ Wireless Fidelity :  0\n",
      "light sensor ⬅️ Complementary Metal Oxide Semiconductor :  0\n",
      "storage medium ⬅️ magnetic material :  0\n",
      "storage device ⬅️ Hard Disk Drive :  0\n",
      "computing device ⬅️ computing device :  1.0\n",
      "embedded devices ⬅️ tablet computers :  0\n",
      "Convolutional Neural Network ⬅️ neural network :  0\n",
      "neural network ⬅️ machine learning algorithm :  0\n",
      "high-level shader language ⬅️ High Level Shader Language :  0\n",
      "a vehicle ⬅️ tablet computer :  0\n",
      "display device ⬅️ display device :  0\n",
      "display device ⬅️ virtual reality :  0\n",
      "peripheral bus ⬅️ Peripheral Component Interconnect :  0\n",
      "facial expression ⬅️ facial expression :  1.0\n",
      "loss function ⬅️ objective function :  0\n",
      "living room ⬅️ occupancy grid :  0\n",
      "a vehicle ⬅️ mobile phone :  0\n",
      "mobile device ⬅️ smart phone :  0\n",
      "a vehicle ⬅️ digital camera :  0\n",
      "geographical coordinates ⬅️ GPS coordinates :  0\n",
      "integrated circuit ⬅️ central processing unit :  0.6\n",
      "field of view ⬅️ field of view :  1.0\n",
      "programming languages ⬅️ object oriented programming language :  0\n",
      "communications network ⬅️ local area network :  0\n",
      "communications network ⬅️ the Internet :  0\n",
      "communications network ⬅️ cellular telephone :  0\n",
      "handheld devices ⬅️ mobile telephones :  0\n",
      "landing gear ⬅️ landing gear :  1.0\n",
      "landing gear ⬅️ propulsion systems :  0.67\n",
      "propulsion systems ⬅️ gas turbine engine :  0\n",
      "mobile terminal ⬅️ personal digital assistant :  0\n",
      "statistical method ⬅️ principal component analysis :  0\n",
      "machine learning algorithm ⬅️ deep learning :  0\n",
      "communication network ⬅️ computer network :  0\n",
      "communication network ⬅️ cellular network :  0\n",
      "optical media ⬅️ optical discs :  0\n",
      "electronic device ⬅️ mobile phone :  0.63\n",
      "start signal ⬅️ the signal :  0\n",
      "information processing system ⬅️ electronic pen :  0\n",
      "the image ⬅️ two-dimensional code :  0\n",
      "two-dimensional code ⬅️ a square :  0\n",
      "virtual environment ⬅️ virtual environment :  0\n",
      "digital camera ⬅️ the system :  0\n",
      "reflective glass ⬅️ one-way mirror :  0\n",
      "telecommunication network ⬅️ the internet :  0\n",
      "visible light ⬅️ infrared light :  0.91\n",
      "visible light ⬅️ ultraviolet light :  0.91\n",
      "payment service ⬅️ the service :  0\n",
      "real-time information ⬅️ traffic jam :  0\n",
      "lane line ⬅️ speed limit :  0\n",
      "recording medium ⬅️ hard disk :  0\n",
      "first position ⬅️ point cloud data :  0\n",
      "programming languages ⬅️ object oriented programming languages :  0\n",
      "point cloud data ⬅️ Iterative Closest Point :  0\n",
      "display device ⬅️ liquid crystal display :  0\n",
      "storage media ⬅️ main memory :  0\n",
      "output device ⬅️ liquid crystal :  0.25\n",
      "non-volatile memory ⬅️ hard disk :  0\n",
      "storage media ⬅️ solid-state drive :  0\n",
      "communication network ⬅️ wide area network :  0\n",
      "communication network ⬅️ local area network :  0\n",
      "the triangle ⬅️ number of :  0\n",
      "semiconductor memory ⬅️ random access :  0\n",
      "mobile device ⬅️ laptop computer :  0\n",
      "mobile device ⬅️ tablet PC :  0\n",
      "mobile phone ⬅️ information processing system :  0.6\n",
      "programmable memory ⬅️ household appliances :  0\n",
      "volatile memory ⬅️ high density :  0\n",
      "storage medium ⬅️ Volatile memory :  0\n",
      "artificial light ⬅️ fluorescent light :  0\n",
      "flash memory ⬅️ USB memory :  0\n",
      "personal computer ⬅️ desktop computer :  0.96\n",
      "personal computer ⬅️ laptop computer :  0.92\n",
      "computer readable ⬅️ magnetic disk :  0.17\n",
      "computer readable ⬅️ optical disk :  0.17\n",
      "optical system ⬅️ plane mirror :  0\n",
      "light source ⬅️ laser diode :  0\n",
      "recording medium ⬅️ semiconductor memory :  0\n",
      "text field ⬅️ text field :  0\n"
     ]
    }
   ],
   "source": [
    "# iterate throw homonyms_df\n",
    "results_wordnet = []\n",
    "for index, row in tqdm(homonyms_df.iterrows()):\n",
    "    if row[\"label\"] == -1:\n",
    "        parent = row['word1']\n",
    "        subclass = row['word2']\n",
    "    else:\n",
    "        parent = row['word2']\n",
    "        subclass = row['word1']\n",
    "    res = wordnet_distance(parent, subclass)\n",
    "    results_wordnet.append(res)\n",
    "    print(parent, \"⬅️\", subclass, \": \", res)\n"
   ]
  },
  {
   "cell_type": "markdown",
   "id": "ee313890",
   "metadata": {},
   "source": [
    "Save to the dataframe"
   ]
  },
  {
   "cell_type": "code",
   "execution_count": 34,
   "id": "bcfee981",
   "metadata": {},
   "outputs": [],
   "source": [
    "# save to dataframe\n",
    "homonyms_df['wordnet_distance'] = results_wordnet\n"
   ]
  },
  {
   "cell_type": "markdown",
   "id": "09e286c8",
   "metadata": {},
   "source": [
    "#### 🧪 Spacy embeddings\n",
    "What if model already has links between words? Since it's trained on the corpus data, it should be able to find similarity between words.  \n",
    "This is what can be useful while evaluationg our hyponyms list. We could run it and find low-similar elemts for further analysis."
   ]
  },
  {
   "cell_type": "code",
   "execution_count": 35,
   "id": "4bbc0839",
   "metadata": {},
   "outputs": [
    {
     "name": "stdout",
     "output_type": "stream",
     "text": [
      "cloud platform <-> service provider 0.48239135894127\n"
     ]
    }
   ],
   "source": [
    "word_1 = nlp_ner(\"cloud platform\")\n",
    "word_2 = nlp_ner(\"service provider\")\n",
    "\n",
    "print(word_1, \"<->\", word_2, word_1.similarity(word_2))\n"
   ]
  },
  {
   "cell_type": "markdown",
   "id": "d6560176",
   "metadata": {},
   "source": [
    "Run on our list of hypernyms"
   ]
  },
  {
   "cell_type": "code",
   "execution_count": 36,
   "id": "55bebb11",
   "metadata": {},
   "outputs": [],
   "source": [
    "def spacy_score(word1, word2):\n",
    "    word1 = nlp_ner(word1)\n",
    "    word2 = nlp_ner(word2)\n",
    "    return word1.similarity(word2)\n"
   ]
  },
  {
   "cell_type": "code",
   "execution_count": 37,
   "id": "93da2e63",
   "metadata": {},
   "outputs": [
    {
     "data": {
      "application/vnd.jupyter.widget-view+json": {
       "model_id": "4ee7e52e77474f16a22fa0e6b5e1ed5e",
       "version_major": 2,
       "version_minor": 0
      },
      "text/plain": [
       "0it [00:00, ?it/s]"
      ]
     },
     "metadata": {},
     "output_type": "display_data"
    },
    {
     "name": "stdout",
     "output_type": "stream",
     "text": [
      "home appliance ⬅️ mobile robot :  0.24053525712770824\n",
      "computer network ⬅️ the Internet :  0.3473185514133592\n",
      "artificial intelligence ⬅️ Deep learning :  0.6340177910135353\n",
      "electronic device ⬅️ electronic component :  0.596316942755877\n",
      "storage device ⬅️ hard disk :  0.5226111831551006\n",
      "communication network ⬅️ the Internet :  0.39472354731538645\n",
      "point light source ⬅️ light source :  0.9023671626758542\n",
      "the environment ⬅️ foot traffic :  0.1970939420135585\n",
      "storage media ⬅️ hard drives :  0.21867868544769628\n",
      "laser projector ⬅️ display device :  0.047422703300193096\n",
      "semiconductor memory ⬅️ flash memory :  0.8473547281050336\n"
     ]
    },
    {
     "name": "stderr",
     "output_type": "stream",
     "text": [
      "/Users/nkise/miniforge3/envs/uni-env/lib/python3.9/site-packages/numpy/core/_methods.py:235: RuntimeWarning: overflow encountered in multiply\n",
      "  x = um.multiply(x, x, out=x)\n"
     ]
    },
    {
     "name": "stdout",
     "output_type": "stream",
     "text": [
      "storage medium ⬅️ hard disk :  0.5238650175071684\n",
      "storage medium ⬅️ magnetic disk :  0.6181492239340104\n",
      "machine learning ⬅️ deep learning :  0.7875986458980156\n",
      "electronic devices ⬅️ mobile phone :  0.4429614842595396\n",
      "machine learning ⬅️ artificial intelligence :  0.5784102365301521\n",
      "test pattern ⬅️ test pattern :  1.0\n",
      "deep learning ⬅️ Convolutional Neural Network :  0.5148216892496057\n",
      "optical system ⬅️ optical system :  1.0\n",
      "environmental conditions ⬅️ carbon dioxide :  0.621414958294819\n",
      "flexible display ⬅️ display device :  0.6244238171573945\n",
      "storage medium ⬅️ non-volatile memory :  0.1679327110712199\n",
      "storage medium ⬅️ optical disk :  0.6074251079772134\n",
      "storage device ⬅️ main memory :  0.3310919302404015\n",
      "storage device ⬅️ input device :  0.6659649925777138\n",
      "inclination angle ⬅️ inclination angle :  1.0\n",
      "convolutional neural network ⬅️ neural network :  0.9166362725093549\n",
      "non-volatile RAM ⬅️ read-only memory :  0.8338553504212518\n",
      "moving images ⬅️ digital camcorder :  0.75523297475568\n",
      "wireless communication ⬅️ inter-vehicle communication :  0.011656166499044437\n",
      "electromagnetic waves ⬅️ millimeter waves :  0.8431646957888449\n",
      "moving images ⬅️ digital camera :  0.2745732936532132\n",
      "machine learning method ⬅️ logistic regression :  0.6938342218211617\n",
      "storage device ⬅️ wireless communication :  0.6657535814479798\n",
      "wireless communication ⬅️ wireless LAN :  0.7988240405990368\n",
      "storage medium ⬅️ computer readable :  0.6335364128335599\n",
      "stochastic gradient descent ⬅️ optimization algorithm :  0.6520967930251846\n",
      "brain waves ⬅️ blood flow :  0.6290675654003683\n",
      "brain waves ⬅️ pulse rate :  0.6444853051584741\n",
      "magnetic media ⬅️ hard disks :  0.4780298046805386\n",
      "mobile device ⬅️ mobile phone :  0.7980449644673413\n",
      "neural network ⬅️ convolutional neural network :  0.9166362725093549\n",
      "digital image ⬅️ the computer :  0.699942502347667\n",
      "storage medium ⬅️ semiconductor memory :  0.6051938531665448\n",
      "mass memory device ⬅️ hard drive :  0.668589128614972\n",
      "geographical location data ⬅️ longitude and latitude :  0.2530226461434113\n",
      "main memory ⬅️ volatile memory :  0.8474279432874845\n",
      "a vehicle ⬅️ laptop computer :  0.13382485666735744\n",
      "surgical device ⬅️ surgical instrument :  0.6113393149636243\n",
      "optical disc drive ⬅️ compact disc :  0.7777948410196525\n",
      "wide-angle lens ⬅️ fisheye lens :  0.5730744528676869\n",
      "non-volatile memory ⬅️ magnetic storage :  0.5780609783323682\n",
      "state estimation ⬅️ brain wave :  0.5869983949840103\n",
      "volatile memory ⬅️ random-access memory :  0.6002369098346259\n",
      "storage medium ⬅️ Electrically Erasable and Programmable ROM :  -0.11532739232964113\n",
      "visible light spectrum ⬅️ near-infrared light :  0.42381931099536757\n",
      "storage medium ⬅️ flexible disk :  0.6667542015003672\n",
      "electronic pen ⬅️ the height :  0.3368008363402014\n",
      "display device ⬅️ augmented reality :  0.4053286237215017\n",
      "mobile phone ⬅️ mobile device :  0.7980449644673413\n",
      "contact image sensor ⬅️ optical sensor :  0.691779511413411\n",
      "Convolutional neural network ⬅️ neural network :  0.9276815124973586\n",
      "load sensor ⬅️ load sensor :  1.0\n",
      "storage media ⬅️ flash memory :  0.6827529220353643\n",
      "active identifier ⬅️ radio frequency identification :  0.7648005612315747\n",
      "remote system ⬅️ the service :  0.33736529487993916\n",
      "Computer components ⬅️ web services :  0.7407826836620041\n",
      "label printer ⬅️ optical system :  0.09494561368436603\n",
      "mobile device ⬅️ tablet computer :  0.5494224646823747\n",
      "computing device ⬅️ smart phone :  0.6226276961949717\n",
      "reference table ⬅️ effective aperture :  0.3271937790766305\n",
      "print media ⬅️ print media :  1.0\n",
      "color schemes ⬅️ color scheme :  0.8999030939246575\n",
      "image sensor ⬅️ complementary metal oxide semiconductor :  0.1682182431755751\n",
      "text processing ⬅️ optical character recognition :  0.37264421486109117\n",
      "machine learning ⬅️ neural networks :  0.6410244646693959\n",
      "wireless network ⬅️ Wireless Fidelity :  0.37925970845285834\n",
      "light sensor ⬅️ Complementary Metal Oxide Semiconductor :  0.30752707073599356\n",
      "storage medium ⬅️ magnetic material :  0.34392698503738006\n",
      "storage device ⬅️ Hard Disk Drive :  0.22556737731684745\n",
      "computing device ⬅️ computing device :  1.0\n",
      "embedded devices ⬅️ tablet computers :  0.3376987426230074\n",
      "Convolutional Neural Network ⬅️ neural network :  0.6902302817633532\n",
      "neural network ⬅️ machine learning algorithm :  0.738846655209458\n",
      "high-level shader language ⬅️ High Level Shader Language :  0.7522130520944122\n",
      "a vehicle ⬅️ tablet computer :  0.07640754751523454\n",
      "display device ⬅️ display device :  1.0\n",
      "display device ⬅️ virtual reality :  0.3292470984798763\n",
      "peripheral bus ⬅️ Peripheral Component Interconnect :  0.6573347546101628\n",
      "facial expression ⬅️ facial expression :  1.0\n",
      "loss function ⬅️ objective function :  0.8050743087303927\n",
      "living room ⬅️ occupancy grid :  0.5773131584615117\n",
      "a vehicle ⬅️ mobile phone :  0.25975849574468135\n",
      "mobile device ⬅️ smart phone :  0.7088953365408831\n",
      "a vehicle ⬅️ digital camera :  -0.04163758523840876\n",
      "geographical coordinates ⬅️ GPS coordinates :  0.3271547062699214\n",
      "integrated circuit ⬅️ central processing unit :  0.3010856058553052\n",
      "field of view ⬅️ field of view :  1.0\n",
      "programming languages ⬅️ object oriented programming language :  0.6854334087053472\n",
      "communications network ⬅️ local area network :  0.5241348338519255\n",
      "communications network ⬅️ the Internet :  0.3234806726053346\n",
      "communications network ⬅️ cellular telephone :  0.7179529958878036\n",
      "handheld devices ⬅️ mobile telephones :  0.5254141582540826\n",
      "landing gear ⬅️ landing gear :  1.0\n",
      "landing gear ⬅️ propulsion systems :  0.7463560917481676\n",
      "propulsion systems ⬅️ gas turbine engine :  0.5352488448225944\n",
      "mobile terminal ⬅️ personal digital assistant :  0.015794652677694934\n",
      "statistical method ⬅️ principal component analysis :  0.6666159087838733\n",
      "machine learning algorithm ⬅️ deep learning :  0.756234276798524\n",
      "communication network ⬅️ computer network :  0.6669447640165973\n",
      "communication network ⬅️ cellular network :  0.7751448356338182\n",
      "optical media ⬅️ optical discs :  0.6129062358351681\n",
      "electronic device ⬅️ mobile phone :  0.7084252507788912\n",
      "start signal ⬅️ the signal :  0.5420448808237851\n",
      "information processing system ⬅️ electronic pen :  0.30134069311937467\n",
      "the image ⬅️ two-dimensional code :  -0.28950677451373197\n",
      "two-dimensional code ⬅️ a square :  0.030406911246921867\n",
      "virtual environment ⬅️ virtual environment :  1.0\n",
      "digital camera ⬅️ the system :  0.29880282444533746\n",
      "reflective glass ⬅️ one-way mirror :  0.43850586242637135\n",
      "telecommunication network ⬅️ the internet :  0.3566173245450127\n",
      "visible light ⬅️ infrared light :  0.9114937304850219\n",
      "visible light ⬅️ ultraviolet light :  0.9213419926003001\n",
      "payment service ⬅️ the service :  0.3063672228736742\n",
      "real-time information ⬅️ traffic jam :  0.3035022705046982\n",
      "lane line ⬅️ speed limit :  0.3037323664224999\n",
      "recording medium ⬅️ hard disk :  0.4059964599015562\n",
      "first position ⬅️ point cloud data :  0.207016452621415\n",
      "programming languages ⬅️ object oriented programming languages :  0.8350014916253609\n",
      "point cloud data ⬅️ Iterative Closest Point :  0.5167888525722296\n",
      "display device ⬅️ liquid crystal display :  0.26048988992383354\n",
      "storage media ⬅️ main memory :  0.6266247855807889\n",
      "output device ⬅️ liquid crystal :  0.3317279563546108\n",
      "non-volatile memory ⬅️ hard disk :  0.3484003320100652\n",
      "storage media ⬅️ solid-state drive :  0.16165763077264714\n",
      "communication network ⬅️ wide area network :  0.5543636363295267\n",
      "communication network ⬅️ local area network :  0.47471364516149317\n",
      "the triangle ⬅️ number of :  0.5832322671858226\n",
      "semiconductor memory ⬅️ random access :  0.4562830437539974\n",
      "mobile device ⬅️ laptop computer :  0.42844744268698753\n",
      "mobile device ⬅️ tablet PC :  0.12441134972329151\n",
      "mobile phone ⬅️ information processing system :  0.5892965259291126\n",
      "programmable memory ⬅️ household appliances :  0.3887777835026928\n",
      "volatile memory ⬅️ high density :  0.7810427598674594\n",
      "storage medium ⬅️ Volatile memory :  0.26361895064189644\n",
      "artificial light ⬅️ fluorescent light :  0.39919033112499935\n",
      "flash memory ⬅️ USB memory :  0.822987624197647\n",
      "personal computer ⬅️ desktop computer :  0.7703551153159636\n",
      "personal computer ⬅️ laptop computer :  0.7387420329534073\n",
      "computer readable ⬅️ magnetic disk :  0.5548563226706619\n",
      "computer readable ⬅️ optical disk :  0.5386684224127998\n",
      "optical system ⬅️ plane mirror :  0.7445974771538548\n",
      "light source ⬅️ laser diode :  0.6797673079981682\n",
      "recording medium ⬅️ semiconductor memory :  0.5623603900527664\n",
      "text field ⬅️ text field :  1.0\n"
     ]
    }
   ],
   "source": [
    "# iterate throw homonyms_df\n",
    "results_spacy = []\n",
    "for index, row in tqdm(homonyms_df.iterrows()):\n",
    "    if row[\"label\"] == -1:\n",
    "        parent = row['word1']\n",
    "        subclass = row['word2']\n",
    "    else:\n",
    "        parent = row['word2']\n",
    "        subclass = row['word1']\n",
    "\n",
    "    res = spacy_score(parent, subclass)\n",
    "    results_spacy.append(res)\n",
    "    print(parent, \"⬅️\", subclass, \": \", res)\n"
   ]
  },
  {
   "cell_type": "markdown",
   "id": "01d5f125",
   "metadata": {},
   "source": [
    "Add results to the dataframe"
   ]
  },
  {
   "cell_type": "code",
   "execution_count": 38,
   "id": "5c635971",
   "metadata": {},
   "outputs": [],
   "source": [
    "homonyms_df['spacy_distance'] = results_spacy\n"
   ]
  },
  {
   "cell_type": "code",
   "execution_count": 39,
   "id": "92734f1f",
   "metadata": {},
   "outputs": [
    {
     "data": {
      "text/html": [
       "<div>\n",
       "<style scoped>\n",
       "    .dataframe tbody tr th:only-of-type {\n",
       "        vertical-align: middle;\n",
       "    }\n",
       "\n",
       "    .dataframe tbody tr th {\n",
       "        vertical-align: top;\n",
       "    }\n",
       "\n",
       "    .dataframe thead th {\n",
       "        text-align: right;\n",
       "    }\n",
       "</style>\n",
       "<table border=\"1\" class=\"dataframe\">\n",
       "  <thead>\n",
       "    <tr style=\"text-align: right;\">\n",
       "      <th></th>\n",
       "      <th>Unnamed: 0</th>\n",
       "      <th>Hypernym</th>\n",
       "      <th>Hyponym</th>\n",
       "      <th>Frequency</th>\n",
       "      <th>word1</th>\n",
       "      <th>word2</th>\n",
       "      <th>relation</th>\n",
       "      <th>label</th>\n",
       "      <th>wordnet_distance</th>\n",
       "      <th>spacy_distance</th>\n",
       "    </tr>\n",
       "  </thead>\n",
       "  <tbody>\n",
       "    <tr>\n",
       "      <th>0</th>\n",
       "      <td>0</td>\n",
       "      <td>home appliance</td>\n",
       "      <td>mobile robot</td>\n",
       "      <td>15</td>\n",
       "      <td>home appliance</td>\n",
       "      <td>mobile robot</td>\n",
       "      <td>rhyper</td>\n",
       "      <td>-1</td>\n",
       "      <td>0.00</td>\n",
       "      <td>0.240535</td>\n",
       "    </tr>\n",
       "    <tr>\n",
       "      <th>1</th>\n",
       "      <td>1</td>\n",
       "      <td>computer network</td>\n",
       "      <td>the Internet</td>\n",
       "      <td>10</td>\n",
       "      <td>the Internet</td>\n",
       "      <td>computer network</td>\n",
       "      <td>hyper</td>\n",
       "      <td>1</td>\n",
       "      <td>0.00</td>\n",
       "      <td>0.347319</td>\n",
       "    </tr>\n",
       "    <tr>\n",
       "      <th>2</th>\n",
       "      <td>2</td>\n",
       "      <td>artificial intelligence</td>\n",
       "      <td>Deep learning</td>\n",
       "      <td>6</td>\n",
       "      <td>artificial intelligence</td>\n",
       "      <td>Deep learning</td>\n",
       "      <td>rhyper</td>\n",
       "      <td>-1</td>\n",
       "      <td>0.00</td>\n",
       "      <td>0.634018</td>\n",
       "    </tr>\n",
       "    <tr>\n",
       "      <th>3</th>\n",
       "      <td>3</td>\n",
       "      <td>electronic device</td>\n",
       "      <td>electronic component</td>\n",
       "      <td>4</td>\n",
       "      <td>electronic device</td>\n",
       "      <td>electronic component</td>\n",
       "      <td>rhyper</td>\n",
       "      <td>-1</td>\n",
       "      <td>0.00</td>\n",
       "      <td>0.596317</td>\n",
       "    </tr>\n",
       "    <tr>\n",
       "      <th>4</th>\n",
       "      <td>4</td>\n",
       "      <td>storage device</td>\n",
       "      <td>hard disk</td>\n",
       "      <td>4</td>\n",
       "      <td>storage device</td>\n",
       "      <td>hard disk</td>\n",
       "      <td>rhyper</td>\n",
       "      <td>-1</td>\n",
       "      <td>0.89</td>\n",
       "      <td>0.522611</td>\n",
       "    </tr>\n",
       "  </tbody>\n",
       "</table>\n",
       "</div>"
      ],
      "text/plain": [
       "   Unnamed: 0                 Hypernym               Hyponym  Frequency  \\\n",
       "0           0           home appliance          mobile robot         15   \n",
       "1           1         computer network          the Internet         10   \n",
       "2           2  artificial intelligence         Deep learning          6   \n",
       "3           3        electronic device  electronic component          4   \n",
       "4           4           storage device             hard disk          4   \n",
       "\n",
       "                     word1                 word2 relation  label  \\\n",
       "0           home appliance          mobile robot   rhyper     -1   \n",
       "1             the Internet      computer network    hyper      1   \n",
       "2  artificial intelligence         Deep learning   rhyper     -1   \n",
       "3        electronic device  electronic component   rhyper     -1   \n",
       "4           storage device             hard disk   rhyper     -1   \n",
       "\n",
       "   wordnet_distance  spacy_distance  \n",
       "0              0.00        0.240535  \n",
       "1              0.00        0.347319  \n",
       "2              0.00        0.634018  \n",
       "3              0.00        0.596317  \n",
       "4              0.89        0.522611  "
      ]
     },
     "execution_count": 39,
     "metadata": {},
     "output_type": "execute_result"
    }
   ],
   "source": [
    "homonyms_df.head()\n"
   ]
  },
  {
   "cell_type": "markdown",
   "id": "6b3edec3",
   "metadata": {},
   "source": [
    "#### 📜 Wikidata"
   ]
  },
  {
   "cell_type": "code",
   "execution_count": 40,
   "id": "fa68dfb9",
   "metadata": {},
   "outputs": [],
   "source": [
    "from qwikidata.entity import WikidataItem, WikidataLexeme, WikidataProperty\n",
    "from qwikidata.linked_data_interface import get_entity_dict_from_api\n",
    "from qwikidata.sparql import (get_subclasses_of_item,\n",
    "                              return_sparql_query_results)\n",
    "import wptools\n"
   ]
  },
  {
   "cell_type": "markdown",
   "id": "8fa034de",
   "metadata": {},
   "source": [
    "Here we are using wptools to find the page of the term and extract the ID."
   ]
  },
  {
   "cell_type": "code",
   "execution_count": 41,
   "id": "3e4418a9",
   "metadata": {},
   "outputs": [
    {
     "name": "stderr",
     "output_type": "stream",
     "text": [
      "en.wikipedia.org (parse) computer\n"
     ]
    },
    {
     "data": {
      "text/plain": [
       "'Q68'"
      ]
     },
     "execution_count": 41,
     "metadata": {},
     "output_type": "execute_result"
    }
   ],
   "source": [
    "parent_name = \"computer\"\n",
    "candidate_name = \"iPad\"\n",
    "\n",
    "# get Wikidata item for parent\n",
    "page = wptools.page(parent_name)\n",
    "data = page.get_parse(show=False)\n",
    "q_parent_class = data.data['wikibase']\n",
    "q_parent_class\n"
   ]
  },
  {
   "cell_type": "code",
   "execution_count": 42,
   "id": "57d2cf85",
   "metadata": {},
   "outputs": [
    {
     "data": {
      "text/plain": [
       "3452"
      ]
     },
     "execution_count": 42,
     "metadata": {},
     "output_type": "execute_result"
    }
   ],
   "source": [
    "# use convenience function to get subclasses of an item as a list of item ids\n",
    "subclasses_list = get_subclasses_of_item(q_parent_class)\n",
    "len(subclasses_list)\n"
   ]
  },
  {
   "cell_type": "markdown",
   "id": "8eaa5cb3",
   "metadata": {},
   "source": [
    "Print sub-classes of the term"
   ]
  },
  {
   "cell_type": "code",
   "execution_count": 43,
   "id": "cb446b9b",
   "metadata": {},
   "outputs": [
    {
     "name": "stdout",
     "output_type": "stream",
     "text": [
      "computer\n",
      "personal computer\n",
      "IBM 704\n",
      "microcomputer\n",
      "analog computer\n"
     ]
    }
   ],
   "source": [
    "# print some of this classes\n",
    "for subclass in subclasses_list[:5]:\n",
    "    q42_dict = get_entity_dict_from_api(subclass)\n",
    "    print(WikidataItem(q42_dict).get_label())\n"
   ]
  },
  {
   "cell_type": "code",
   "execution_count": 44,
   "id": "2bf9175c",
   "metadata": {},
   "outputs": [
    {
     "name": "stderr",
     "output_type": "stream",
     "text": [
      "en.wikipedia.org (parse) iPad\n"
     ]
    },
    {
     "data": {
      "text/plain": [
       "'Q2796'"
      ]
     },
     "execution_count": 44,
     "metadata": {},
     "output_type": "execute_result"
    }
   ],
   "source": [
    "page = wptools.page(candidate_name)\n",
    "data = page.get_parse(show=False)\n",
    "data.data['wikibase']\n"
   ]
  },
  {
   "cell_type": "code",
   "execution_count": 45,
   "id": "b84baa20",
   "metadata": {},
   "outputs": [
    {
     "name": "stdout",
     "output_type": "stream",
     "text": [
      "Is class `computer` is a subclass of `iPad`:  True\n"
     ]
    }
   ],
   "source": [
    "print(f\"Is class `{parent_name}` is a subclass of `{candidate_name}`: \",\n",
    "      data.data['wikibase'] in subclasses_list)\n"
   ]
  },
  {
   "cell_type": "markdown",
   "id": "19a50c67",
   "metadata": {},
   "source": [
    "Run on our list of hypernyms"
   ]
  },
  {
   "cell_type": "code",
   "execution_count": 46,
   "id": "96deb48f",
   "metadata": {},
   "outputs": [],
   "source": [
    "def wikidata_is_subclass(word_1, word_2):\n",
    "    parent_name = word_1\n",
    "    candidate_name = word_2\n",
    "\n",
    "    # get Wikidata item for parent\n",
    "    page = wptools.page(parent_name)\n",
    "    try:\n",
    "        time.sleep(1)\n",
    "        data_parent = page.get_parse(show=False)\n",
    "    except:\n",
    "        print(f\"Could not find Wikidata item for `{parent_name}`\")\n",
    "        return \"⚠️\"\n",
    "    q_parent_id = data_parent.data['wikibase']\n",
    "\n",
    "    # get Wikidata item for candidate\n",
    "    page = wptools.page(candidate_name)\n",
    "    try:\n",
    "        time.sleep(1)\n",
    "        data_subclass = page.get_parse(show=False)\n",
    "    except:\n",
    "        print(f\"Could not find Wikidata item for `{candidate_name}`\")\n",
    "        return \"⚠️\"\n",
    "    q_subclass_id = data_subclass.data['wikibase']\n",
    "\n",
    "    # use convenience function to get subclasses of an item as a list of item ids\n",
    "    subclasses_list = get_subclasses_of_item(q_parent_id)\n",
    "\n",
    "    res = q_subclass_id in subclasses_list\n",
    "    if res:\n",
    "        return \"✅\"\n",
    "    else:\n",
    "        return \"❌\"\n"
   ]
  },
  {
   "cell_type": "code",
   "execution_count": null,
   "id": "78db3aeb",
   "metadata": {},
   "outputs": [],
   "source": [
    "# iterate throw homonyms_df\n",
    "wikidata_results = []\n",
    "for index, row in tqdm(homonyms_df.iterrows()):\n",
    "    if row[\"label\"] == -1:\n",
    "        parent = row['word1']\n",
    "        subclass = row['word2']\n",
    "    else:\n",
    "        parent = row['word2']\n",
    "        subclass = row['word1']\n",
    "\n",
    "    # pause for a bit to avoid hitting Wikidata API rate limit\n",
    "    time.sleep(index)\n",
    "    res = wikidata_is_subclass(parent, subclass)\n",
    "    wikidata_results.append(res)\n",
    "    print(parent, \"⬅️\", subclass, \": \", wikidata_is_subclass(parent, subclass))\n"
   ]
  },
  {
   "cell_type": "markdown",
   "id": "e8b9e9fe",
   "metadata": {},
   "source": [
    "Add results to the dataframe"
   ]
  },
  {
   "cell_type": "code",
   "execution_count": null,
   "id": "acb34a26",
   "metadata": {},
   "outputs": [],
   "source": [
    "homonyms_df['wikidata_is_subclass'] = wikidata_results\n",
    "homonyms_df"
   ]
  },
  {
   "cell_type": "markdown",
   "id": "0b2d0ab0",
   "metadata": {},
   "source": [
    "#### 💾 Save table"
   ]
  },
  {
   "cell_type": "code",
   "execution_count": null,
   "id": "512d17c4",
   "metadata": {},
   "outputs": [],
   "source": [
    "# create columns wordnet_is_subclass, fill with \"⚠️\" if not 0 or np.nan, otherwise fill with \"✅\" if wordnet_distance > 0.7, otherwise fill with \"❌\"\n",
    "homonyms_df['wordnet_is_subclass'] = homonyms_df['wordnet_distance'].apply(\n",
    "    lambda x: \"⚠️\" if x == 0 or np.isnan(x) else \"✅\" if x > 0.7 else \"❌\")\n",
    "\n",
    "# do the same for spacy\n",
    "homonyms_df['spacy_is_subclass'] = homonyms_df['spacy_distance'].apply(\n",
    "    lambda x: \"⚠️\" if x == 0 or np.isnan(x) else \"✅\" if x > 0.3 else \"❌\")\n",
    "\n",
    "\n",
    "homonyms_df\n"
   ]
  },
  {
   "cell_type": "code",
   "execution_count": null,
   "id": "a7d553a1",
   "metadata": {},
   "outputs": [],
   "source": [
    "homonyms_df[[\"label\", \"word1\", \"word2\",  \"wordnet_distance\", \"spacy_distance\", \"wordnet_is_subclass\",\n",
    "             \"spacy_is_subclass\", \"wikidata_is_subclass\"]].to_csv(\"./homonyms_results_detailed.csv\", index=False)\n"
   ]
  }
 ],
 "metadata": {
  "interpreter": {
   "hash": "699871839e1c28f0580e7fc2e38fa027ae9eff10cc3ccb1dbb0c1a4aca421727"
  },
  "kernelspec": {
   "display_name": "uni-env",
   "language": "python",
   "name": "python3"
  },
  "language_info": {
   "codemirror_mode": {
    "name": "ipython",
    "version": 3
   },
   "file_extension": ".py",
   "mimetype": "text/x-python",
   "name": "python",
   "nbconvert_exporter": "python",
   "pygments_lexer": "ipython3",
   "version": "3.9.12"
  }
 },
 "nbformat": 4,
 "nbformat_minor": 5
}
